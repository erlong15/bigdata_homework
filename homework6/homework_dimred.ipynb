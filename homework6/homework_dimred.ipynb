{
 "cells": [
  {
   "cell_type": "markdown",
   "metadata": {},
   "source": [
    "<img src='pics/otus.png'>"
   ]
  },
  {
   "cell_type": "code",
   "execution_count": 49,
   "metadata": {
    "collapsed": true
   },
   "outputs": [],
   "source": [
    "from __future__ import print_function\n",
    "from collections import defaultdict\n",
    "import pandas as pd\n",
    "import numpy as np\n",
    "import matplotlib\n",
    "import pandas_profiling\n",
    "import matplotlib.pyplot as plt\n",
    "import matplotlib.cm as cm\n",
    "import seaborn as sns\n",
    "\n",
    "%matplotlib inline\n",
    "plt.rcParams[\"figure.figsize\"] = (15, 8)\n",
    "pd.options.display.float_format = '{:.2f}'.format"
   ]
  },
  {
   "cell_type": "code",
   "execution_count": 50,
   "metadata": {
    "collapsed": true
   },
   "outputs": [],
   "source": [
    "fn = 'orders.csv'"
   ]
  },
  {
   "cell_type": "code",
   "execution_count": 51,
   "metadata": {
    "collapsed": false
   },
   "outputs": [
    {
     "data": {
      "text/html": [
       "<div>\n",
       "<table border=\"1\" class=\"dataframe\">\n",
       "  <thead>\n",
       "    <tr style=\"text-align: right;\">\n",
       "      <th></th>\n",
       "      <th>DISCOUNT_VALUE</th>\n",
       "      <th>NAME</th>\n",
       "      <th>PRICE</th>\n",
       "      <th>QUANTITY</th>\n",
       "      <th>date_insert</th>\n",
       "      <th>discount</th>\n",
       "      <th>itemID</th>\n",
       "      <th>orderID</th>\n",
       "      <th>ordered_item_count</th>\n",
       "      <th>price</th>\n",
       "      <th>user_id</th>\n",
       "    </tr>\n",
       "  </thead>\n",
       "  <tbody>\n",
       "    <tr>\n",
       "      <th>0</th>\n",
       "      <td>23.55%</td>\n",
       "      <td>Хроники Амбера. Том 2</td>\n",
       "      <td>357.00</td>\n",
       "      <td>1</td>\n",
       "      <td>2017-03-19 22:25:20</td>\n",
       "      <td>110.00</td>\n",
       "      <td>169108</td>\n",
       "      <td>602051</td>\n",
       "      <td>1</td>\n",
       "      <td>527.00</td>\n",
       "      <td>911531</td>\n",
       "    </tr>\n",
       "    <tr>\n",
       "      <th>1</th>\n",
       "      <td>4.07%</td>\n",
       "      <td>Хроники Амбера. Том 1</td>\n",
       "      <td>448.00</td>\n",
       "      <td>1</td>\n",
       "      <td>2017-03-19 22:19:58</td>\n",
       "      <td>19.00</td>\n",
       "      <td>1394744</td>\n",
       "      <td>602047</td>\n",
       "      <td>1</td>\n",
       "      <td>618.00</td>\n",
       "      <td>911531</td>\n",
       "    </tr>\n",
       "    <tr>\n",
       "      <th>2</th>\n",
       "      <td>4.17%</td>\n",
       "      <td>Пищеводитель</td>\n",
       "      <td>414.00</td>\n",
       "      <td>1</td>\n",
       "      <td>2017-03-19 20:58:00</td>\n",
       "      <td>65.00</td>\n",
       "      <td>191276</td>\n",
       "      <td>602017</td>\n",
       "      <td>4</td>\n",
       "      <td>1503.00</td>\n",
       "      <td>911587</td>\n",
       "    </tr>\n",
       "    <tr>\n",
       "      <th>3</th>\n",
       "      <td>4.17%</td>\n",
       "      <td>Аудиокн. Мясников. &amp;quot;Ржавчина&amp;quot;: что д...</td>\n",
       "      <td>253.00</td>\n",
       "      <td>1</td>\n",
       "      <td>2017-03-19 20:58:00</td>\n",
       "      <td>65.00</td>\n",
       "      <td>157945</td>\n",
       "      <td>602017</td>\n",
       "      <td>4</td>\n",
       "      <td>1503.00</td>\n",
       "      <td>911587</td>\n",
       "    </tr>\n",
       "    <tr>\n",
       "      <th>4</th>\n",
       "      <td>4.09%</td>\n",
       "      <td>Инфекции. Как защитить себя и своего ребенка</td>\n",
       "      <td>422.00</td>\n",
       "      <td>1</td>\n",
       "      <td>2017-03-19 20:58:00</td>\n",
       "      <td>65.00</td>\n",
       "      <td>205173</td>\n",
       "      <td>602017</td>\n",
       "      <td>4</td>\n",
       "      <td>1503.00</td>\n",
       "      <td>911587</td>\n",
       "    </tr>\n",
       "  </tbody>\n",
       "</table>\n",
       "</div>"
      ],
      "text/plain": [
       "  DISCOUNT_VALUE                                               NAME  PRICE  \\\n",
       "0         23.55%                              Хроники Амбера. Том 2 357.00   \n",
       "1          4.07%                              Хроники Амбера. Том 1 448.00   \n",
       "2          4.17%                                       Пищеводитель 414.00   \n",
       "3          4.17%  Аудиокн. Мясников. &quot;Ржавчина&quot;: что д... 253.00   \n",
       "4          4.09%       Инфекции. Как защитить себя и своего ребенка 422.00   \n",
       "\n",
       "   QUANTITY          date_insert  discount   itemID  orderID  \\\n",
       "0         1  2017-03-19 22:25:20    110.00   169108   602051   \n",
       "1         1  2017-03-19 22:19:58     19.00  1394744   602047   \n",
       "2         1  2017-03-19 20:58:00     65.00   191276   602017   \n",
       "3         1  2017-03-19 20:58:00     65.00   157945   602017   \n",
       "4         1  2017-03-19 20:58:00     65.00   205173   602017   \n",
       "\n",
       "   ordered_item_count   price  user_id  \n",
       "0                   1  527.00   911531  \n",
       "1                   1  618.00   911531  \n",
       "2                   4 1503.00   911587  \n",
       "3                   4 1503.00   911587  \n",
       "4                   4 1503.00   911587  "
      ]
     },
     "execution_count": 51,
     "metadata": {},
     "output_type": "execute_result"
    }
   ],
   "source": [
    "df = pd.read_csv(fn)\n",
    "df.head(5)"
   ]
  },
  {
   "cell_type": "markdown",
   "metadata": {},
   "source": [
    "# 1. Провести EDA\n",
    "Просмотреть структуру данных, значения каждого признака, поискать особенности в признаках и в данных вцелом"
   ]
  },
  {
   "cell_type": "code",
   "execution_count": 52,
   "metadata": {
    "collapsed": true
   },
   "outputs": [],
   "source": [
    "\"\"\"\n",
    "формула рассчета изначальной цены за книгу (без скидки)\n",
    "\"\"\"\n",
    "def book_price(price, discount):\n",
    "    #price = nominal_price - (nominal_price/100) * discount\n",
    "    #price = nominal_price * (1 - discount/100)\n",
    "    nominal_price = price/(1 - discount/100)\n",
    "    return round(nominal_price)\n",
    "    "
   ]
  },
  {
   "cell_type": "code",
   "execution_count": null,
   "metadata": {
    "collapsed": true
   },
   "outputs": [],
   "source": []
  },
  {
   "cell_type": "code",
   "execution_count": 34,
   "metadata": {
    "collapsed": false
   },
   "outputs": [
    {
     "name": "stdout",
     "output_type": "stream",
     "text": [
      "329\n",
      "329\n"
     ]
    }
   ],
   "source": [
    "print(book_price(263,20.06))\n",
    "print(book_price(316,3.95))"
   ]
  },
  {
   "cell_type": "code",
   "execution_count": 53,
   "metadata": {
    "collapsed": false
   },
   "outputs": [
    {
     "name": "stdout",
     "output_type": "stream",
     "text": [
      "DISCOUNT_VALUE        553777\n",
      "NAME                  557811\n",
      "PRICE                 557818\n",
      "QUANTITY              557818\n",
      "date_insert           557818\n",
      "discount              557818\n",
      "itemID                557818\n",
      "orderID               557818\n",
      "ordered_item_count    557818\n",
      "price                 557818\n",
      "user_id               557818\n",
      "dtype: int64\n"
     ]
    },
    {
     "data": {
      "text/html": [
       "<div>\n",
       "<table border=\"1\" class=\"dataframe\">\n",
       "  <thead>\n",
       "    <tr style=\"text-align: right;\">\n",
       "      <th></th>\n",
       "      <th>PRICE</th>\n",
       "      <th>QUANTITY</th>\n",
       "      <th>discount</th>\n",
       "      <th>itemID</th>\n",
       "      <th>orderID</th>\n",
       "      <th>ordered_item_count</th>\n",
       "      <th>price</th>\n",
       "      <th>user_id</th>\n",
       "    </tr>\n",
       "  </thead>\n",
       "  <tbody>\n",
       "    <tr>\n",
       "      <th>count</th>\n",
       "      <td>557818.00</td>\n",
       "      <td>557818.00</td>\n",
       "      <td>557818.00</td>\n",
       "      <td>557818.00</td>\n",
       "      <td>557818.00</td>\n",
       "      <td>557818.00</td>\n",
       "      <td>557818.00</td>\n",
       "      <td>557818.00</td>\n",
       "    </tr>\n",
       "    <tr>\n",
       "      <th>mean</th>\n",
       "      <td>242.73</td>\n",
       "      <td>1.65</td>\n",
       "      <td>519.41</td>\n",
       "      <td>562126.66</td>\n",
       "      <td>662756.84</td>\n",
       "      <td>12.15</td>\n",
       "      <td>2797.27</td>\n",
       "      <td>641006.11</td>\n",
       "    </tr>\n",
       "    <tr>\n",
       "      <th>std</th>\n",
       "      <td>261.93</td>\n",
       "      <td>5.05</td>\n",
       "      <td>1032.42</td>\n",
       "      <td>557123.66</td>\n",
       "      <td>37746.44</td>\n",
       "      <td>19.61</td>\n",
       "      <td>7586.23</td>\n",
       "      <td>386439.17</td>\n",
       "    </tr>\n",
       "    <tr>\n",
       "      <th>min</th>\n",
       "      <td>0.00</td>\n",
       "      <td>1.00</td>\n",
       "      <td>-1963.00</td>\n",
       "      <td>131823.00</td>\n",
       "      <td>597731.00</td>\n",
       "      <td>1.00</td>\n",
       "      <td>1.00</td>\n",
       "      <td>3.00</td>\n",
       "    </tr>\n",
       "    <tr>\n",
       "      <th>25%</th>\n",
       "      <td>92.00</td>\n",
       "      <td>1.00</td>\n",
       "      <td>175.00</td>\n",
       "      <td>178533.00</td>\n",
       "      <td>630532.00</td>\n",
       "      <td>4.00</td>\n",
       "      <td>1053.00</td>\n",
       "      <td>194865.00</td>\n",
       "    </tr>\n",
       "    <tr>\n",
       "      <th>50%</th>\n",
       "      <td>185.74</td>\n",
       "      <td>1.00</td>\n",
       "      <td>313.00</td>\n",
       "      <td>196485.00</td>\n",
       "      <td>662686.00</td>\n",
       "      <td>7.00</td>\n",
       "      <td>1389.00</td>\n",
       "      <td>911644.00</td>\n",
       "    </tr>\n",
       "    <tr>\n",
       "      <th>75%</th>\n",
       "      <td>313.00</td>\n",
       "      <td>1.00</td>\n",
       "      <td>537.00</td>\n",
       "      <td>727802.00</td>\n",
       "      <td>694208.00</td>\n",
       "      <td>13.00</td>\n",
       "      <td>2276.40</td>\n",
       "      <td>948489.00</td>\n",
       "    </tr>\n",
       "    <tr>\n",
       "      <th>max</th>\n",
       "      <td>19792.18</td>\n",
       "      <td>500.00</td>\n",
       "      <td>23851.00</td>\n",
       "      <td>1787508.00</td>\n",
       "      <td>730392.00</td>\n",
       "      <td>277.00</td>\n",
       "      <td>386495.00</td>\n",
       "      <td>998104.00</td>\n",
       "    </tr>\n",
       "  </tbody>\n",
       "</table>\n",
       "</div>"
      ],
      "text/plain": [
       "          PRICE  QUANTITY  discount     itemID   orderID  ordered_item_count  \\\n",
       "count 557818.00 557818.00 557818.00  557818.00 557818.00           557818.00   \n",
       "mean     242.73      1.65    519.41  562126.66 662756.84               12.15   \n",
       "std      261.93      5.05   1032.42  557123.66  37746.44               19.61   \n",
       "min        0.00      1.00  -1963.00  131823.00 597731.00                1.00   \n",
       "25%       92.00      1.00    175.00  178533.00 630532.00                4.00   \n",
       "50%      185.74      1.00    313.00  196485.00 662686.00                7.00   \n",
       "75%      313.00      1.00    537.00  727802.00 694208.00               13.00   \n",
       "max    19792.18    500.00  23851.00 1787508.00 730392.00              277.00   \n",
       "\n",
       "          price   user_id  \n",
       "count 557818.00 557818.00  \n",
       "mean    2797.27 641006.11  \n",
       "std     7586.23 386439.17  \n",
       "min        1.00      3.00  \n",
       "25%     1053.00 194865.00  \n",
       "50%     1389.00 911644.00  \n",
       "75%     2276.40 948489.00  \n",
       "max   386495.00 998104.00  "
      ]
     },
     "execution_count": 53,
     "metadata": {},
     "output_type": "execute_result"
    }
   ],
   "source": [
    "print(df.count())\n",
    "df.describe()\n",
    "#df.sort_values(['NAME', 'date_insert']).head(5)"
   ]
  },
  {
   "cell_type": "code",
   "execution_count": 60,
   "metadata": {
    "collapsed": false
   },
   "outputs": [
    {
     "data": {
      "text/plain": [
       "PRICE                   1138.00\n",
       "QUANTITY                  24.00\n",
       "discount                3921.00\n",
       "itemID               1653516.00\n",
       "orderID               729047.00\n",
       "ordered_item_count       105.00\n",
       "price                  30031.27\n",
       "user_id               995314.83\n",
       "Name: 0.99, dtype: float64"
      ]
     },
     "execution_count": 60,
     "metadata": {},
     "output_type": "execute_result"
    }
   ],
   "source": [
    "df.quantile(q=0.99)"
   ]
  },
  {
   "cell_type": "markdown",
   "metadata": {},
   "source": [
    "Можем разделить покупателей на группы оптовых, которые берут больше 1 экземпляра книги и розничных"
   ]
  },
  {
   "cell_type": "code",
   "execution_count": 69,
   "metadata": {
    "collapsed": false
   },
   "outputs": [
    {
     "data": {
      "text/plain": [
       "QUANTITY     152.00\n",
       "PRICE      23533.51\n",
       "Name: 0.99, dtype: float64"
      ]
     },
     "execution_count": 69,
     "metadata": {},
     "output_type": "execute_result"
    }
   ],
   "source": [
    "#print(df[df['NAME'].isnull()])\n",
    "books_df = df.groupby(['NAME']).agg({'QUANTITY': 'sum', 'PRICE': 'sum'}).sort_values('QUANTITY', ascending=False)\n",
    "books_df.quantile(q=0.99)\n",
    "#df['NAME'] = df['NAME'].fillna('-')\n",
    "#df[df.NAME.str.match(r'[a-zA-Z]+')]"
   ]
  },
  {
   "cell_type": "markdown",
   "metadata": {},
   "source": [
    "1. нужно NaN значения DISCOUNT_VALUE привести к 0\n",
    "3. DISCOUNT_VALUE  привести к цифровому значению\n",
    "4. Добавить колонку book_price  где будет цена книги без скидки\n",
    "5. Разбить дату на поля: день недели, месяц, предпраздничный день (за неделю до праздника),\n",
    "6. Разбить имя книги на фразы"
   ]
  },
  {
   "cell_type": "markdown",
   "metadata": {},
   "source": [
    "# 2. Спланировать эксперимент \n",
    "\n",
    "Задача:\n",
    "* сегментация товаров + сегментация пользователей (по товарам, по поведению, скидкам и пр.)\n",
    "\n",
    "Дополнительнительные задачи (опционально, подумайте о них, могут появиться интересные идеи и находки):\n",
    "* поиск товаров-заменителей и товаров, дополняющих друг друга\n",
    "* поиск выбросов среди товаров\n",
    "* поиск выбросов среди заказов\n",
    "\n",
    "Эксперимент - составить план, по которому будет проделана исследовательская работа. Примерные пункты плана:\n",
    "* Составить первичный список признаков, необходимых для решения задачи\n",
    "* Сгенерировать список новых признаков, которые можно получить из данных\n",
    "* Применить понижение размерности для визуализации данных\n",
    "* Применить кластеризацию, визуализировать\n",
    "* Описание кластера\n",
    "* Любые другие пункты"
   ]
  },
  {
   "cell_type": "markdown",
   "metadata": {},
   "source": [
    "# 3. Выполнить подготовку данных для построения модели\n",
    "\n",
    "Выполнить необходимые преобразования данных"
   ]
  },
  {
   "cell_type": "code",
   "execution_count": 125,
   "metadata": {
    "collapsed": false
   },
   "outputs": [],
   "source": [
    "from collections import Counter\n",
    "docs = []\n",
    "word_count = Counter()\n",
    "descs_unique = pd.DataFrame(df['NAME'].unique(), columns=['NAME'])\n",
    "for idx, row in descs_unique.iterrows():\n",
    "    desc = row['NAME']\n",
    "    desc = desc.replace('\\xa0',' ').replace('&quot;','')\n",
    "    tokens = list(filter(lambda x: len(x) > 3, desc.split('. ')))\n",
    "    docs.append(Counter(tokens))\n",
    "    for t in tokens:\n",
    "        word_count[t] += 1"
   ]
  },
  {
   "cell_type": "code",
   "execution_count": null,
   "metadata": {
    "collapsed": true
   },
   "outputs": [],
   "source": []
  },
  {
   "cell_type": "code",
   "execution_count": 164,
   "metadata": {
    "collapsed": false
   },
   "outputs": [],
   "source": [
    "words_most = dict(word_count.most_common(300))\n",
    "docs_filtered = [{k: v for k, v in d.items() if k in words_most} for d in docs]\n"
   ]
  },
  {
   "cell_type": "code",
   "execution_count": 165,
   "metadata": {
    "collapsed": false
   },
   "outputs": [],
   "source": [
    "from sklearn.feature_extraction import DictVectorizer\n",
    "\n",
    "v = DictVectorizer(sparse=False)\n",
    "X = v.fit_transform(docs_filtered)\n"
   ]
  },
  {
   "cell_type": "code",
   "execution_count": 173,
   "metadata": {
    "collapsed": false
   },
   "outputs": [
    {
     "name": "stdout",
     "output_type": "stream",
     "text": [
      "(74633, 300)\n"
     ]
    },
    {
     "data": {
      "text/plain": [
       "21615"
      ]
     },
     "execution_count": 173,
     "metadata": {},
     "output_type": "execute_result"
    }
   ],
   "source": [
    "print(X.shape)\n",
    "np.count_nonzero(X)"
   ]
  },
  {
   "cell_type": "code",
   "execution_count": 172,
   "metadata": {
    "collapsed": false
   },
   "outputs": [
    {
     "data": {
      "text/plain": [
       "16445.359079632181"
      ]
     },
     "execution_count": 172,
     "metadata": {},
     "output_type": "execute_result"
    }
   ],
   "source": [
    "from sklearn.cluster import KMeans\n",
    "from sklearn.metrics import silhouette_score, silhouette_samples\n",
    "\n",
    "inertias = []\n",
    "silhs = []\n",
    "kmeans = KMeans(init='k-means++', n_clusters=15)\n",
    "kmeans.fit(X)\n",
    "clusters = kmeans.predict(X)\n",
    "kmeans.inertia_\n",
    "    "
   ]
  },
  {
   "cell_type": "code",
   "execution_count": 175,
   "metadata": {
    "collapsed": false
   },
   "outputs": [
    {
     "data": {
      "text/plain": [
       "[<matplotlib.lines.Line2D at 0x292440ec2e8>]"
      ]
     },
     "execution_count": 175,
     "metadata": {},
     "output_type": "execute_result"
    },
    {
     "data": {
      "image/png": "[encoded data removed]",
      "text/plain": [
       "<matplotlib.figure.Figure at 0x29244948a20>"
      ]
     },
     "metadata": {},
     "output_type": "display_data"
    }
   ],
   "source": [
    "from sklearn.decomposition import PCA\n",
    "pca = PCA()\n",
    "pca.fit(X)\n",
    "cumsum = np.cumsum(pca.explained_variance_ratio_)\n",
    "plt.plot(cumsum)"
   ]
  },
  {
   "cell_type": "code",
   "execution_count": 176,
   "metadata": {
    "collapsed": false
   },
   "outputs": [
    {
     "data": {
      "text/plain": [
       "(74633, 100)"
      ]
     },
     "execution_count": 176,
     "metadata": {},
     "output_type": "execute_result"
    }
   ],
   "source": [
    "pca = PCA(n_components=100)\n",
    "X_reduced = pca.fit_transform(X)\n",
    "X_reduced.shape"
   ]
  },
  {
   "cell_type": "code",
   "execution_count": 185,
   "metadata": {
    "collapsed": false
   },
   "outputs": [
    {
     "name": "stdout",
     "output_type": "stream",
     "text": [
      "11387.8324245\n"
     ]
    }
   ],
   "source": [
    "kmeans = KMeans(init='k-means++', n_clusters=15)\n",
    "kmeans.fit(X_reduced)\n",
    "clusters = kmeans.predict(X_reduced)\n",
    "print(kmeans.inertia_)\n"
   ]
  },
  {
   "cell_type": "code",
   "execution_count": 193,
   "metadata": {
    "collapsed": false
   },
   "outputs": [
    {
     "name": "stdout",
     "output_type": "stream",
     "text": [
      "[69017   608   182   494   310   344   379   992   545   217   286   267\n",
      "   339   391   262]\n"
     ]
    }
   ],
   "source": [
    "print(np.bincount(clusters))"
   ]
  },
  {
   "cell_type": "code",
   "execution_count": 187,
   "metadata": {
    "collapsed": false
   },
   "outputs": [
    {
     "name": "stdout",
     "output_type": "stream",
     "text": [
      "For n_clusters = 15 The average silhouette_score is : 0.840703002961\n"
     ]
    }
   ],
   "source": [
    "silhouette_avg = silhouette_score(X_reduced, clusters,sample_size=10000)\n",
    "print(\"For n_clusters =\", 15, \"The average silhouette_score is :\", silhouette_avg)\n"
   ]
  },
  {
   "cell_type": "code",
   "execution_count": 201,
   "metadata": {
    "collapsed": false
   },
   "outputs": [
    {
     "name": "stdout",
     "output_type": "stream",
     "text": [
      "                                                   NAME  cluster\n",
      "2192  Физика. Молекулярная физика. Термодинамика. Пр...       14\n",
      "2193  Физика. Механика. Профильный уровень. 10 класс...       14\n",
      "2725  Химия. Базовый уровень. 10 класс. Рабочая тетрадь       14\n",
      "2726  Химия. Базовый уровень. 10 класс. Тетрадь для ...       14\n",
      "5045      Экология. Базовый уровень. 10-11 кл. Учебник.       14\n",
      "                                                   NAME  cluster\n",
      "233   Контрольные работы к учебнику по английскому я...       13\n",
      "762   Немецкий язык как второй иностранный. 5 класс....       13\n",
      "763   Немецкий язык как второй иностранный. 5 класс....       13\n",
      "764   Немецкий язык как второй иностранный. 5 класс....       13\n",
      "1338         География. 5 класс. Диагностические работы       13\n",
      "                                                   NAME  cluster\n",
      "323   Итоговые комплексные работы в начальной школе....       12\n",
      "966   Полная хрестоматия для начальной школы. 3 клас...       12\n",
      "1898  Летние задания по русскому языку для повторени...       12\n",
      "2279  Летние задания по математике для повторения и ...       12\n",
      "2590  Тренировочные комплексные работы в начальной ш...       12\n"
     ]
    }
   ],
   "source": [
    "descs_unique['cluster'] = clusters.T\n",
    "print(descs_unique[descs_unique['cluster']==14].head(5))\n",
    "print(descs_unique[descs_unique['cluster']==13].head(5))\n",
    "print(descs_unique[descs_unique['cluster']==12].head(5))"
   ]
  },
  {
   "cell_type": "code",
   "execution_count": 222,
   "metadata": {
    "collapsed": false
   },
   "outputs": [
    {
     "data": {
      "text/plain": [
       "<matplotlib.axes._subplots.AxesSubplot at 0x2924d2259e8>"
      ]
     },
     "execution_count": 222,
     "metadata": {},
     "output_type": "execute_result"
    },
    {
     "data": {
      "image/png": "[encoded data removed]",
      "text/plain": [
       "<matplotlib.figure.Figure at 0x292447afe48>"
      ]
     },
     "metadata": {},
     "output_type": "display_data"
    }
   ],
   "source": [
    "descs_unique.groupby('cluster').count().plot.bar()\n"
   ]
  },
  {
   "cell_type": "code",
   "execution_count": 93,
   "metadata": {
    "collapsed": false
   },
   "outputs": [],
   "source": [
    "from sklearn.pipeline import make_union, make_pipeline\n",
    "from sklearn.preprocessing import FunctionTransformer, StandardScaler, Imputer, LabelEncoder\n",
    "\n",
    "def get_discount_num_and_price(df):\n",
    "    df['DISCOUNT_VALUE'] = df['DISCOUNT_VALUE'].replace('[\\%]','',regex=True).astype(float).fillna(0.0)\n",
    "    df['BOOK_PRICE'] = book_price(df['PRICE'], df['DISCOUNT_VALUE'])\n",
    "    #df[['PRICE','DISCOUNT_VALUE']].apply(lambda x: book_price(*x), axis=1)\n",
    "    return df    \n",
    "\n",
    "def get_name_col(df):\n",
    "    return df['NAME']\n",
    "\n",
    "#pipeline = make_union(*[\n",
    "#    make_pipeline(FunctionTransformer(get_discount_num_and_price, validate=False), Imputer(strategy='mean'), StandardScaler()),\n",
    "#])\n",
    "res_df = get_discount_num_and_price(df)                          "
   ]
  },
  {
   "cell_type": "code",
   "execution_count": 80,
   "metadata": {
    "collapsed": false
   },
   "outputs": [
    {
     "data": {
      "text/html": [
       "<div>\n",
       "<table border=\"1\" class=\"dataframe\">\n",
       "  <thead>\n",
       "    <tr style=\"text-align: right;\">\n",
       "      <th></th>\n",
       "      <th>DISCOUNT_VALUE</th>\n",
       "      <th>PRICE</th>\n",
       "      <th>QUANTITY</th>\n",
       "      <th>discount</th>\n",
       "      <th>itemID</th>\n",
       "      <th>orderID</th>\n",
       "      <th>ordered_item_count</th>\n",
       "      <th>price</th>\n",
       "      <th>user_id</th>\n",
       "      <th>BOOK_PRICE</th>\n",
       "    </tr>\n",
       "  </thead>\n",
       "  <tbody>\n",
       "    <tr>\n",
       "      <th>count</th>\n",
       "      <td>553777.00</td>\n",
       "      <td>557818.00</td>\n",
       "      <td>557818.00</td>\n",
       "      <td>557818.00</td>\n",
       "      <td>557818.00</td>\n",
       "      <td>557818.00</td>\n",
       "      <td>557818.00</td>\n",
       "      <td>557818.00</td>\n",
       "      <td>557818.00</td>\n",
       "      <td>553777.00</td>\n",
       "    </tr>\n",
       "    <tr>\n",
       "      <th>mean</th>\n",
       "      <td>17.85</td>\n",
       "      <td>242.73</td>\n",
       "      <td>1.65</td>\n",
       "      <td>519.41</td>\n",
       "      <td>562126.66</td>\n",
       "      <td>662756.84</td>\n",
       "      <td>12.15</td>\n",
       "      <td>2797.27</td>\n",
       "      <td>641006.11</td>\n",
       "      <td>295.23</td>\n",
       "    </tr>\n",
       "    <tr>\n",
       "      <th>std</th>\n",
       "      <td>11.20</td>\n",
       "      <td>261.93</td>\n",
       "      <td>5.05</td>\n",
       "      <td>1032.42</td>\n",
       "      <td>557123.66</td>\n",
       "      <td>37746.44</td>\n",
       "      <td>19.61</td>\n",
       "      <td>7586.23</td>\n",
       "      <td>386439.17</td>\n",
       "      <td>310.10</td>\n",
       "    </tr>\n",
       "    <tr>\n",
       "      <th>min</th>\n",
       "      <td>0.00</td>\n",
       "      <td>0.00</td>\n",
       "      <td>1.00</td>\n",
       "      <td>-1963.00</td>\n",
       "      <td>131823.00</td>\n",
       "      <td>597731.00</td>\n",
       "      <td>1.00</td>\n",
       "      <td>1.00</td>\n",
       "      <td>3.00</td>\n",
       "      <td>0.00</td>\n",
       "    </tr>\n",
       "    <tr>\n",
       "      <th>25%</th>\n",
       "      <td>7.88</td>\n",
       "      <td>92.00</td>\n",
       "      <td>1.00</td>\n",
       "      <td>175.00</td>\n",
       "      <td>178533.00</td>\n",
       "      <td>630532.00</td>\n",
       "      <td>4.00</td>\n",
       "      <td>1053.00</td>\n",
       "      <td>194865.00</td>\n",
       "      <td>115.00</td>\n",
       "    </tr>\n",
       "    <tr>\n",
       "      <th>50%</th>\n",
       "      <td>19.93</td>\n",
       "      <td>185.74</td>\n",
       "      <td>1.00</td>\n",
       "      <td>313.00</td>\n",
       "      <td>196485.00</td>\n",
       "      <td>662686.00</td>\n",
       "      <td>7.00</td>\n",
       "      <td>1389.00</td>\n",
       "      <td>911644.00</td>\n",
       "      <td>235.00</td>\n",
       "    </tr>\n",
       "    <tr>\n",
       "      <th>75%</th>\n",
       "      <td>24.24</td>\n",
       "      <td>313.00</td>\n",
       "      <td>1.00</td>\n",
       "      <td>537.00</td>\n",
       "      <td>727802.00</td>\n",
       "      <td>694208.00</td>\n",
       "      <td>13.00</td>\n",
       "      <td>2276.40</td>\n",
       "      <td>948489.00</td>\n",
       "      <td>375.00</td>\n",
       "    </tr>\n",
       "    <tr>\n",
       "      <th>max</th>\n",
       "      <td>94.02</td>\n",
       "      <td>19792.18</td>\n",
       "      <td>500.00</td>\n",
       "      <td>23851.00</td>\n",
       "      <td>1787508.00</td>\n",
       "      <td>730392.00</td>\n",
       "      <td>277.00</td>\n",
       "      <td>386495.00</td>\n",
       "      <td>998104.00</td>\n",
       "      <td>23846.00</td>\n",
       "    </tr>\n",
       "  </tbody>\n",
       "</table>\n",
       "</div>"
      ],
      "text/plain": [
       "       DISCOUNT_VALUE     PRICE  QUANTITY  discount     itemID   orderID  \\\n",
       "count       553777.00 557818.00 557818.00 557818.00  557818.00 557818.00   \n",
       "mean            17.85    242.73      1.65    519.41  562126.66 662756.84   \n",
       "std             11.20    261.93      5.05   1032.42  557123.66  37746.44   \n",
       "min              0.00      0.00      1.00  -1963.00  131823.00 597731.00   \n",
       "25%              7.88     92.00      1.00    175.00  178533.00 630532.00   \n",
       "50%             19.93    185.74      1.00    313.00  196485.00 662686.00   \n",
       "75%             24.24    313.00      1.00    537.00  727802.00 694208.00   \n",
       "max             94.02  19792.18    500.00  23851.00 1787508.00 730392.00   \n",
       "\n",
       "       ordered_item_count     price   user_id  BOOK_PRICE  \n",
       "count           557818.00 557818.00 557818.00   553777.00  \n",
       "mean                12.15   2797.27 641006.11      295.23  \n",
       "std                 19.61   7586.23 386439.17      310.10  \n",
       "min                  1.00      1.00      3.00        0.00  \n",
       "25%                  4.00   1053.00 194865.00      115.00  \n",
       "50%                  7.00   1389.00 911644.00      235.00  \n",
       "75%                 13.00   2276.40 948489.00      375.00  \n",
       "max                277.00 386495.00 998104.00    23846.00  "
      ]
     },
     "execution_count": 80,
     "metadata": {},
     "output_type": "execute_result"
    }
   ],
   "source": [
    "res_df.describe()"
   ]
  },
  {
   "cell_type": "code",
   "execution_count": null,
   "metadata": {
    "collapsed": true
   },
   "outputs": [],
   "source": [
    "res_df"
   ]
  },
  {
   "cell_type": "code",
   "execution_count": null,
   "metadata": {
    "collapsed": true
   },
   "outputs": [],
   "source": []
  },
  {
   "cell_type": "markdown",
   "metadata": {},
   "source": [
    "# 4. Провести построение модели "
   ]
  },
  {
   "cell_type": "markdown",
   "metadata": {},
   "source": [
    "# 5. Проанализировать результат\n",
    "получилось или нет, почему, что можно улучшить, можно ли интерпретировать результат"
   ]
  },
  {
   "cell_type": "markdown",
   "metadata": {},
   "source": [
    "# 6. Повторить при необходимости "
   ]
  },
  {
   "cell_type": "markdown",
   "metadata": {},
   "source": [
    "# Подсказки\n",
    "\n",
    "* Проводить EDA и работу с признаками на всем датасете\n",
    "* Для построения модели отсеивать данные тем или иным способом (обосновать выбор) - уменьшить объем данных для анализа\n",
    "* Оформлять для сдачи задания все эксперименты (в том числе неудачные). Так мы сможем увидеть процесс работы над заданием\n",
    "* Не тратить 90% времени на первый этап. Планировать время так, чтобы успеть поработать над моделью (в равной степени над каждым пунктом)."
   ]
  },
  {
   "cell_type": "code",
   "execution_count": null,
   "metadata": {
    "collapsed": true
   },
   "outputs": [],
   "source": []
  }
 ],
 "metadata": {
  "kernelspec": {
   "display_name": "Python 3",
   "language": "python",
   "name": "python3"
  },
  "language_info": {
   "codemirror_mode": {
    "name": "ipython",
    "version": 3
   },
   "file_extension": ".py",
   "mimetype": "text/x-python",
   "name": "python",
   "nbconvert_exporter": "python",
   "pygments_lexer": "ipython3",
   "version": "3.6.0"
  }
 },
 "nbformat": 4,
 "nbformat_minor": 2
}
