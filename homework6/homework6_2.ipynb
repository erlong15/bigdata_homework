{
 "cells": [
  {
   "cell_type": "code",
   "execution_count": 4,
   "metadata": {
    "collapsed": true
   },
   "outputs": [],
   "source": [
    "from __future__ import print_function\n",
    "from collections import defaultdict\n",
    "import pandas as pd\n",
    "import numpy as np\n",
    "import matplotlib\n",
    "import pandas_profiling\n",
    "import matplotlib.pyplot as plt\n",
    "import matplotlib.cm as cm\n",
    "import seaborn as sns\n",
    "\n",
    "%matplotlib inline\n",
    "plt.rcParams[\"figure.figsize\"] = (15, 8)\n",
    "pd.options.display.float_format = '{:.2f}'.format"
   ]
  },
  {
   "cell_type": "code",
   "execution_count": 5,
   "metadata": {
    "collapsed": false
   },
   "outputs": [],
   "source": [
    "fn = 'orders.csv'\n",
    "df = pd.read_csv(fn)"
   ]
  },
  {
   "cell_type": "code",
   "execution_count": 6,
   "metadata": {
    "collapsed": false
   },
   "outputs": [
    {
     "data": {
      "text/html": [
       "<div>\n",
       "<table border=\"1\" class=\"dataframe\">\n",
       "  <thead>\n",
       "    <tr style=\"text-align: right;\">\n",
       "      <th></th>\n",
       "      <th>DISCOUNT_VALUE</th>\n",
       "      <th>NAME</th>\n",
       "      <th>PRICE</th>\n",
       "      <th>QUANTITY</th>\n",
       "      <th>date_insert</th>\n",
       "      <th>discount</th>\n",
       "      <th>itemID</th>\n",
       "      <th>orderID</th>\n",
       "      <th>ordered_item_count</th>\n",
       "      <th>price</th>\n",
       "      <th>user_id</th>\n",
       "    </tr>\n",
       "  </thead>\n",
       "  <tbody>\n",
       "    <tr>\n",
       "      <th>83</th>\n",
       "      <td>NaN</td>\n",
       "      <td>История государства Российского</td>\n",
       "      <td>777.00</td>\n",
       "      <td>1</td>\n",
       "      <td>2017-03-19 03:21:08</td>\n",
       "      <td>-1277.00</td>\n",
       "      <td>196964</td>\n",
       "      <td>601703</td>\n",
       "      <td>2</td>\n",
       "      <td>1556.00</td>\n",
       "      <td>195867</td>\n",
       "    </tr>\n",
       "    <tr>\n",
       "      <th>84</th>\n",
       "      <td>NaN</td>\n",
       "      <td>100 любимых стихов и 100 любимых сказок для ма...</td>\n",
       "      <td>500.00</td>\n",
       "      <td>1</td>\n",
       "      <td>2017-03-19 03:21:08</td>\n",
       "      <td>-1277.00</td>\n",
       "      <td>191129</td>\n",
       "      <td>601703</td>\n",
       "      <td>2</td>\n",
       "      <td>1556.00</td>\n",
       "      <td>195867</td>\n",
       "    </tr>\n",
       "    <tr>\n",
       "      <th>190</th>\n",
       "      <td>NaN</td>\n",
       "      <td>Кыш, Двапортфеля и целая неделя. Кыш и я в Кры...</td>\n",
       "      <td>437.00</td>\n",
       "      <td>1</td>\n",
       "      <td>2017-03-18 11:15:09</td>\n",
       "      <td>-823.00</td>\n",
       "      <td>198440</td>\n",
       "      <td>601300</td>\n",
       "      <td>2</td>\n",
       "      <td>1102.00</td>\n",
       "      <td>910987</td>\n",
       "    </tr>\n",
       "    <tr>\n",
       "      <th>191</th>\n",
       "      <td>NaN</td>\n",
       "      <td>В Стране Вечных Каникул. Саша и Шура (вес: 640...</td>\n",
       "      <td>386.00</td>\n",
       "      <td>1</td>\n",
       "      <td>2017-03-18 11:15:09</td>\n",
       "      <td>-823.00</td>\n",
       "      <td>200733</td>\n",
       "      <td>601300</td>\n",
       "      <td>2</td>\n",
       "      <td>1102.00</td>\n",
       "      <td>910987</td>\n",
       "    </tr>\n",
       "    <tr>\n",
       "      <th>376</th>\n",
       "      <td>NaN</td>\n",
       "      <td>Первый учебник малыша. От 6 месяцев до 3 лет</td>\n",
       "      <td>376.00</td>\n",
       "      <td>1</td>\n",
       "      <td>2017-03-17 10:15:09</td>\n",
       "      <td>-564.00</td>\n",
       "      <td>204137</td>\n",
       "      <td>600758</td>\n",
       "      <td>2</td>\n",
       "      <td>843.00</td>\n",
       "      <td>910569</td>\n",
       "    </tr>\n",
       "  </tbody>\n",
       "</table>\n",
       "</div>"
      ],
      "text/plain": [
       "    DISCOUNT_VALUE                                               NAME  PRICE  \\\n",
       "83             NaN                    История государства Российского 777.00   \n",
       "84             NaN  100 любимых стихов и 100 любимых сказок для ма... 500.00   \n",
       "190            NaN  Кыш, Двапортфеля и целая неделя. Кыш и я в Кры... 437.00   \n",
       "191            NaN  В Стране Вечных Каникул. Саша и Шура (вес: 640... 386.00   \n",
       "376            NaN       Первый учебник малыша. От 6 месяцев до 3 лет 376.00   \n",
       "\n",
       "     QUANTITY          date_insert  discount  itemID  orderID  \\\n",
       "83          1  2017-03-19 03:21:08  -1277.00  196964   601703   \n",
       "84          1  2017-03-19 03:21:08  -1277.00  191129   601703   \n",
       "190         1  2017-03-18 11:15:09   -823.00  198440   601300   \n",
       "191         1  2017-03-18 11:15:09   -823.00  200733   601300   \n",
       "376         1  2017-03-17 10:15:09   -564.00  204137   600758   \n",
       "\n",
       "     ordered_item_count   price  user_id  \n",
       "83                    2 1556.00   195867  \n",
       "84                    2 1556.00   195867  \n",
       "190                   2 1102.00   910987  \n",
       "191                   2 1102.00   910987  \n",
       "376                   2  843.00   910569  "
      ]
     },
     "execution_count": 6,
     "metadata": {},
     "output_type": "execute_result"
    }
   ],
   "source": [
    "df[df['discount']<0].head(5)"
   ]
  },
  {
   "cell_type": "markdown",
   "metadata": {},
   "source": [
    "Задача - кластеризовать пользователей по признакам - \n",
    "* кол-во заказов, \n",
    "* кол-во купленных книг, \n",
    "* среднее/min/max кол-во книг в заказе, \n",
    "* средняя/min/max стоимость заказа, \n",
    "* средняя/min/max стоимость книги в заказе\n",
    "* средний/min/max размер скидки в процентах (предварительно перевести в флоат, заполнить пустые значения нулями)\n",
    "* суммарная стоимость"
   ]
  },
  {
   "cell_type": "markdown",
   "metadata": {},
   "source": [
    "    вычистим датасет от явных нарушений"
   ]
  },
  {
   "cell_type": "code",
   "execution_count": 7,
   "metadata": {
    "collapsed": false
   },
   "outputs": [
    {
     "data": {
      "text/html": [
       "<div>\n",
       "<table border=\"1\" class=\"dataframe\">\n",
       "  <thead>\n",
       "    <tr style=\"text-align: right;\">\n",
       "      <th></th>\n",
       "      <th>DISCOUNT_VALUE</th>\n",
       "      <th>PRICE</th>\n",
       "      <th>QUANTITY</th>\n",
       "      <th>discount</th>\n",
       "      <th>itemID</th>\n",
       "      <th>orderID</th>\n",
       "      <th>ordered_item_count</th>\n",
       "      <th>price</th>\n",
       "      <th>user_id</th>\n",
       "    </tr>\n",
       "  </thead>\n",
       "  <tbody>\n",
       "    <tr>\n",
       "      <th>count</th>\n",
       "      <td>557801.00</td>\n",
       "      <td>557801.00</td>\n",
       "      <td>557801.00</td>\n",
       "      <td>557801.00</td>\n",
       "      <td>557801.00</td>\n",
       "      <td>557801.00</td>\n",
       "      <td>557801.00</td>\n",
       "      <td>557801.00</td>\n",
       "      <td>557801.00</td>\n",
       "    </tr>\n",
       "    <tr>\n",
       "      <th>mean</th>\n",
       "      <td>17.72</td>\n",
       "      <td>242.66</td>\n",
       "      <td>1.65</td>\n",
       "      <td>519.42</td>\n",
       "      <td>562130.60</td>\n",
       "      <td>662757.87</td>\n",
       "      <td>12.15</td>\n",
       "      <td>2797.26</td>\n",
       "      <td>641013.09</td>\n",
       "    </tr>\n",
       "    <tr>\n",
       "      <th>std</th>\n",
       "      <td>11.26</td>\n",
       "      <td>260.45</td>\n",
       "      <td>5.05</td>\n",
       "      <td>1032.43</td>\n",
       "      <td>557124.10</td>\n",
       "      <td>37746.45</td>\n",
       "      <td>19.61</td>\n",
       "      <td>7586.31</td>\n",
       "      <td>386438.73</td>\n",
       "    </tr>\n",
       "    <tr>\n",
       "      <th>min</th>\n",
       "      <td>0.00</td>\n",
       "      <td>0.00</td>\n",
       "      <td>1.00</td>\n",
       "      <td>-1963.00</td>\n",
       "      <td>131823.00</td>\n",
       "      <td>597731.00</td>\n",
       "      <td>1.00</td>\n",
       "      <td>1.00</td>\n",
       "      <td>3.00</td>\n",
       "    </tr>\n",
       "    <tr>\n",
       "      <th>25%</th>\n",
       "      <td>7.04</td>\n",
       "      <td>92.00</td>\n",
       "      <td>1.00</td>\n",
       "      <td>175.00</td>\n",
       "      <td>178534.00</td>\n",
       "      <td>630533.00</td>\n",
       "      <td>4.00</td>\n",
       "      <td>1053.00</td>\n",
       "      <td>194841.00</td>\n",
       "    </tr>\n",
       "    <tr>\n",
       "      <th>50%</th>\n",
       "      <td>19.92</td>\n",
       "      <td>185.67</td>\n",
       "      <td>1.00</td>\n",
       "      <td>313.00</td>\n",
       "      <td>196485.00</td>\n",
       "      <td>662686.00</td>\n",
       "      <td>7.00</td>\n",
       "      <td>1389.00</td>\n",
       "      <td>911644.00</td>\n",
       "    </tr>\n",
       "    <tr>\n",
       "      <th>75%</th>\n",
       "      <td>24.16</td>\n",
       "      <td>313.00</td>\n",
       "      <td>1.00</td>\n",
       "      <td>537.00</td>\n",
       "      <td>727802.00</td>\n",
       "      <td>694208.00</td>\n",
       "      <td>13.00</td>\n",
       "      <td>2276.40</td>\n",
       "      <td>948489.00</td>\n",
       "    </tr>\n",
       "    <tr>\n",
       "      <th>max</th>\n",
       "      <td>94.02</td>\n",
       "      <td>19792.18</td>\n",
       "      <td>500.00</td>\n",
       "      <td>23851.00</td>\n",
       "      <td>1787508.00</td>\n",
       "      <td>730392.00</td>\n",
       "      <td>277.00</td>\n",
       "      <td>386495.00</td>\n",
       "      <td>998104.00</td>\n",
       "    </tr>\n",
       "  </tbody>\n",
       "</table>\n",
       "</div>"
      ],
      "text/plain": [
       "       DISCOUNT_VALUE     PRICE  QUANTITY  discount     itemID   orderID  \\\n",
       "count       557801.00 557801.00 557801.00 557801.00  557801.00 557801.00   \n",
       "mean            17.72    242.66      1.65    519.42  562130.60 662757.87   \n",
       "std             11.26    260.45      5.05   1032.43  557124.10  37746.45   \n",
       "min              0.00      0.00      1.00  -1963.00  131823.00 597731.00   \n",
       "25%              7.04     92.00      1.00    175.00  178534.00 630533.00   \n",
       "50%             19.92    185.67      1.00    313.00  196485.00 662686.00   \n",
       "75%             24.16    313.00      1.00    537.00  727802.00 694208.00   \n",
       "max             94.02  19792.18    500.00  23851.00 1787508.00 730392.00   \n",
       "\n",
       "       ordered_item_count     price   user_id  \n",
       "count           557801.00 557801.00 557801.00  \n",
       "mean                12.15   2797.26 641013.09  \n",
       "std                 19.61   7586.31 386438.73  \n",
       "min                  1.00      1.00      3.00  \n",
       "25%                  4.00   1053.00 194841.00  \n",
       "50%                  7.00   1389.00 911644.00  \n",
       "75%                 13.00   2276.40 948489.00  \n",
       "max                277.00 386495.00 998104.00  "
      ]
     },
     "execution_count": 7,
     "metadata": {},
     "output_type": "execute_result"
    }
   ],
   "source": [
    "df[df.duplicated()]\n",
    "df = df.drop_duplicates()\n",
    "df['DISCOUNT_VALUE'] = df['DISCOUNT_VALUE'].replace('[\\%]','',regex=True).astype(float).fillna(0.0)\n",
    "df=df.dropna(subset=[\"NAME\"])\n",
    "df.describe()"
   ]
  },
  {
   "cell_type": "code",
   "execution_count": 8,
   "metadata": {
    "collapsed": true
   },
   "outputs": [],
   "source": [
    "\"\"\"\n",
    "формула рассчета изначальной цены за книгу (без скидки)\n",
    "\"\"\"\n",
    "def book_price(price, discount):\n",
    "    #price = nominal_price - (nominal_price/100) * discount\n",
    "    #price = nominal_price * (1 - discount/100)\n",
    "    nominal_price = price/(1 - discount/100)\n",
    "    return round(nominal_price)"
   ]
  },
  {
   "cell_type": "markdown",
   "metadata": {},
   "source": [
    "Добавим столбец с изначальной ценой книги"
   ]
  },
  {
   "cell_type": "code",
   "execution_count": 9,
   "metadata": {
    "collapsed": true
   },
   "outputs": [],
   "source": [
    "df['BOOK_PRICE'] = book_price(df['PRICE'], df['DISCOUNT_VALUE'])"
   ]
  },
  {
   "cell_type": "markdown",
   "metadata": {},
   "source": [
    "Сгруппируем по клиенту, получив тем самым значения его затрат и скидок"
   ]
  },
  {
   "cell_type": "code",
   "execution_count": 10,
   "metadata": {
    "collapsed": false
   },
   "outputs": [
    {
     "data": {
      "text/html": [
       "<div>\n",
       "<table border=\"1\" class=\"dataframe\">\n",
       "  <thead>\n",
       "    <tr>\n",
       "      <th></th>\n",
       "      <th colspan=\"3\" halign=\"left\">DISCOUNT_VALUE</th>\n",
       "      <th colspan=\"3\" halign=\"left\">BOOK_PRICE</th>\n",
       "      <th colspan=\"4\" halign=\"left\">QUANTITY</th>\n",
       "      <th colspan=\"2\" halign=\"left\">price</th>\n",
       "    </tr>\n",
       "    <tr>\n",
       "      <th></th>\n",
       "      <th>min</th>\n",
       "      <th>max</th>\n",
       "      <th>mean</th>\n",
       "      <th>min</th>\n",
       "      <th>max</th>\n",
       "      <th>mean</th>\n",
       "      <th>min</th>\n",
       "      <th>max</th>\n",
       "      <th>mean</th>\n",
       "      <th>sum</th>\n",
       "      <th>sum</th>\n",
       "      <th>count</th>\n",
       "    </tr>\n",
       "    <tr>\n",
       "      <th>user_id</th>\n",
       "      <th></th>\n",
       "      <th></th>\n",
       "      <th></th>\n",
       "      <th></th>\n",
       "      <th></th>\n",
       "      <th></th>\n",
       "      <th></th>\n",
       "      <th></th>\n",
       "      <th></th>\n",
       "      <th></th>\n",
       "      <th></th>\n",
       "      <th></th>\n",
       "    </tr>\n",
       "  </thead>\n",
       "  <tbody>\n",
       "    <tr>\n",
       "      <th>3</th>\n",
       "      <td>3.85</td>\n",
       "      <td>45.08</td>\n",
       "      <td>36.36</td>\n",
       "      <td>156.00</td>\n",
       "      <td>558.00</td>\n",
       "      <td>442.58</td>\n",
       "      <td>1</td>\n",
       "      <td>8</td>\n",
       "      <td>1.37</td>\n",
       "      <td>26</td>\n",
       "      <td>41494.00</td>\n",
       "      <td>19</td>\n",
       "    </tr>\n",
       "    <tr>\n",
       "      <th>5</th>\n",
       "      <td>9.77</td>\n",
       "      <td>47.00</td>\n",
       "      <td>29.52</td>\n",
       "      <td>56.00</td>\n",
       "      <td>1649.00</td>\n",
       "      <td>358.42</td>\n",
       "      <td>1</td>\n",
       "      <td>2</td>\n",
       "      <td>1.01</td>\n",
       "      <td>134</td>\n",
       "      <td>200159.07</td>\n",
       "      <td>133</td>\n",
       "    </tr>\n",
       "    <tr>\n",
       "      <th>10</th>\n",
       "      <td>30.09</td>\n",
       "      <td>45.16</td>\n",
       "      <td>42.02</td>\n",
       "      <td>231.00</td>\n",
       "      <td>1447.00</td>\n",
       "      <td>496.70</td>\n",
       "      <td>1</td>\n",
       "      <td>1</td>\n",
       "      <td>1.00</td>\n",
       "      <td>10</td>\n",
       "      <td>10204.00</td>\n",
       "      <td>10</td>\n",
       "    </tr>\n",
       "    <tr>\n",
       "      <th>11</th>\n",
       "      <td>15.86</td>\n",
       "      <td>45.21</td>\n",
       "      <td>44.39</td>\n",
       "      <td>127.00</td>\n",
       "      <td>2950.00</td>\n",
       "      <td>533.93</td>\n",
       "      <td>1</td>\n",
       "      <td>2</td>\n",
       "      <td>1.02</td>\n",
       "      <td>46</td>\n",
       "      <td>63991.00</td>\n",
       "      <td>45</td>\n",
       "    </tr>\n",
       "    <tr>\n",
       "      <th>22</th>\n",
       "      <td>4.05</td>\n",
       "      <td>4.05</td>\n",
       "      <td>4.05</td>\n",
       "      <td>247.00</td>\n",
       "      <td>247.00</td>\n",
       "      <td>247.00</td>\n",
       "      <td>3</td>\n",
       "      <td>3</td>\n",
       "      <td>3.00</td>\n",
       "      <td>3</td>\n",
       "      <td>886.00</td>\n",
       "      <td>1</td>\n",
       "    </tr>\n",
       "  </tbody>\n",
       "</table>\n",
       "</div>"
      ],
      "text/plain": [
       "        DISCOUNT_VALUE             BOOK_PRICE                QUANTITY      \\\n",
       "                   min   max  mean        min     max   mean      min max   \n",
       "user_id                                                                     \n",
       "3                 3.85 45.08 36.36     156.00  558.00 442.58        1   8   \n",
       "5                 9.77 47.00 29.52      56.00 1649.00 358.42        1   2   \n",
       "10               30.09 45.16 42.02     231.00 1447.00 496.70        1   1   \n",
       "11               15.86 45.21 44.39     127.00 2950.00 533.93        1   2   \n",
       "22                4.05  4.05  4.05     247.00  247.00 247.00        3   3   \n",
       "\n",
       "                      price        \n",
       "        mean  sum       sum count  \n",
       "user_id                            \n",
       "3       1.37   26  41494.00    19  \n",
       "5       1.01  134 200159.07   133  \n",
       "10      1.00   10  10204.00    10  \n",
       "11      1.02   46  63991.00    45  \n",
       "22      3.00    3    886.00     1  "
      ]
     },
     "execution_count": 10,
     "metadata": {},
     "output_type": "execute_result"
    }
   ],
   "source": [
    "df_res = df.groupby('user_id').agg({'DISCOUNT_VALUE': ['min', 'max' , 'mean'],\n",
    "                           'BOOK_PRICE': ['min', 'max' , 'mean'],\n",
    "                           'QUANTITY': ['min', 'max' , 'mean', 'sum'],\n",
    "                           'price' : ['sum', 'count']\n",
    "                          })\n",
    "df_res.head(5)"
   ]
  },
  {
   "cell_type": "markdown",
   "metadata": {},
   "source": [
    "Приведем названия столбцов к плоской шкале"
   ]
  },
  {
   "cell_type": "code",
   "execution_count": 11,
   "metadata": {
    "collapsed": false
   },
   "outputs": [
    {
     "data": {
      "text/plain": [
       "Index(['discount_value_min', 'discount_value_max', 'discount_value_mean',\n",
       "       'book_price_min', 'book_price_max', 'book_price_mean', 'quantity_min',\n",
       "       'quantity_max', 'quantity_mean', 'quantity_sum', 'price_sum',\n",
       "       'price_count'],\n",
       "      dtype='object')"
      ]
     },
     "execution_count": 11,
     "metadata": {},
     "output_type": "execute_result"
    }
   ],
   "source": [
    "df_res.columns = ['_'.join(a).lower() for a in df_res.columns.tolist()]\n",
    "df_res.columns\n"
   ]
  },
  {
   "cell_type": "markdown",
   "metadata": {},
   "source": [
    "Уберем индексирования по user_id и признак его тоже использовать не будем"
   ]
  },
  {
   "cell_type": "code",
   "execution_count": 12,
   "metadata": {
    "collapsed": false
   },
   "outputs": [
    {
     "data": {
      "text/html": [
       "<div>\n",
       "<table border=\"1\" class=\"dataframe\">\n",
       "  <thead>\n",
       "    <tr style=\"text-align: right;\">\n",
       "      <th></th>\n",
       "      <th>user_id</th>\n",
       "      <th>discount_value_min</th>\n",
       "      <th>discount_value_max</th>\n",
       "      <th>discount_value_mean</th>\n",
       "      <th>book_price_min</th>\n",
       "      <th>book_price_max</th>\n",
       "      <th>book_price_mean</th>\n",
       "      <th>quantity_min</th>\n",
       "      <th>quantity_max</th>\n",
       "      <th>quantity_mean</th>\n",
       "      <th>quantity_sum</th>\n",
       "      <th>price_sum</th>\n",
       "      <th>price_count</th>\n",
       "    </tr>\n",
       "  </thead>\n",
       "  <tbody>\n",
       "    <tr>\n",
       "      <th>0</th>\n",
       "      <td>3</td>\n",
       "      <td>3.85</td>\n",
       "      <td>45.08</td>\n",
       "      <td>36.36</td>\n",
       "      <td>156.00</td>\n",
       "      <td>558.00</td>\n",
       "      <td>442.58</td>\n",
       "      <td>1</td>\n",
       "      <td>8</td>\n",
       "      <td>1.37</td>\n",
       "      <td>26</td>\n",
       "      <td>41494.00</td>\n",
       "      <td>19</td>\n",
       "    </tr>\n",
       "    <tr>\n",
       "      <th>1</th>\n",
       "      <td>5</td>\n",
       "      <td>9.77</td>\n",
       "      <td>47.00</td>\n",
       "      <td>29.52</td>\n",
       "      <td>56.00</td>\n",
       "      <td>1649.00</td>\n",
       "      <td>358.42</td>\n",
       "      <td>1</td>\n",
       "      <td>2</td>\n",
       "      <td>1.01</td>\n",
       "      <td>134</td>\n",
       "      <td>200159.07</td>\n",
       "      <td>133</td>\n",
       "    </tr>\n",
       "    <tr>\n",
       "      <th>2</th>\n",
       "      <td>10</td>\n",
       "      <td>30.09</td>\n",
       "      <td>45.16</td>\n",
       "      <td>42.02</td>\n",
       "      <td>231.00</td>\n",
       "      <td>1447.00</td>\n",
       "      <td>496.70</td>\n",
       "      <td>1</td>\n",
       "      <td>1</td>\n",
       "      <td>1.00</td>\n",
       "      <td>10</td>\n",
       "      <td>10204.00</td>\n",
       "      <td>10</td>\n",
       "    </tr>\n",
       "    <tr>\n",
       "      <th>3</th>\n",
       "      <td>11</td>\n",
       "      <td>15.86</td>\n",
       "      <td>45.21</td>\n",
       "      <td>44.39</td>\n",
       "      <td>127.00</td>\n",
       "      <td>2950.00</td>\n",
       "      <td>533.93</td>\n",
       "      <td>1</td>\n",
       "      <td>2</td>\n",
       "      <td>1.02</td>\n",
       "      <td>46</td>\n",
       "      <td>63991.00</td>\n",
       "      <td>45</td>\n",
       "    </tr>\n",
       "    <tr>\n",
       "      <th>4</th>\n",
       "      <td>22</td>\n",
       "      <td>4.05</td>\n",
       "      <td>4.05</td>\n",
       "      <td>4.05</td>\n",
       "      <td>247.00</td>\n",
       "      <td>247.00</td>\n",
       "      <td>247.00</td>\n",
       "      <td>3</td>\n",
       "      <td>3</td>\n",
       "      <td>3.00</td>\n",
       "      <td>3</td>\n",
       "      <td>886.00</td>\n",
       "      <td>1</td>\n",
       "    </tr>\n",
       "  </tbody>\n",
       "</table>\n",
       "</div>"
      ],
      "text/plain": [
       "   user_id  discount_value_min  discount_value_max  discount_value_mean  \\\n",
       "0        3                3.85               45.08                36.36   \n",
       "1        5                9.77               47.00                29.52   \n",
       "2       10               30.09               45.16                42.02   \n",
       "3       11               15.86               45.21                44.39   \n",
       "4       22                4.05                4.05                 4.05   \n",
       "\n",
       "   book_price_min  book_price_max  book_price_mean  quantity_min  \\\n",
       "0          156.00          558.00           442.58             1   \n",
       "1           56.00         1649.00           358.42             1   \n",
       "2          231.00         1447.00           496.70             1   \n",
       "3          127.00         2950.00           533.93             1   \n",
       "4          247.00          247.00           247.00             3   \n",
       "\n",
       "   quantity_max  quantity_mean  quantity_sum  price_sum  price_count  \n",
       "0             8           1.37            26   41494.00           19  \n",
       "1             2           1.01           134  200159.07          133  \n",
       "2             1           1.00            10   10204.00           10  \n",
       "3             2           1.02            46   63991.00           45  \n",
       "4             3           3.00             3     886.00            1  "
      ]
     },
     "execution_count": 12,
     "metadata": {},
     "output_type": "execute_result"
    }
   ],
   "source": [
    "features = df_res.columns\n",
    "df_res.reset_index(inplace=True)\n",
    "df_res.head(5)"
   ]
  },
  {
   "cell_type": "markdown",
   "metadata": {},
   "source": [
    "отмасштабируем и приведем к матричному виду"
   ]
  },
  {
   "cell_type": "code",
   "execution_count": 13,
   "metadata": {
    "collapsed": false
   },
   "outputs": [
    {
     "name": "stdout",
     "output_type": "stream",
     "text": [
      "(76258, 12)\n"
     ]
    },
    {
     "data": {
      "text/plain": [
       "array([[  5.13128082e-02,   4.79472453e-01,   4.84543025e-01,\n",
       "          7.24267608e-03,   2.33591948e-02,   2.05326365e-02,\n",
       "          0.00000000e+00,   1.40280561e-02,   9.23361034e-04,\n",
       "          5.68310980e-03,   1.30623277e-03,   8.09352518e-03],\n",
       "       [  1.30214581e-01,   4.99893640e-01,   3.93388509e-01,\n",
       "          2.59993500e-03,   6.91130216e-02,   1.66253429e-02,\n",
       "          0.00000000e+00,   2.00400802e-03,   1.88441027e-05,\n",
       "          3.02341441e-02,   6.30137662e-03,   5.93525180e-02],\n",
       "       [  4.01039584e-01,   4.80323335e-01,   5.60042650e-01,\n",
       "          1.07247319e-02,   6.06416440e-02,   2.30453758e-02,\n",
       "          0.00000000e+00,   0.00000000e+00,   0.00000000e+00,\n",
       "          2.04591953e-03,   3.21151104e-04,   4.04676259e-03]])"
      ]
     },
     "execution_count": 13,
     "metadata": {},
     "output_type": "execute_result"
    }
   ],
   "source": [
    "from sklearn.pipeline import make_union, make_pipeline\n",
    "from sklearn.preprocessing import MinMaxScaler\n",
    "\n",
    "scaler = MinMaxScaler()\n",
    "vec = scaler.fit_transform(df_res[features])\n",
    "print(vec.shape)\n",
    "vec[:3]"
   ]
  },
  {
   "cell_type": "markdown",
   "metadata": {},
   "source": [
    "проверим дисперсию "
   ]
  },
  {
   "cell_type": "code",
   "execution_count": 14,
   "metadata": {
    "collapsed": false
   },
   "outputs": [
    {
     "data": {
      "text/plain": [
       "[<matplotlib.lines.Line2D at 0x24f14678908>]"
      ]
     },
     "execution_count": 14,
     "metadata": {},
     "output_type": "execute_result"
    },
    {
     "data": {
      "image/png": "[encoded data removed]",
      "text/plain": [
       "<matplotlib.figure.Figure at 0x24f18d1f160>"
      ]
     },
     "metadata": {},
     "output_type": "display_data"
    }
   ],
   "source": [
    "from sklearn.decomposition import PCA\n",
    "pca = PCA()\n",
    "pca.fit(vec)\n",
    "cumsum = np.cumsum(pca.explained_variance_ratio_)\n",
    "plt.plot(cumsum)"
   ]
  },
  {
   "cell_type": "markdown",
   "metadata": {},
   "source": [
    "в принципе даже 2 признака покрывают 95% записей, возьмем 3 для большей точности"
   ]
  },
  {
   "cell_type": "code",
   "execution_count": 15,
   "metadata": {
    "collapsed": false
   },
   "outputs": [
    {
     "name": "stdout",
     "output_type": "stream",
     "text": [
      "(76258, 2)\n"
     ]
    },
    {
     "data": {
      "text/plain": [
       "array([[ 0.27887838,  0.25274575],\n",
       "       [ 0.27746568,  0.21437175],\n",
       "       [ 0.51510823,  0.0014289 ]])"
      ]
     },
     "execution_count": 15,
     "metadata": {},
     "output_type": "execute_result"
    }
   ],
   "source": [
    "pca = PCA(n_components=2)\n",
    "X_reduced = pca.fit_transform(vec)\n",
    "print(X_reduced.shape)\n",
    "X_reduced[:3]"
   ]
  },
  {
   "cell_type": "code",
   "execution_count": 16,
   "metadata": {
    "collapsed": false
   },
   "outputs": [
    {
     "name": "stdout",
     "output_type": "stream",
     "text": [
      "Estimated number of clusters: 9\n"
     ]
    }
   ],
   "source": [
    "from sklearn.cluster import DBSCAN\n",
    "from sklearn import metrics\n",
    "\n",
    "X = X_reduced\n",
    "# Compute DBSCAN\n",
    "db = DBSCAN(eps=0.03, min_samples=5).fit(X)\n",
    "core_samples_mask = np.zeros_like(db.labels_, dtype=bool)\n",
    "core_samples_mask[db.core_sample_indices_] = True\n",
    "labels = db.labels_\n",
    "\n",
    "# Number of clusters in labels, ignoring noise if present.\n",
    "n_clusters_ = len(set(labels)) - (1 if -1 in labels else 0)\n",
    "\n",
    "print('Estimated number of clusters: %d' % n_clusters_)\n",
    "#print(\"Homogeneity: %0.3f\" % metrics.homogeneity_score(labels_true, labels))\n",
    "#print(\"Completeness: %0.3f\" % metrics.completeness_score(labels_true, labels))\n",
    "#print(\"V-measure: %0.3f\" % metrics.v_measure_score(labels_true, labels))\n",
    "#print(\"Adjusted Rand Index: %0.3f\"\n",
    "#      % metrics.adjusted_rand_score(labels_true, labels))\n",
    "#print(\"Adjusted Mutual Information: %0.3f\"\n",
    "#      % metrics.adjusted_mutual_info_score(labels_true, labels))\n",
    "#print(\"Silhouette Coefficient: %0.3f\"\n",
    "#      % metrics.silhouette_score(X, labels))\n"
   ]
  },
  {
   "cell_type": "markdown",
   "metadata": {
    "collapsed": true
   },
   "source": [
    "Подбором параметров довели до кол-ва кластеров = 9"
   ]
  },
  {
   "cell_type": "code",
   "execution_count": 17,
   "metadata": {
    "collapsed": false
   },
   "outputs": [
    {
     "data": {
      "image/png": "[encoded data removed]",
      "text/plain": [
       "<matplotlib.figure.Figure at 0x24f0d9e0f98>"
      ]
     },
     "metadata": {},
     "output_type": "display_data"
    }
   ],
   "source": [
    "# Plot result\n",
    "import matplotlib.pyplot as plt\n",
    "\n",
    "# Black removed and is used for noise instead.\n",
    "unique_labels = set(labels)\n",
    "colors = [plt.cm.Spectral(each)\n",
    "          for each in np.linspace(0, 1, len(unique_labels))]\n",
    "for k, col in zip(unique_labels, colors):\n",
    "    if k == -1:\n",
    "        # Black used for noise.\n",
    "        col = [0, 0, 0, 1]\n",
    "\n",
    "    class_member_mask = (labels == k)\n",
    "\n",
    "    xy = X[class_member_mask & core_samples_mask]\n",
    "    plt.plot(xy[:, 0], xy[:, 1], 'o', markerfacecolor=tuple(col),\n",
    "             markeredgecolor='k', markersize=14)\n",
    "\n",
    "    xy = X[class_member_mask & ~core_samples_mask]\n",
    "    plt.plot(xy[:, 0], xy[:, 1], 'o', markerfacecolor=tuple(col),\n",
    "             markeredgecolor='k', markersize=6)\n",
    "\n",
    "plt.title('Estimated number of clusters: %d' % n_clusters_)\n",
    "plt.show()"
   ]
  },
  {
   "cell_type": "markdown",
   "metadata": {},
   "source": [
    "Полученный набор классов добавим в исследуемый сгруппированный датасет"
   ]
  },
  {
   "cell_type": "code",
   "execution_count": 18,
   "metadata": {
    "collapsed": false
   },
   "outputs": [],
   "source": [
    "df_res['class'] = db.labels_.reshape(-1,1)"
   ]
  },
  {
   "cell_type": "code",
   "execution_count": 19,
   "metadata": {
    "collapsed": false
   },
   "outputs": [
    {
     "data": {
      "text/html": [
       "<div>\n",
       "<table border=\"1\" class=\"dataframe\">\n",
       "  <thead>\n",
       "    <tr style=\"text-align: right;\">\n",
       "      <th></th>\n",
       "      <th>user_id</th>\n",
       "      <th>discount_value_min</th>\n",
       "      <th>discount_value_max</th>\n",
       "      <th>discount_value_mean</th>\n",
       "      <th>book_price_min</th>\n",
       "      <th>book_price_max</th>\n",
       "      <th>book_price_mean</th>\n",
       "      <th>quantity_min</th>\n",
       "      <th>quantity_max</th>\n",
       "      <th>quantity_mean</th>\n",
       "      <th>quantity_sum</th>\n",
       "      <th>price_sum</th>\n",
       "      <th>price_count</th>\n",
       "      <th>class</th>\n",
       "    </tr>\n",
       "  </thead>\n",
       "  <tbody>\n",
       "    <tr>\n",
       "      <th>0</th>\n",
       "      <td>3</td>\n",
       "      <td>3.85</td>\n",
       "      <td>45.08</td>\n",
       "      <td>36.36</td>\n",
       "      <td>156.00</td>\n",
       "      <td>558.00</td>\n",
       "      <td>442.58</td>\n",
       "      <td>1</td>\n",
       "      <td>8</td>\n",
       "      <td>1.37</td>\n",
       "      <td>26</td>\n",
       "      <td>41494.00</td>\n",
       "      <td>19</td>\n",
       "      <td>0</td>\n",
       "    </tr>\n",
       "    <tr>\n",
       "      <th>1</th>\n",
       "      <td>5</td>\n",
       "      <td>9.77</td>\n",
       "      <td>47.00</td>\n",
       "      <td>29.52</td>\n",
       "      <td>56.00</td>\n",
       "      <td>1649.00</td>\n",
       "      <td>358.42</td>\n",
       "      <td>1</td>\n",
       "      <td>2</td>\n",
       "      <td>1.01</td>\n",
       "      <td>134</td>\n",
       "      <td>200159.07</td>\n",
       "      <td>133</td>\n",
       "      <td>0</td>\n",
       "    </tr>\n",
       "    <tr>\n",
       "      <th>2</th>\n",
       "      <td>10</td>\n",
       "      <td>30.09</td>\n",
       "      <td>45.16</td>\n",
       "      <td>42.02</td>\n",
       "      <td>231.00</td>\n",
       "      <td>1447.00</td>\n",
       "      <td>496.70</td>\n",
       "      <td>1</td>\n",
       "      <td>1</td>\n",
       "      <td>1.00</td>\n",
       "      <td>10</td>\n",
       "      <td>10204.00</td>\n",
       "      <td>10</td>\n",
       "      <td>0</td>\n",
       "    </tr>\n",
       "    <tr>\n",
       "      <th>3</th>\n",
       "      <td>11</td>\n",
       "      <td>15.86</td>\n",
       "      <td>45.21</td>\n",
       "      <td>44.39</td>\n",
       "      <td>127.00</td>\n",
       "      <td>2950.00</td>\n",
       "      <td>533.93</td>\n",
       "      <td>1</td>\n",
       "      <td>2</td>\n",
       "      <td>1.02</td>\n",
       "      <td>46</td>\n",
       "      <td>63991.00</td>\n",
       "      <td>45</td>\n",
       "      <td>0</td>\n",
       "    </tr>\n",
       "    <tr>\n",
       "      <th>4</th>\n",
       "      <td>22</td>\n",
       "      <td>4.05</td>\n",
       "      <td>4.05</td>\n",
       "      <td>4.05</td>\n",
       "      <td>247.00</td>\n",
       "      <td>247.00</td>\n",
       "      <td>247.00</td>\n",
       "      <td>3</td>\n",
       "      <td>3</td>\n",
       "      <td>3.00</td>\n",
       "      <td>3</td>\n",
       "      <td>886.00</td>\n",
       "      <td>1</td>\n",
       "      <td>0</td>\n",
       "    </tr>\n",
       "  </tbody>\n",
       "</table>\n",
       "</div>"
      ],
      "text/plain": [
       "   user_id  discount_value_min  discount_value_max  discount_value_mean  \\\n",
       "0        3                3.85               45.08                36.36   \n",
       "1        5                9.77               47.00                29.52   \n",
       "2       10               30.09               45.16                42.02   \n",
       "3       11               15.86               45.21                44.39   \n",
       "4       22                4.05                4.05                 4.05   \n",
       "\n",
       "   book_price_min  book_price_max  book_price_mean  quantity_min  \\\n",
       "0          156.00          558.00           442.58             1   \n",
       "1           56.00         1649.00           358.42             1   \n",
       "2          231.00         1447.00           496.70             1   \n",
       "3          127.00         2950.00           533.93             1   \n",
       "4          247.00          247.00           247.00             3   \n",
       "\n",
       "   quantity_max  quantity_mean  quantity_sum  price_sum  price_count  class  \n",
       "0             8           1.37            26   41494.00           19      0  \n",
       "1             2           1.01           134  200159.07          133      0  \n",
       "2             1           1.00            10   10204.00           10      0  \n",
       "3             2           1.02            46   63991.00           45      0  \n",
       "4             3           3.00             3     886.00            1      0  "
      ]
     },
     "execution_count": 19,
     "metadata": {},
     "output_type": "execute_result"
    }
   ],
   "source": [
    "df_res.head(5)"
   ]
  },
  {
   "cell_type": "markdown",
   "metadata": {},
   "source": [
    "Оценим полученные группы по прибыльности и кол-ву человек"
   ]
  },
  {
   "cell_type": "code",
   "execution_count": 33,
   "metadata": {
    "collapsed": false
   },
   "outputs": [
    {
     "data": {
      "text/html": [
       "<div>\n",
       "<table border=\"1\" class=\"dataframe\">\n",
       "  <thead>\n",
       "    <tr style=\"text-align: right;\">\n",
       "      <th></th>\n",
       "      <th>price_sum</th>\n",
       "      <th>user_count</th>\n",
       "      <th>discount_mean</th>\n",
       "      <th>book_price_mean</th>\n",
       "      <th>book_count</th>\n",
       "    </tr>\n",
       "    <tr>\n",
       "      <th>class</th>\n",
       "      <th></th>\n",
       "      <th></th>\n",
       "      <th></th>\n",
       "      <th></th>\n",
       "      <th></th>\n",
       "    </tr>\n",
       "  </thead>\n",
       "  <tbody>\n",
       "    <tr>\n",
       "      <th>5</th>\n",
       "      <td>11966.40</td>\n",
       "      <td>12</td>\n",
       "      <td>39.94</td>\n",
       "      <td>238.04</td>\n",
       "      <td>55</td>\n",
       "    </tr>\n",
       "    <tr>\n",
       "      <th>8</th>\n",
       "      <td>16236.00</td>\n",
       "      <td>5</td>\n",
       "      <td>44.06</td>\n",
       "      <td>633.80</td>\n",
       "      <td>16</td>\n",
       "    </tr>\n",
       "    <tr>\n",
       "      <th>7</th>\n",
       "      <td>27216.00</td>\n",
       "      <td>7</td>\n",
       "      <td>74.96</td>\n",
       "      <td>434.02</td>\n",
       "      <td>62</td>\n",
       "    </tr>\n",
       "    <tr>\n",
       "      <th>6</th>\n",
       "      <td>324825.43</td>\n",
       "      <td>28</td>\n",
       "      <td>34.99</td>\n",
       "      <td>525.44</td>\n",
       "      <td>337</td>\n",
       "    </tr>\n",
       "    <tr>\n",
       "      <th>3</th>\n",
       "      <td>1276917.49</td>\n",
       "      <td>49</td>\n",
       "      <td>36.38</td>\n",
       "      <td>322.89</td>\n",
       "      <td>1007</td>\n",
       "    </tr>\n",
       "    <tr>\n",
       "      <th>-1</th>\n",
       "      <td>16891969.25</td>\n",
       "      <td>64</td>\n",
       "      <td>40.83</td>\n",
       "      <td>945.78</td>\n",
       "      <td>5942</td>\n",
       "    </tr>\n",
       "    <tr>\n",
       "      <th>2</th>\n",
       "      <td>22224918.16</td>\n",
       "      <td>3398</td>\n",
       "      <td>0.00</td>\n",
       "      <td>506.33</td>\n",
       "      <td>14375</td>\n",
       "    </tr>\n",
       "    <tr>\n",
       "      <th>1</th>\n",
       "      <td>22619236.00</td>\n",
       "      <td>1088</td>\n",
       "      <td>44.97</td>\n",
       "      <td>498.49</td>\n",
       "      <td>26196</td>\n",
       "    </tr>\n",
       "    <tr>\n",
       "      <th>4</th>\n",
       "      <td>54284793.57</td>\n",
       "      <td>212</td>\n",
       "      <td>25.51</td>\n",
       "      <td>272.04</td>\n",
       "      <td>14298</td>\n",
       "    </tr>\n",
       "    <tr>\n",
       "      <th>0</th>\n",
       "      <td>1442635506.25</td>\n",
       "      <td>71395</td>\n",
       "      <td>15.30</td>\n",
       "      <td>428.10</td>\n",
       "      <td>858490</td>\n",
       "    </tr>\n",
       "  </tbody>\n",
       "</table>\n",
       "</div>"
      ],
      "text/plain": [
       "          price_sum  user_count  discount_mean  book_price_mean  book_count\n",
       "class                                                                      \n",
       " 5         11966.40          12          39.94           238.04          55\n",
       " 8         16236.00           5          44.06           633.80          16\n",
       " 7         27216.00           7          74.96           434.02          62\n",
       " 6        324825.43          28          34.99           525.44         337\n",
       " 3       1276917.49          49          36.38           322.89        1007\n",
       "-1      16891969.25          64          40.83           945.78        5942\n",
       " 2      22224918.16        3398           0.00           506.33       14375\n",
       " 1      22619236.00        1088          44.97           498.49       26196\n",
       " 4      54284793.57         212          25.51           272.04       14298\n",
       " 0    1442635506.25       71395          15.30           428.10      858490"
      ]
     },
     "execution_count": 33,
     "metadata": {},
     "output_type": "execute_result"
    }
   ],
   "source": [
    "df_class = df_res.groupby('class').agg({'price_sum':'sum', 'user_id': 'count', 'discount_value_mean':'mean', \n",
    "                                        'book_price_mean':'mean', 'quantity_sum': 'sum' })\n",
    "\n",
    "df_class.columns = ['price_sum' , 'user_count', 'discount_mean', 'book_price_mean', 'book_count']\n",
    "df_class.sort_values('price_sum')"
   ]
  },
  {
   "cell_type": "markdown",
   "metadata": {
    "collapsed": false
   },
   "source": [
    "Можно выделить что есть ряд клиентов которые покупают вообще без скидок"
   ]
  },
  {
   "cell_type": "code",
   "execution_count": null,
   "metadata": {
    "collapsed": false
   },
   "outputs": [],
   "source": []
  },
  {
   "cell_type": "code",
   "execution_count": 36,
   "metadata": {
    "collapsed": false
   },
   "outputs": [
    {
     "data": {
      "text/plain": [
       "<matplotlib.colorbar.Colorbar at 0x24f1ad37e80>"
      ]
     },
     "execution_count": 36,
     "metadata": {},
     "output_type": "execute_result"
    },
    {
     "data": {
      "image/png": "[encoded data removed]",
      "text/plain": [
       "<matplotlib.figure.Figure at 0x24f19ae7208>"
      ]
     },
     "metadata": {},
     "output_type": "display_data"
    }
   ],
   "source": [
    "fig, ax = plt.subplots(1, 1)\n",
    "sc = plt.scatter(df_class['user_count'], df_class['book_count'], \n",
    "                 s=df_class['price_sum'] / 10000, \n",
    "                 c=df_class.index.values, \n",
    "                 alpha=0.5, cmap=plt.cm.get_cmap('viridis') )\n",
    "plt.colorbar(sc)"
   ]
  },
  {
   "cell_type": "markdown",
   "metadata": {},
   "source": [
    "соотношение кол-во проданных книг, кол-ва клиентов и затраченной суммы в каждом кластере"
   ]
  },
  {
   "cell_type": "code",
   "execution_count": 43,
   "metadata": {
    "collapsed": false
   },
   "outputs": [
    {
     "data": {
      "image/png": "[encoded data removed]",
      "text/plain": [
       "<matplotlib.figure.Figure at 0x24f1b315198>"
      ]
     },
     "metadata": {},
     "output_type": "display_data"
    }
   ],
   "source": [
    "ax = df_class.plot.bar(y=['user_count', 'book_count','price_sum'], figsize=(20,10))\n",
    "ax.legend([\"client count\", \"units sold\", \"profit\"])\n",
    "ax.set_xlabel(\"profit percent\")  \n",
    "plt.yscale('log')"
   ]
  },
  {
   "cell_type": "markdown",
   "metadata": {},
   "source": [
    "тоже самое но в процентном отношении"
   ]
  },
  {
   "cell_type": "code",
   "execution_count": 47,
   "metadata": {
    "collapsed": false
   },
   "outputs": [
    {
     "data": {
      "text/plain": [
       "price_sum         1560313584.55\n",
       "user_count             76258.00\n",
       "discount_mean            356.93\n",
       "book_price_mean         4804.93\n",
       "book_count            920778.00\n",
       "dtype: float64"
      ]
     },
     "execution_count": 47,
     "metadata": {},
     "output_type": "execute_result"
    }
   ],
   "source": [
    "sum_cols = df_class.sum()\n",
    "sum_cols"
   ]
  },
  {
   "cell_type": "code",
   "execution_count": 51,
   "metadata": {
    "collapsed": false
   },
   "outputs": [
    {
     "data": {
      "text/html": [
       "<div>\n",
       "<table border=\"1\" class=\"dataframe\">\n",
       "  <thead>\n",
       "    <tr style=\"text-align: right;\">\n",
       "      <th></th>\n",
       "      <th>price_sum</th>\n",
       "      <th>user_count</th>\n",
       "      <th>discount_mean</th>\n",
       "      <th>book_price_mean</th>\n",
       "      <th>book_count</th>\n",
       "    </tr>\n",
       "    <tr>\n",
       "      <th>class</th>\n",
       "      <th></th>\n",
       "      <th></th>\n",
       "      <th></th>\n",
       "      <th></th>\n",
       "      <th></th>\n",
       "    </tr>\n",
       "  </thead>\n",
       "  <tbody>\n",
       "    <tr>\n",
       "      <th>-1</th>\n",
       "      <td>1.08</td>\n",
       "      <td>0.08</td>\n",
       "      <td>11.44</td>\n",
       "      <td>19.68</td>\n",
       "      <td>0.65</td>\n",
       "    </tr>\n",
       "    <tr>\n",
       "      <th>0</th>\n",
       "      <td>92.46</td>\n",
       "      <td>93.62</td>\n",
       "      <td>4.29</td>\n",
       "      <td>8.91</td>\n",
       "      <td>93.24</td>\n",
       "    </tr>\n",
       "    <tr>\n",
       "      <th>1</th>\n",
       "      <td>1.45</td>\n",
       "      <td>1.43</td>\n",
       "      <td>12.60</td>\n",
       "      <td>10.37</td>\n",
       "      <td>2.84</td>\n",
       "    </tr>\n",
       "    <tr>\n",
       "      <th>2</th>\n",
       "      <td>1.42</td>\n",
       "      <td>4.46</td>\n",
       "      <td>0.00</td>\n",
       "      <td>10.54</td>\n",
       "      <td>1.56</td>\n",
       "    </tr>\n",
       "    <tr>\n",
       "      <th>3</th>\n",
       "      <td>0.08</td>\n",
       "      <td>0.06</td>\n",
       "      <td>10.19</td>\n",
       "      <td>6.72</td>\n",
       "      <td>0.11</td>\n",
       "    </tr>\n",
       "    <tr>\n",
       "      <th>4</th>\n",
       "      <td>3.48</td>\n",
       "      <td>0.28</td>\n",
       "      <td>7.15</td>\n",
       "      <td>5.66</td>\n",
       "      <td>1.55</td>\n",
       "    </tr>\n",
       "    <tr>\n",
       "      <th>5</th>\n",
       "      <td>0.00</td>\n",
       "      <td>0.02</td>\n",
       "      <td>11.19</td>\n",
       "      <td>4.95</td>\n",
       "      <td>0.01</td>\n",
       "    </tr>\n",
       "    <tr>\n",
       "      <th>6</th>\n",
       "      <td>0.02</td>\n",
       "      <td>0.04</td>\n",
       "      <td>9.80</td>\n",
       "      <td>10.94</td>\n",
       "      <td>0.04</td>\n",
       "    </tr>\n",
       "    <tr>\n",
       "      <th>7</th>\n",
       "      <td>0.00</td>\n",
       "      <td>0.01</td>\n",
       "      <td>21.00</td>\n",
       "      <td>9.03</td>\n",
       "      <td>0.01</td>\n",
       "    </tr>\n",
       "    <tr>\n",
       "      <th>8</th>\n",
       "      <td>0.00</td>\n",
       "      <td>0.01</td>\n",
       "      <td>12.35</td>\n",
       "      <td>13.19</td>\n",
       "      <td>0.00</td>\n",
       "    </tr>\n",
       "  </tbody>\n",
       "</table>\n",
       "</div>"
      ],
      "text/plain": [
       "       price_sum  user_count  discount_mean  book_price_mean  book_count\n",
       "class                                                                   \n",
       "-1          1.08        0.08          11.44            19.68        0.65\n",
       " 0         92.46       93.62           4.29             8.91       93.24\n",
       " 1          1.45        1.43          12.60            10.37        2.84\n",
       " 2          1.42        4.46           0.00            10.54        1.56\n",
       " 3          0.08        0.06          10.19             6.72        0.11\n",
       " 4          3.48        0.28           7.15             5.66        1.55\n",
       " 5          0.00        0.02          11.19             4.95        0.01\n",
       " 6          0.02        0.04           9.80            10.94        0.04\n",
       " 7          0.00        0.01          21.00             9.03        0.01\n",
       " 8          0.00        0.01          12.35            13.19        0.00"
      ]
     },
     "execution_count": 51,
     "metadata": {},
     "output_type": "execute_result"
    }
   ],
   "source": [
    "df_proc = df_class.apply(lambda x: x/(x.sum()/100))\n",
    "df_proc"
   ]
  },
  {
   "cell_type": "code",
   "execution_count": 55,
   "metadata": {
    "collapsed": false
   },
   "outputs": [
    {
     "data": {
      "image/png": "[encoded data removed]",
      "text/plain": [
       "<matplotlib.figure.Figure at 0x24f1b5fba58>"
      ]
     },
     "metadata": {},
     "output_type": "display_data"
    }
   ],
   "source": [
    "ax = df_proc.plot.bar(y=['user_count', 'book_count','price_sum'], figsize=(20,10))\n",
    "ax.legend([\"client count\", \"units sold\", \"profit\"])\n",
    "ax.set_xlabel(\"profit percent\")  \n",
    "plt.yscale('log')"
   ]
  },
  {
   "cell_type": "code",
   "execution_count": null,
   "metadata": {
    "collapsed": true
   },
   "outputs": [],
   "source": []
  }
 ],
 "metadata": {
  "kernelspec": {
   "display_name": "Python 3",
   "language": "python",
   "name": "python3"
  },
  "language_info": {
   "codemirror_mode": {
    "name": "ipython",
    "version": 3
   },
   "file_extension": ".py",
   "mimetype": "text/x-python",
   "name": "python",
   "nbconvert_exporter": "python",
   "pygments_lexer": "ipython3",
   "version": "3.6.0"
  }
 },
 "nbformat": 4,
 "nbformat_minor": 2
}
