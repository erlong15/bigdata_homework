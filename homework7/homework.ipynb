{
 "cells": [
  {
   "cell_type": "markdown",
   "metadata": {},
   "source": [
    "## Дерево решений"
   ]
  },
  {
   "cell_type": "markdown",
   "metadata": {},
   "source": [
    "Задание\n",
    "1. Там, где написано \"Ваш код\", нужно реализовать метод или часть метода\n",
    "2. Там, где написано \"Что делает этот блок кода?\", нужно разобраться в блоке кода и в комментарии написать, что он делает\n",
    "3. Добиться, чтобы в пункте \"Проверка скорости работы\" Ваша реализация работала чуть быстрее, чем у дерева из sklearn (это возможно, так как мы реализуем только малую часть функциональности)\n",
    "4. Добиться, чтобы в пункте \"Проверка качества работы\" Ваша реализация работала так же или качественнее, чем у дерева из sklearn\n",
    "5. Применить реализованное дерево решений для задачи Titanic на kaggle. Применить для той же задачи дерево решений из sklearn. Применить кросс-валидацию для подбора параметров. Сравнить с результатами предыдущих моделей. Если результат улучшился - сделать сабмит. Написать отчет о результатах."
   ]
  },
  {
   "cell_type": "code",
   "execution_count": 274,
   "metadata": {
    "collapsed": false
   },
   "outputs": [],
   "source": [
    "from time import time\n",
    "\n",
    "import matplotlib.pyplot as plt\n",
    "import numpy as np\n",
    "import pandas as pd\n",
    "\n",
    "from scipy import optimize\n",
    "from sklearn.metrics import accuracy_score\n",
    "from sklearn.model_selection import KFold\n",
    "from sklearn.tree import DecisionTreeClassifier\n",
    "\n",
    "%matplotlib inline"
   ]
  },
  {
   "cell_type": "markdown",
   "metadata": {},
   "source": [
    "реализация для понимания неопределенности gini"
   ]
  },
  {
   "cell_type": "code",
   "execution_count": 275,
   "metadata": {
    "collapsed": false
   },
   "outputs": [
    {
     "name": "stdout",
     "output_type": "stream",
     "text": [
      "[10]\n",
      "0.0\n",
      "-0.0\n",
      "0.0\n"
     ]
    }
   ],
   "source": [
    "def impurity_gini(node_classes):\n",
    "        cls_cnt = np.bincount(node_classes)\n",
    "        print(cls_cnt)\n",
    "        gini = 1 - ((cls_cnt/node_classes.shape[0])**2).sum()\n",
    "        return gini\n",
    "\n",
    "def entropy(node_classes):\n",
    "    cls_cnt = np.bincount(node_classes)\n",
    "    all_cnt = node_classes.shape[0]\n",
    "    p = cls_cnt/all_cnt\n",
    "    entropy = - np.sum(p*np.log2(p))\n",
    "    return entropy\n",
    "\n",
    "def misclass(node_classes):\n",
    "    cls_cnt = np.bincount(node_classes)\n",
    "    all_cnt = node_classes.shape[0]\n",
    "    p = cls_cnt/all_cnt\n",
    "    misclass = 1 - p.max()\n",
    "    return misclass\n",
    "\n",
    "classes = np.array([0,0,0,0,0,0,0,0,0,0])\n",
    "print(impurity_gini(classes))\n",
    "print(entropy(classes))\n",
    "print(misclass(classes))\n"
   ]
  },
  {
   "cell_type": "code",
   "execution_count": 276,
   "metadata": {
    "collapsed": true
   },
   "outputs": [],
   "source": [
    "import logging\n",
    "import sys\n",
    "logging.basicConfig(stream=sys.stdout, level=logging.DEBUG)\n",
    "logger = logging.getLogger('decision tree')\n",
    "logger.setLevel(logging.INFO)"
   ]
  },
  {
   "cell_type": "code",
   "execution_count": 277,
   "metadata": {
    "collapsed": false
   },
   "outputs": [],
   "source": [
    "class MyDecisionTreeClassifier:\n",
    "    NON_LEAF_TYPE = 0\n",
    "    LEAF_TYPE = 1\n",
    "\n",
    "    def __init__(self, min_samples_split=2, max_depth=10, sufficient_share=1.0, criterion='gini', max_features=None):\n",
    "        self.tree = dict()\n",
    "        # на сколько частей делим\n",
    "        self.min_samples_split = min_samples_split\n",
    "        # максимальная глубина\n",
    "        self.max_depth = max_depth\n",
    "        self.sufficient_share = sufficient_share\n",
    "        self.num_class = -1\n",
    "        \n",
    "        # функция Information Gain\n",
    "        if criterion == 'gini':\n",
    "            self.G_function = self.__gini\n",
    "        elif criterion == 'entropy':\n",
    "            self.G_function = self.__entropy\n",
    "        elif criterion == 'misclass':\n",
    "            self.G_function = self.__misclass\n",
    "        else:\n",
    "            logger.debug('invalid criterion name')\n",
    "            raise\n",
    "\n",
    "        if max_features == 'sqrt':\n",
    "            self.get_feature_ids = self.__get_feature_ids_sqrt\n",
    "        elif max_features == 'log2':\n",
    "            self.get_feature_ids = self.__get_feature_ids_log2\n",
    "        elif max_features == None:\n",
    "            self.get_feature_ids = self.__get_feature_ids_N\n",
    "        else:\n",
    "            logger.debug('invalid max_features name')\n",
    "            raise\n",
    "\n",
    "    def __gini(self, l_c, l_s, r_c, r_s):\n",
    "        l_s = l_s.astype('float')\n",
    "        r_s = r_s.astype('float')\n",
    "        p_l = l_s/(l_s + r_s)\n",
    "        p_r = r_s/(l_s + r_s)\n",
    "        gini_parent = 1- (((l_c + r_c)/(l_s + r_s))**2).sum(axis=1)\n",
    "        logger.debug(['p_l, p_r', p_l, p_r])\n",
    "        gini_left = 1-((l_c/l_s)**2).sum(axis=1)\n",
    "        gini_right = 1-((r_c/r_s)**2).sum(axis=1)\n",
    "        logger.debug(['gini left',  gini_left])\n",
    "        logger.debug(['gini right',  gini_right])\n",
    "        logger.debug(['gini parent',  gini_parent])\n",
    "        logger.debug(['p_l, p_r',  p_l, p_r])\n",
    "        IG = gini_parent - p_l.T*gini_left - p_r.T*gini_right\n",
    "        logger.debug(IG)\n",
    "        return IG.T\n",
    "       \n",
    "    def __entropy(self, l_c, l_s, r_c, r_s):\n",
    "        return # Ваш код \n",
    "\n",
    "    def __misclass(self, l_c, l_s, r_c, r_s):\n",
    "        return # Ваш код\n",
    "\n",
    "    def __get_feature_ids_sqrt(self, n_feature):\n",
    "        feature_ids = np.arange(n_feature)\n",
    "        np.random.shuffle(feature_ids)\n",
    "        return feature_ids[:int(sqrt(n_feature))]\n",
    "        \n",
    "    def __get_feature_ids_log2(self, n_feature):\n",
    "        feature_ids = np.arange(n_feature)\n",
    "        np.random.shuffle(feature_ids)\n",
    "        return feature_ids[:int(log2(n_feature))]\n",
    "\n",
    "    def __get_feature_ids_N(self, n_feature):\n",
    "        feature_ids = np.arange(n_feature)\n",
    "        np.random.shuffle(feature_ids)\n",
    "        return feature_ids\n",
    "    \n",
    "    def __sort_samples(self, x, y):\n",
    "        sorted_idx = x.argsort()\n",
    "        if len(x) != len(y):\n",
    "            print([x.shape, y.shape])\n",
    "        return x[sorted_idx], y[sorted_idx]\n",
    "\n",
    "    def __div_samples(self, x, y, feature_id, threshold):\n",
    "        try:\n",
    "            left_mask = x[:, feature_id] > threshold\n",
    "            right_mask = ~left_mask\n",
    "        except:\n",
    "            print([x[:, feature_id], threshold])\n",
    "        return x[left_mask], x[right_mask], y[left_mask], y[right_mask]\n",
    "\n",
    "    def __find_threshold(self, x, y):\n",
    "        #получаем значения x и y  отсортированных по x - под x  подразумевается одна фича\n",
    "        # сортировка нужна чтобы одинаковые слуовия х оказались рядом\n",
    "        sorted_x, sorted_y = self.__sort_samples(x, y)\n",
    "        # считаем число уникальных y - наших классов\n",
    "        class_number = np.unique(y).shape[0]\n",
    "        \n",
    "        logger.debug(['sorted_x = ', sorted_x])\n",
    "        logger.debug(['sorted_y = ', sorted_y])        \n",
    "        logger.debug(['class number ', class_number])\n",
    "        \n",
    "        \"\"\"\n",
    "        \n",
    "        # выделяем кусок  меж границами с минимальным кол-вом разбиений\n",
    "        splitted_sorted_y = sorted_y[self.min_samples_split:-self.min_samples_split]\n",
    "        # нахожим границы переходов между классами в массиве y\n",
    "        r_border_ids = np.where(splitted_sorted_y[:-1] != splitted_sorted_y[1:])[0] + (self.min_samples_split + 1)\n",
    "        \"\"\"\n",
    "        \"\"\"\n",
    "        разбиения не происходит при массиве из 4х элементов. например [1,1,1,0]\n",
    "        т.к. я не понял почему автор не хочет разбивать такие куски, задам свой кусок кода\n",
    "        \"\"\"\n",
    "        splitted_sorted_y = sorted_y\n",
    "        r_border_ids = np.where(splitted_sorted_y[:-1] != splitted_sorted_y[1:])[0] + 1\n",
    "        \n",
    "        logger.debug(['splitted_sorted_y = ', splitted_sorted_y])\n",
    "        logger.debug(['r_border_ids = ', r_border_ids])\n",
    "        \n",
    "        if len(r_border_ids) == 0:\n",
    "            return float('+inf'), None\n",
    "        \n",
    "        # считаем кол-во одинаковых элементов  и получаем массив с указанием кол-ва эл]ементов превалирующего класса\n",
    "        eq_el_count = r_border_ids - np.append([self.min_samples_split], r_border_ids[:-1])\n",
    "        one_hot_code = np.zeros((r_border_ids.shape[0], class_number))\n",
    "        one_hot_code[np.arange(r_border_ids.shape[0]), sorted_y[r_border_ids - 1]] = 1\n",
    "        class_increments = one_hot_code * eq_el_count.reshape(-1, 1)\n",
    "        class_increments[0] = class_increments[0] + np.bincount(sorted_y[:self.min_samples_split], minlength=class_number)\n",
    "\n",
    "        logger.debug(['eq_el_count=', eq_el_count])\n",
    "        logger.debug(['one_hot_code', one_hot_code])\n",
    "        logger.debug(['class_increments', class_increments])\n",
    "        \n",
    "        \n",
    "        # рассчитываем и получаем массивы с указанием класса и кол-ва элементов с каждой стороны\n",
    "        # и кол-во элементов с каждой стороны\n",
    "        \n",
    "        l_class_count = np.cumsum(class_increments, axis=0)        \n",
    "        r_class_count = np.bincount(y) - l_class_count\n",
    "        l_sizes = r_border_ids.reshape(l_class_count.shape[0], 1)\n",
    "        r_sizes = sorted_y.shape[0] - l_sizes\n",
    "        \n",
    "        logger.debug('l_class_count, r_class_count, l_sizes, r_sizes')\n",
    "        logger.debug([l_class_count, r_class_count, l_sizes, r_sizes])\n",
    "\n",
    "        # находим наилучший IG для разделения\n",
    "        gs = self.G_function(l_class_count, l_sizes, r_class_count, r_sizes)\n",
    "        idx = np.argmin(gs)\n",
    "        logger.debug(['gs', gs])\n",
    "        logger.debug(['idx, gsp[idx]:', idx, gs[idx]])\n",
    "    \n",
    "        # возвращаем найденный GS и условия для разделение (среднее значение между граничными элементами)\n",
    "        left_el_id = l_sizes[idx][0]\n",
    "        logger.debug(['left_el_id', left_el_id])\n",
    "        logger.debug(['returned', (sorted_x[left_el_id-1] + sorted_x[left_el_id]) / 2.0])\n",
    "        return gs[idx], (sorted_x[left_el_id-1] + sorted_x[left_el_id]) / 2.0\n",
    "\n",
    "    \n",
    "    def debug_threshold(self, x, y):\n",
    "        self.__find_threshold(x, y)\n",
    "        \n",
    "        \n",
    "    def __fit_node(self, x, y, node_id, depth, pred_f=-1):\n",
    "        # Ваш код\n",
    "        # Необходимо использовать следующее:\n",
    "        # self.LEAF_TYPE\n",
    "        # self.NON_LEAF_TYPE\n",
    "        \n",
    "\n",
    "        # self.tree\n",
    "        # self.max_depth\n",
    "        # self.sufficient_share\n",
    "        # self.min_samples_split\n",
    "        \n",
    "        #if len(y) < self.min_samples_split:\n",
    "            \n",
    "            \n",
    "        \n",
    "        \n",
    "        # если все у одного класса, считаем ноду листом\n",
    "        if np.unique(y).shape[0] == 1:\n",
    "            self.tree[node_id] = (self.LEAF_TYPE, y[0], 0)\n",
    "        elif self.max_depth == depth:\n",
    "            #print(node_id)\n",
    "            #print(y)\n",
    "            y_class = np.unique(y)[np.bincount(y).argmax()]\n",
    "            self.tree[node_id] = (self.LEAF_TYPE, y_class, 0)\n",
    "        else: # находим точку ветвления\n",
    "            \n",
    "            feature_threshold = []\n",
    "            \n",
    "            # для каждого признака находим варианты разбиения и сохраняем в единый массив\n",
    "            for idx in self.get_feature_ids(x.shape[1]):\n",
    "                ig, cond = self.__find_threshold(x[:,idx], y)\n",
    "                if cond is not None:\n",
    "                    feature_threshold.append([ig, cond, idx])\n",
    "            # находим строку с наибольшим IG\n",
    "            if feature_threshold == []:\n",
    "                print([x, y])\n",
    "            feature_threshold = np.array(feature_threshold)\n",
    "            ft_row = feature_threshold[:,0].argmax()\n",
    "            ig, threshold, feature_id = feature_threshold[ft_row]\n",
    "            \n",
    "            # сохраняем ноду\n",
    "            self.tree[node_id] = (self.NON_LEAF_TYPE, feature_id, threshold)\n",
    "            # разбиваем\n",
    "            if threshold is None:\n",
    "                print(feature_threshold)\n",
    "                print(self.tree[node_id])\n",
    "            x_left, x_right, y_left, y_right = self.__div_samples(x, y, feature_id, threshold) \n",
    "            if len(x_left)!=len(y_left) or len(x_right)!=len(y_right):\n",
    "                print([x_left.shape, x_right.shape, y_left.shape, y_right.shape])\n",
    "            \n",
    "            # повторяем для каждой ветви\n",
    "            if len(y_left) > 0:\n",
    "                self.__fit_node(x_left, y_left, 2 * node_id + 1, depth+1)\n",
    "            if len(y_right) > 0:\n",
    "                self.__fit_node(x_right, y_right, 2 * node_id + 2, depth+1)\n",
    "            \n",
    "    \n",
    "    def fit(self, x, y):\n",
    "        self.num_class = np.unique(y).size\n",
    "        self.__fit_node(x, y, 0, 0) \n",
    "\n",
    "    def __predict_class(self, x, node_id):\n",
    "        node = self.tree[node_id]\n",
    "        if node[0] == self.__class__.NON_LEAF_TYPE:\n",
    "            _, feature_id, threshold = node\n",
    "            if x[feature_id] > threshold:\n",
    "                return self.__predict_class(x, 2 * node_id + 1)\n",
    "            else:\n",
    "                return self.__predict_class(x, 2 * node_id + 2)\n",
    "        else:\n",
    "            return node[1]\n",
    "\n",
    "    def __predict_probs(self, x, node_id):\n",
    "        node = self.tree[node_id]\n",
    "        if node[0] == self.__class__.NON_LEAF_TYPE:\n",
    "            _, feature_id, threshold = node\n",
    "            if x[feature_id] > threshold:\n",
    "                return self.__predict_probs(x, 2 * node_id + 1)\n",
    "            else:\n",
    "                return self.__predict_probs(x, 2 * node_id + 2)\n",
    "        else:\n",
    "            return node[2]\n",
    "        \n",
    "    def predict(self, X):\n",
    "        return np.array([self.__predict_class(x, 0) for x in X])\n",
    "    \n",
    "    def predict_probs(self, X):\n",
    "        return np.array([self.__predict_probs(x, 0) for x in X])\n",
    "\n",
    "    def fit_predict(self, x_train, y_train, predicted_x):\n",
    "        self.fit(x_train, y_train)\n",
    "        return self.predict(predicted_x)"
   ]
  },
  {
   "cell_type": "code",
   "execution_count": 278,
   "metadata": {
    "collapsed": false
   },
   "outputs": [
    {
     "data": {
      "text/html": [
       "<div>\n",
       "<table border=\"1\" class=\"dataframe\">\n",
       "  <thead>\n",
       "    <tr style=\"text-align: right;\">\n",
       "      <th></th>\n",
       "      <th>SeriousDlqin2yrs</th>\n",
       "      <th>RevolvingUtilizationOfUnsecuredLines</th>\n",
       "      <th>age</th>\n",
       "      <th>NumberOfTime30-59DaysPastDueNotWorse</th>\n",
       "      <th>DebtRatio</th>\n",
       "      <th>MonthlyIncome</th>\n",
       "      <th>NumberOfOpenCreditLinesAndLoans</th>\n",
       "      <th>NumberOfTimes90DaysLate</th>\n",
       "      <th>NumberRealEstateLoansOrLines</th>\n",
       "      <th>NumberOfTime60-89DaysPastDueNotWorse</th>\n",
       "      <th>NumberOfDependents</th>\n",
       "    </tr>\n",
       "  </thead>\n",
       "  <tbody>\n",
       "    <tr>\n",
       "      <th>1</th>\n",
       "      <td>1</td>\n",
       "      <td>0.766127</td>\n",
       "      <td>45</td>\n",
       "      <td>2</td>\n",
       "      <td>0.802982</td>\n",
       "      <td>9120.0</td>\n",
       "      <td>13</td>\n",
       "      <td>0</td>\n",
       "      <td>6</td>\n",
       "      <td>0</td>\n",
       "      <td>2.0</td>\n",
       "    </tr>\n",
       "    <tr>\n",
       "      <th>2</th>\n",
       "      <td>0</td>\n",
       "      <td>0.957151</td>\n",
       "      <td>40</td>\n",
       "      <td>0</td>\n",
       "      <td>0.121876</td>\n",
       "      <td>2600.0</td>\n",
       "      <td>4</td>\n",
       "      <td>0</td>\n",
       "      <td>0</td>\n",
       "      <td>0</td>\n",
       "      <td>1.0</td>\n",
       "    </tr>\n",
       "    <tr>\n",
       "      <th>3</th>\n",
       "      <td>0</td>\n",
       "      <td>0.658180</td>\n",
       "      <td>38</td>\n",
       "      <td>1</td>\n",
       "      <td>0.085113</td>\n",
       "      <td>3042.0</td>\n",
       "      <td>2</td>\n",
       "      <td>1</td>\n",
       "      <td>0</td>\n",
       "      <td>0</td>\n",
       "      <td>0.0</td>\n",
       "    </tr>\n",
       "    <tr>\n",
       "      <th>4</th>\n",
       "      <td>0</td>\n",
       "      <td>0.233810</td>\n",
       "      <td>30</td>\n",
       "      <td>0</td>\n",
       "      <td>0.036050</td>\n",
       "      <td>3300.0</td>\n",
       "      <td>5</td>\n",
       "      <td>0</td>\n",
       "      <td>0</td>\n",
       "      <td>0</td>\n",
       "      <td>0.0</td>\n",
       "    </tr>\n",
       "    <tr>\n",
       "      <th>5</th>\n",
       "      <td>0</td>\n",
       "      <td>0.907239</td>\n",
       "      <td>49</td>\n",
       "      <td>1</td>\n",
       "      <td>0.024926</td>\n",
       "      <td>63588.0</td>\n",
       "      <td>7</td>\n",
       "      <td>0</td>\n",
       "      <td>1</td>\n",
       "      <td>0</td>\n",
       "      <td>0.0</td>\n",
       "    </tr>\n",
       "  </tbody>\n",
       "</table>\n",
       "</div>"
      ],
      "text/plain": [
       "   SeriousDlqin2yrs  RevolvingUtilizationOfUnsecuredLines  age  \\\n",
       "1                 1                              0.766127   45   \n",
       "2                 0                              0.957151   40   \n",
       "3                 0                              0.658180   38   \n",
       "4                 0                              0.233810   30   \n",
       "5                 0                              0.907239   49   \n",
       "\n",
       "   NumberOfTime30-59DaysPastDueNotWorse  DebtRatio  MonthlyIncome  \\\n",
       "1                                     2   0.802982         9120.0   \n",
       "2                                     0   0.121876         2600.0   \n",
       "3                                     1   0.085113         3042.0   \n",
       "4                                     0   0.036050         3300.0   \n",
       "5                                     1   0.024926        63588.0   \n",
       "\n",
       "   NumberOfOpenCreditLinesAndLoans  NumberOfTimes90DaysLate  \\\n",
       "1                               13                        0   \n",
       "2                                4                        0   \n",
       "3                                2                        1   \n",
       "4                                5                        0   \n",
       "5                                7                        0   \n",
       "\n",
       "   NumberRealEstateLoansOrLines  NumberOfTime60-89DaysPastDueNotWorse  \\\n",
       "1                             6                                     0   \n",
       "2                             0                                     0   \n",
       "3                             0                                     0   \n",
       "4                             0                                     0   \n",
       "5                             1                                     0   \n",
       "\n",
       "   NumberOfDependents  \n",
       "1                 2.0  \n",
       "2                 1.0  \n",
       "3                 0.0  \n",
       "4                 0.0  \n",
       "5                 0.0  "
      ]
     },
     "execution_count": 278,
     "metadata": {},
     "output_type": "execute_result"
    }
   ],
   "source": [
    "df = pd.read_csv('./cs-training.csv', sep=',').dropna()\n",
    "df.head()"
   ]
  },
  {
   "cell_type": "markdown",
   "metadata": {
    "collapsed": true
   },
   "source": [
    "Подготовим датасет для обработки деревом"
   ]
  },
  {
   "cell_type": "code",
   "execution_count": 279,
   "metadata": {
    "collapsed": true
   },
   "outputs": [],
   "source": [
    "x = df.as_matrix(columns=df.columns[1:])\n",
    "y = df.as_matrix(columns=df.columns[:1])\n",
    "y = y.reshape(y.shape[0])"
   ]
  },
  {
   "cell_type": "code",
   "execution_count": null,
   "metadata": {
    "collapsed": false
   },
   "outputs": [],
   "source": []
  },
  {
   "cell_type": "code",
   "execution_count": 280,
   "metadata": {
    "collapsed": true
   },
   "outputs": [],
   "source": [
    "my_clf = MyDecisionTreeClassifier(min_samples_split=2)\n",
    "clf = DecisionTreeClassifier(min_samples_split=2)"
   ]
  },
  {
   "cell_type": "markdown",
   "metadata": {},
   "source": [
    "Возьмем небольшой срез данных для отладки, понимания и восстановления функции"
   ]
  },
  {
   "cell_type": "code",
   "execution_count": 281,
   "metadata": {
    "collapsed": false
   },
   "outputs": [],
   "source": [
    "debug_x = x[10:30]\n",
    "debug_y = y[10:30]\n"
   ]
  },
  {
   "cell_type": "code",
   "execution_count": 282,
   "metadata": {
    "collapsed": false
   },
   "outputs": [
    {
     "name": "stdout",
     "output_type": "stream",
     "text": [
      "DEBUG:decision tree:['sorted_x = ', array([ 0.01035186,  0.01965658,  0.02565568,  0.03442147,  0.04656027,\n",
      "        0.05243609,  0.07542658,  0.16628408,  0.18686856,  0.20092338,\n",
      "        0.22181277,  0.39224848,  0.39299459,  0.45251583,  0.54845806,\n",
      "        0.60279441,  0.70407398,  0.96467256,  0.9999999 ,  0.9999999 ])]\n",
      "DEBUG:decision tree:['sorted_y = ', array([0, 0, 1, 0, 0, 0, 0, 0, 0, 0, 0, 1, 0, 0, 0, 0, 0, 1, 0, 0], dtype=int64)]\n",
      "DEBUG:decision tree:['class number ', 2]\n",
      "DEBUG:decision tree:['splitted_sorted_y = ', array([0, 0, 1, 0, 0, 0, 0, 0, 0, 0, 0, 1, 0, 0, 0, 0, 0, 1, 0, 0], dtype=int64)]\n",
      "DEBUG:decision tree:['r_border_ids = ', array([ 2,  3, 11, 12, 17, 18], dtype=int64)]\n",
      "DEBUG:decision tree:['eq_el_count=', array([0, 1, 8, 1, 5, 1], dtype=int64)]\n",
      "DEBUG:decision tree:['one_hot_code', array([[ 1.,  0.],\n",
      "       [ 0.,  1.],\n",
      "       [ 1.,  0.],\n",
      "       [ 0.,  1.],\n",
      "       [ 1.,  0.],\n",
      "       [ 0.,  1.]])]\n",
      "DEBUG:decision tree:['class_increments', array([[ 2.,  0.],\n",
      "       [ 0.,  1.],\n",
      "       [ 8.,  0.],\n",
      "       [ 0.,  1.],\n",
      "       [ 5.,  0.],\n",
      "       [ 0.,  1.]])]\n",
      "DEBUG:decision tree:l_class_count, r_class_count, l_sizes, r_sizes\n",
      "DEBUG:decision tree:[array([[  2.,   0.],\n",
      "       [  2.,   1.],\n",
      "       [ 10.,   1.],\n",
      "       [ 10.,   2.],\n",
      "       [ 15.,   2.],\n",
      "       [ 15.,   3.]]), array([[ 15.,   3.],\n",
      "       [ 15.,   2.],\n",
      "       [  7.,   2.],\n",
      "       [  7.,   1.],\n",
      "       [  2.,   1.],\n",
      "       [  2.,   0.]]), array([[ 2],\n",
      "       [ 3],\n",
      "       [11],\n",
      "       [12],\n",
      "       [17],\n",
      "       [18]], dtype=int64), array([[18],\n",
      "       [17],\n",
      "       [ 9],\n",
      "       [ 8],\n",
      "       [ 3],\n",
      "       [ 2]], dtype=int64)]\n",
      "DEBUG:decision tree:['p_l, p_r', array([[ 0.1 ],\n",
      "       [ 0.15],\n",
      "       [ 0.55],\n",
      "       [ 0.6 ],\n",
      "       [ 0.85],\n",
      "       [ 0.9 ]]), array([[ 0.9 ],\n",
      "       [ 0.85],\n",
      "       [ 0.45],\n",
      "       [ 0.4 ],\n",
      "       [ 0.15],\n",
      "       [ 0.1 ]])]\n",
      "DEBUG:decision tree:['gini left', array([ 0.        ,  0.44444444,  0.16528926,  0.27777778,  0.20761246,\n",
      "        0.27777778])]\n",
      "DEBUG:decision tree:['gini right', array([ 0.27777778,  0.20761246,  0.34567901,  0.21875   ,  0.44444444,  0.        ])]\n",
      "DEBUG:decision tree:['gini parent', array([ 0.255,  0.255,  0.255,  0.255,  0.255,  0.255])]\n",
      "DEBUG:decision tree:['p_l, p_r', array([[ 0.1 ],\n",
      "       [ 0.15],\n",
      "       [ 0.55],\n",
      "       [ 0.6 ],\n",
      "       [ 0.85],\n",
      "       [ 0.9 ]]), array([[ 0.9 ],\n",
      "       [ 0.85],\n",
      "       [ 0.45],\n",
      "       [ 0.4 ],\n",
      "       [ 0.15],\n",
      "       [ 0.1 ]])]\n",
      "DEBUG:decision tree:[[ 0.005       0.01186275  0.00853535  0.00083333  0.01186275  0.005     ]]\n",
      "DEBUG:decision tree:['gs', array([[ 0.005     ],\n",
      "       [ 0.01186275],\n",
      "       [ 0.00853535],\n",
      "       [ 0.00083333],\n",
      "       [ 0.01186275],\n",
      "       [ 0.005     ]])]\n",
      "DEBUG:decision tree:['idx, gsp[idx]:', 3, array([ 0.00083333])]\n",
      "DEBUG:decision tree:['left_el_id', 12]\n",
      "DEBUG:decision tree:['returned', 0.39262153399999999]\n"
     ]
    }
   ],
   "source": [
    "f_x = debug_x[:,0]\n",
    "logger.setLevel(logging.DEBUG)\n",
    "my_clf.debug_threshold(f_x, debug_y)\n",
    "logger.setLevel(logging.INFO)"
   ]
  },
  {
   "cell_type": "code",
   "execution_count": 283,
   "metadata": {
    "collapsed": false
   },
   "outputs": [
    {
     "data": {
      "text/plain": [
       "array([ 0,  2,  8, 14, 11, 13, 10,  4, 19,  7,  5, 12, 16, 15,  3,  6, 17,\n",
       "        1, 18,  9], dtype=int64)"
      ]
     },
     "execution_count": 283,
     "metadata": {},
     "output_type": "execute_result"
    }
   ],
   "source": [
    "f_x.argsort()"
   ]
  },
  {
   "cell_type": "markdown",
   "metadata": {},
   "source": [
    "## Проверка скорости работы"
   ]
  },
  {
   "cell_type": "code",
   "execution_count": 284,
   "metadata": {
    "collapsed": false,
    "scrolled": true
   },
   "outputs": [
    {
     "name": "stdout",
     "output_type": "stream",
     "text": [
      "INFO:decision tree:2.607527256011963\n",
      "INFO:decision tree:1.5042858123779297\n"
     ]
    }
   ],
   "source": [
    "t1 = time()\n",
    "my_clf.fit(x, y)\n",
    "t2 = time()\n",
    "logger.info(t2 - t1)\n",
    "\n",
    "t1 = time()\n",
    "clf.fit(x, y)\n",
    "t2 = time()\n",
    "logger.info(t2 - t1)"
   ]
  },
  {
   "cell_type": "markdown",
   "metadata": {},
   "source": [
    "## Проверка качества работы"
   ]
  },
  {
   "cell_type": "code",
   "execution_count": 285,
   "metadata": {
    "collapsed": true
   },
   "outputs": [],
   "source": [
    "gkf = KFold(n_splits=5, shuffle=True)"
   ]
  },
  {
   "cell_type": "code",
   "execution_count": 286,
   "metadata": {
    "collapsed": false
   },
   "outputs": [
    {
     "name": "stdout",
     "output_type": "stream",
     "text": [
      "INFO:decision tree:0.999958426873\n",
      "INFO:decision tree:1.0\n",
      "INFO:decision tree:1.0\n",
      "INFO:decision tree:0.999958426873\n",
      "INFO:decision tree:1.0\n"
     ]
    }
   ],
   "source": [
    "for train, test in gkf.split(x, y):\n",
    "    X_train, y_train = x[train], y[train]\n",
    "    X_test, y_test = x[test], y[test]\n",
    "    my_clf.fit(X_train, y_train)\n",
    "    logger.info(accuracy_score(y_pred=clf.predict(X_test), y_true=y_test))"
   ]
  },
  {
   "cell_type": "code",
   "execution_count": 287,
   "metadata": {
    "collapsed": false
   },
   "outputs": [
    {
     "name": "stdout",
     "output_type": "stream",
     "text": [
      "INFO:decision tree:0.891826723206\n",
      "INFO:decision tree:0.891660430698\n",
      "INFO:decision tree:0.893739087054\n",
      "INFO:decision tree:0.893240209529\n",
      "INFO:decision tree:0.891448052218\n"
     ]
    }
   ],
   "source": [
    "for train, test in gkf.split(x, y):\n",
    "    X_train, y_train = x[train], y[train]\n",
    "    X_test, y_test = x[test], y[test]\n",
    "    clf.fit(X_train, y_train)\n",
    "    logger.info(accuracy_score(y_pred=clf.predict(X_test), y_true=y_test))"
   ]
  },
  {
   "cell_type": "markdown",
   "metadata": {},
   "source": [
    "# Применить для задачи Titanic "
   ]
  },
  {
   "cell_type": "code",
   "execution_count": 288,
   "metadata": {
    "collapsed": false
   },
   "outputs": [],
   "source": [
    "fn = 'train.csv'\n",
    "df = pd.read_csv(fn)\n",
    "from sklearn.pipeline import make_union, make_pipeline\n",
    "from sklearn.preprocessing import FunctionTransformer, LabelEncoder, MinMaxScaler, Imputer, LabelBinarizer, OneHotEncoder,StandardScaler\n",
    "from sklearn.feature_extraction import DictVectorizer\n",
    "\n",
    "def get_sex_col(df):\n",
    "    lb= LabelBinarizer()\n",
    "    return lb.fit_transform(df[['Sex']])\n",
    "\n",
    "def get_num_cols(df):\n",
    "    bins = [0, 10, 15, 25, 40, 55, 100]\n",
    "    labels = [10, 15, 25, 40, 55, 100 ]\n",
    "    mn = df['Age'].mean()\n",
    "    df['AgeGrp'] = df['Age'].fillna(mn)\n",
    "    df['AgeGrp'] = pd.cut(df['AgeGrp'], bins, labels=labels)\n",
    "\n",
    "    bins = [0, 10, 30, 100, 600]\n",
    "    labels = [10, 30, 100, 600 ]\n",
    "    mn = df['Fare'].mean()\n",
    "    df['FareGrp'] = df['Fare'].fillna(mn)\n",
    "    df['FareGrp'] = pd.cut(df['FareGrp'], bins, labels=labels)    \n",
    "    return df[['AgeGrp', 'FareGrp']]\n",
    "\n",
    "def get_pclass_col(df):\n",
    "    return df[['Pclass']]\n",
    "\n",
    "def get_port_col(df):\n",
    "    le = LabelEncoder()\n",
    "    return le.fit_transform(df['Embarked'].fillna('S').T).reshape(-1, 1).astype('int')\n",
    "\n",
    "\n",
    "def get_cabin_col(df):\n",
    "    le = LabelEncoder()\n",
    "    return le.fit_transform(df['Cabin'].fillna('NaN').T).reshape(-1, 1).astype('float')\n",
    "\n",
    "# наличие родственников можно объединить\n",
    "def get_rel_col(df):\n",
    "    return np.sum(df[['SibSp','Parch']] , axis=1).values.reshape(-1, 1).astype('float')  \n",
    "\n",
    "pipeline = make_union(*[\n",
    "    make_pipeline(FunctionTransformer(get_num_cols, validate=False), Imputer(strategy='mean'), MinMaxScaler()),\n",
    "    make_pipeline(FunctionTransformer(get_pclass_col, validate=False), OneHotEncoder(sparse=False)),\n",
    "    make_pipeline(FunctionTransformer(get_sex_col, validate=False)),\n",
    "    make_pipeline(FunctionTransformer(get_port_col, validate=False), OneHotEncoder(sparse=False)),\n",
    "    make_pipeline(FunctionTransformer(get_cabin_col, validate=False), MinMaxScaler()),\n",
    "    make_pipeline(FunctionTransformer(get_rel_col, validate=False), StandardScaler())\n",
    "])\n"
   ]
  },
  {
   "cell_type": "code",
   "execution_count": 289,
   "metadata": {
    "collapsed": false
   },
   "outputs": [
    {
     "name": "stdout",
     "output_type": "stream",
     "text": [
      "(891,)\n",
      "(891, 11)\n"
     ]
    }
   ],
   "source": [
    "df_train = df.copy()\n",
    "y_train = df_train['Survived']\n",
    "print(y_train.shape)\n",
    "x_train = pipeline.fit_transform(df_train)\n",
    "print(x_train.shape)"
   ]
  },
  {
   "cell_type": "code",
   "execution_count": 290,
   "metadata": {
    "collapsed": true
   },
   "outputs": [],
   "source": [
    "# сделаем предсказание\n",
    "def predict_and_save(model, df_test):\n",
    "    x_test = pipeline.fit_transform(df_test) \n",
    "    y_test =  model.predict(x_test)\n",
    "    df_predicted = pd.DataFrame({'PassengerId': df_test['PassengerId'], 'Survived': y_test})\n",
    "    df_predicted.to_csv('sample_submission.csv', sep=',', index=False)"
   ]
  },
  {
   "cell_type": "code",
   "execution_count": 291,
   "metadata": {
    "collapsed": false
   },
   "outputs": [],
   "source": [
    "df_test = pd.read_csv('test.csv')\n"
   ]
  },
  {
   "cell_type": "code",
   "execution_count": null,
   "metadata": {
    "collapsed": false
   },
   "outputs": [],
   "source": []
  },
  {
   "cell_type": "code",
   "execution_count": 292,
   "metadata": {
    "collapsed": false
   },
   "outputs": [],
   "source": [
    "model = MyDecisionTreeClassifier(min_samples_split=2)\n",
    "model.fit(x_train, y_train.as_matrix())\n",
    "predict_and_save(model, df_test)"
   ]
  },
  {
   "cell_type": "markdown",
   "metadata": {},
   "source": [
    "результат с каггла -  0.62679 судя по всему дерево нуждается в оптимизации"
   ]
  },
  {
   "cell_type": "code",
   "execution_count": 293,
   "metadata": {
    "collapsed": false
   },
   "outputs": [
    {
     "data": {
      "text/plain": [
       "0.61616161616161613"
      ]
     },
     "execution_count": 293,
     "metadata": {},
     "output_type": "execute_result"
    }
   ],
   "source": [
    "accuracy_score(y_train, model.predict(x_train))"
   ]
  },
  {
   "cell_type": "code",
   "execution_count": null,
   "metadata": {
    "collapsed": false
   },
   "outputs": [],
   "source": []
  },
  {
   "cell_type": "code",
   "execution_count": null,
   "metadata": {
    "collapsed": true
   },
   "outputs": [],
   "source": []
  }
 ],
 "metadata": {
  "kernelspec": {
   "display_name": "Python 3",
   "language": "python",
   "name": "python3"
  },
  "language_info": {
   "codemirror_mode": {
    "name": "ipython",
    "version": 3
   },
   "file_extension": ".py",
   "mimetype": "text/x-python",
   "name": "python",
   "nbconvert_exporter": "python",
   "pygments_lexer": "ipython3",
   "version": "3.6.0"
  }
 },
 "nbformat": 4,
 "nbformat_minor": 2
}
