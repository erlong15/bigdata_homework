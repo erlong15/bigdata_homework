{
 "cells": [
  {
   "cell_type": "markdown",
   "metadata": {
    "deletable": true,
    "editable": true
   },
   "source": [
    "## Логистическая регрессия"
   ]
  },
  {
   "cell_type": "code",
   "execution_count": 14,
   "metadata": {
    "collapsed": true,
    "deletable": true,
    "editable": true
   },
   "outputs": [],
   "source": [
    "import pandas as pd\n",
    "import numpy as np\n",
    "import matplotlib.pyplot as plt\n",
    "\n",
    "%matplotlib inline\n",
    "\n",
    "plt.style.use('ggplot')\n",
    "plt.rcParams['figure.figsize'] = (12,5)"
   ]
  },
  {
   "cell_type": "markdown",
   "metadata": {},
   "source": [
    "Реализуйте обучение логистической регрессии с $L^1$ и $L^2$ регуляризацией с помощью метода Stochastic Gradient Descent (SGD)"
   ]
  },
  {
   "cell_type": "markdown",
   "metadata": {
    "deletable": true,
    "editable": true
   },
   "source": [
    "#### Замечания\n",
    "* В SGD градиент расчитывается по одному случайному объекту\n",
    "* Для отладки работы алгоритма, реализуйте возможность сохранения или вывода ошибки модели после очередной итерации\n",
    "* Правило останова - максимальное количество эпох\n",
    "    \n",
    "Эпохой в SGD и MB-SGD называется один проход по **всем** объектам в выборке (тем или иным способом)"
   ]
  },
  {
   "cell_type": "markdown",
   "metadata": {
    "deletable": true,
    "editable": true
   },
   "source": [
    "# Реализация модели"
   ]
  },
  {
   "cell_type": "code",
   "execution_count": null,
   "metadata": {
    "collapsed": false
   },
   "outputs": [],
   "source": []
  },
  {
   "cell_type": "code",
   "execution_count": 15,
   "metadata": {
    "collapsed": true,
    "deletable": true,
    "editable": true
   },
   "outputs": [],
   "source": [
    "from sklearn.base import BaseEstimator, ClassifierMixin\n",
    "\n",
    "\n",
    "class MySGDClassifier(BaseEstimator, ClassifierMixin):\n",
    "    \"\"\"\n",
    "    Предполагается, что в выборке всегда 2 класса\n",
    "    \"\"\"\n",
    "    \n",
    "    def __init__(self, C=1, alpha=0.01, max_epoch=10, penalty='l2'):\n",
    "        \"\"\"\n",
    "        C - коэф. регуляризации\n",
    "        alpha - скорость спуска\n",
    "        max_epoch - максимальное количество эпох\n",
    "        \"\"\"\n",
    "        \n",
    "        self.C = C\n",
    "        self.alpha = alpha\n",
    "        self.max_epoch = max_epoch\n",
    "        self.iter_thetas = []\n",
    "        self.epoch_thetas = []\n",
    "\n",
    "    \n",
    "\n",
    "    \n",
    "    def fit(self,X, y=None):\n",
    "        X_b = np.c_[X, np.ones((len(X), 1))]\n",
    "        #X_b = np.c_[np.ones((len(X), 1)), X]\n",
    "        m = len(X)\n",
    "        alpha = self.alpha\n",
    "        n_epochs = self.max_epoch\n",
    "        eps = 0.000001\n",
    "\n",
    "        self.theta = np.random.randn(3,1)  # random initialization\n",
    "\n",
    "        for epoch in range(n_epochs):\n",
    "            p = np.random.permutation(m)\n",
    "            self.iter_thetas = []\n",
    "            for idx in p:\n",
    "                random_index = np.random.randint(m)\n",
    "                xi = X_b[[idx], :]\n",
    "                yi = y[idx]\n",
    "                gradients = 2 * xi.T.dot(xi.dot(self.theta) - yi)\n",
    "                theta_old  = self.theta\n",
    "                self.theta = self.theta - alpha * gradients\n",
    "                dist = np.linalg.norm(self.theta - theta_old)\n",
    "                self.iter_thetas.append(self.theta)\n",
    "                if dist < eps:\n",
    "                    self.epoch_thetas.append(self.theta)\n",
    "                    return\n",
    "            self.epoch_thetas.append(self.theta)\n",
    "        return \n",
    "        \n",
    "   \n",
    "    def partial_fit(self, X, y=None):\n",
    "        '''\n",
    "        По желанию - метод дообучения модели на новых данных\n",
    "        '''\n",
    "    \n",
    "        return self\n",
    "        \n",
    "    def predict(self, X):\n",
    "        '''\n",
    "        Возвращение метки класса\n",
    "        '''\n",
    "        return np.sign(X.dot(self.theta))\n",
    "        \n",
    "    \n",
    "    def predict_proba(self, X):\n",
    "        '''\n",
    "        Возвращение вероятности каждого из классов\n",
    "        '''\n",
    "\n",
    "        \n",
    "        return y_hat_proba"
   ]
  },
  {
   "cell_type": "markdown",
   "metadata": {
    "deletable": true,
    "editable": true
   },
   "source": [
    "## Проверка на синтетических данных (2 балл)"
   ]
  },
  {
   "cell_type": "markdown",
   "metadata": {
    "deletable": true,
    "editable": true
   },
   "source": [
    "Запустите ваш алгоритм на синтетических данных. \n",
    "Выведите полученные веса и нарисуйте разделяющую границу между классами."
   ]
  },
  {
   "cell_type": "code",
   "execution_count": null,
   "metadata": {
    "collapsed": true
   },
   "outputs": [],
   "source": []
  },
  {
   "cell_type": "code",
   "execution_count": 16,
   "metadata": {
    "collapsed": false,
    "deletable": true,
    "editable": true
   },
   "outputs": [
    {
     "name": "stdout",
     "output_type": "stream",
     "text": [
      "[[ 5.10023581 -2.69111611]\n",
      " [ 7.8613398  -0.59027583]\n",
      " [ 3.03408318 -3.8758687 ]\n",
      " [ 4.27296419 -2.4811565 ]\n",
      " [ 5.11589775 -1.18894612]]\n",
      "[ 1.  1.  1.  1.  1.]\n"
     ]
    }
   ],
   "source": [
    "np.random.seed(0)\n",
    "\n",
    "C1 = np.array([[0., -0.8], [1.5, 0.8]])\n",
    "C2 = np.array([[1., -0.7], [2., 0.7]])\n",
    "gauss1 = np.dot(np.random.randn(200, 2) + np.array([5, 3]), C1)\n",
    "gauss2 = np.dot(np.random.randn(200, 2) + np.array([1.5, 0]), C2)\n",
    "\n",
    "X = np.vstack([gauss1, gauss2])\n",
    "y = np.r_[np.ones(200), np.zeros(200)]\n",
    "print(X[:5])\n",
    "print(y[:5])\n",
    "#plt.scatter(X[:,0], X[:,1], c=y)"
   ]
  },
  {
   "cell_type": "code",
   "execution_count": 17,
   "metadata": {
    "collapsed": false,
    "deletable": true,
    "editable": true
   },
   "outputs": [
    {
     "data": {
      "text/plain": [
       "array([[ 0.14789497],\n",
       "       [-0.09880998],\n",
       "       [-0.16515831]])"
      ]
     },
     "execution_count": 17,
     "metadata": {},
     "output_type": "execute_result"
    }
   ],
   "source": [
    "#X[[11],:]\n",
    "#X\n",
    "model = MySGDClassifier()\n",
    "model.fit(X, y)\n",
    "model.theta\n"
   ]
  },
  {
   "cell_type": "code",
   "execution_count": 18,
   "metadata": {
    "collapsed": false,
    "deletable": true,
    "editable": true
   },
   "outputs": [
    {
     "data": {
      "text/plain": [
       "[<matplotlib.lines.Line2D at 0x271a6a6dd68>]"
      ]
     },
     "execution_count": 18,
     "metadata": {},
     "output_type": "execute_result"
    },
    {
     "data": {
      "image/png": "[encoded data removed]",
      "text/plain": [
       "<matplotlib.figure.Figure at 0x271a6975a90>"
      ]
     },
     "metadata": {},
     "output_type": "display_data"
    }
   ],
   "source": [
    "x_naive = np.array([-4, 4])\n",
    "# Ax + By + C -> y = (-AX -C) / B\n",
    "y_naive = (-model.theta[0] * x_naive - model.theta[2] ) / model.theta[1]\n",
    "plt.scatter(X[:,0], X[:,1], c=y)\n",
    "plt.plot(x_naive, y_naive, c='red', label='descision boundary naive')"
   ]
  },
  {
   "cell_type": "markdown",
   "metadata": {
    "deletable": true,
    "editable": true
   },
   "source": [
    "## Анализ сходимости"
   ]
  },
  {
   "cell_type": "markdown",
   "metadata": {
    "deletable": true,
    "editable": true
   },
   "source": [
    "Покажите сходимость вашего метода: изобразите графики зависимости значения функции потерь (по всей выборке) после очередной итерации/эпохи (выбрать одно) для разных `alpha`."
   ]
  },
  {
   "cell_type": "code",
   "execution_count": 25,
   "metadata": {
    "collapsed": false
   },
   "outputs": [
    {
     "data": {
      "text/plain": [
       "array([[[ 0.1953098 ],\n",
       "        [-0.17025971],\n",
       "        [-0.07561632]],\n",
       "\n",
       "       [[ 0.19166137],\n",
       "        [-0.19040762],\n",
       "        [-0.12565872]],\n",
       "\n",
       "       [[ 0.13368793],\n",
       "        [-0.21764986],\n",
       "        [-0.08510376]],\n",
       "\n",
       "       [[ 0.1778588 ],\n",
       "        [-0.18611284],\n",
       "        [-0.10270357]],\n",
       "\n",
       "       [[ 0.17415345],\n",
       "        [-0.1778906 ],\n",
       "        [-0.10490964]],\n",
       "\n",
       "       [[ 0.15841768],\n",
       "        [-0.200508  ],\n",
       "        [-0.11093822]],\n",
       "\n",
       "       [[ 0.07678364],\n",
       "        [-0.18564662],\n",
       "        [-0.1491534 ]],\n",
       "\n",
       "       [[ 0.17966732],\n",
       "        [-0.16444345],\n",
       "        [-0.11008808]],\n",
       "\n",
       "       [[ 0.14659585],\n",
       "        [-0.18169299],\n",
       "        [-0.11547206]],\n",
       "\n",
       "       [[ 0.14789497],\n",
       "        [-0.09880998],\n",
       "        [-0.16515831]]])"
      ]
     },
     "execution_count": 25,
     "metadata": {},
     "output_type": "execute_result"
    }
   ],
   "source": [
    "np.array(model.epoch_thetas)"
   ]
  },
  {
   "cell_type": "code",
   "execution_count": 26,
   "metadata": {
    "collapsed": false,
    "deletable": true,
    "editable": true
   },
   "outputs": [
    {
     "data": {
      "text/plain": [
       "array([[[ 0.14104536],\n",
       "        [-0.18046572],\n",
       "        [-0.11636562]],\n",
       "\n",
       "       [[ 0.17622308],\n",
       "        [-0.1801484 ],\n",
       "        [-0.11035361]],\n",
       "\n",
       "       [[ 0.19595232],\n",
       "        [-0.18036056],\n",
       "        [-0.10652944]],\n",
       "\n",
       "       ..., \n",
       "       [[ 0.19273846],\n",
       "        [-0.13252352],\n",
       "        [-0.15140671]],\n",
       "\n",
       "       [[ 0.19226284],\n",
       "        [-0.13401297],\n",
       "        [-0.15031464]],\n",
       "\n",
       "       [[ 0.14789497],\n",
       "        [-0.09880998],\n",
       "        [-0.16515831]]])"
      ]
     },
     "execution_count": 26,
     "metadata": {},
     "output_type": "execute_result"
    }
   ],
   "source": [
    "np.array(model.iter_thetas)"
   ]
  },
  {
   "cell_type": "code",
   "execution_count": 52,
   "metadata": {
    "collapsed": false
   },
   "outputs": [
    {
     "data": {
      "text/plain": [
       "array([-4,  4])"
      ]
     },
     "execution_count": 52,
     "metadata": {},
     "output_type": "execute_result"
    }
   ],
   "source": []
  },
  {
   "cell_type": "code",
   "execution_count": null,
   "metadata": {
    "collapsed": true
   },
   "outputs": [],
   "source": []
  }
 ],
 "metadata": {
  "anaconda-cloud": {},
  "kernelspec": {
   "display_name": "Python 3",
   "language": "python",
   "name": "python3"
  },
  "language_info": {
   "codemirror_mode": {
    "name": "ipython",
    "version": 3
   },
   "file_extension": ".py",
   "mimetype": "text/x-python",
   "name": "python",
   "nbconvert_exporter": "python",
   "pygments_lexer": "ipython3",
   "version": "3.6.0"
  },
  "nav_menu": {},
  "toc": {
   "navigate_menu": true,
   "number_sections": false,
   "sideBar": true,
   "threshold": 6,
   "toc_cell": false,
   "toc_section_display": "block",
   "toc_window_display": true
  }
 },
 "nbformat": 4,
 "nbformat_minor": 2
}
