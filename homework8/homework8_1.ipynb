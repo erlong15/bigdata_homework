{
 "cells": [
  {
   "cell_type": "code",
   "execution_count": 64,
   "metadata": {
    "collapsed": false
   },
   "outputs": [],
   "source": [
    "from __future__ import print_function\n",
    "from collections import defaultdict\n",
    "import pandas as pd\n",
    "import numpy as np\n",
    "import matplotlib\n",
    "#import pandas_profiling\n",
    "import matplotlib.pyplot as plt\n",
    "import matplotlib.cm as cm\n",
    "import seaborn as sns\n",
    "#import xgboost as xgb\n",
    "import lightgbm as lgb\n",
    "\n",
    "\n",
    "%matplotlib inline\n",
    "plt.rcParams[\"figure.figsize\"] = (15, 8)\n",
    "pd.options.display.float_format = '{:.2f}'.format\n",
    "\n",
    "import warnings\n",
    "warnings.filterwarnings('ignore')"
   ]
  },
  {
   "cell_type": "markdown",
   "metadata": {},
   "source": [
    "Подгрузим тренировочный датасет"
   ]
  },
  {
   "cell_type": "code",
   "execution_count": 65,
   "metadata": {
    "collapsed": false
   },
   "outputs": [],
   "source": [
    "fn = 'train.csv'\n",
    "df = pd.read_csv(fn)"
   ]
  },
  {
   "cell_type": "markdown",
   "metadata": {},
   "source": [
    "Сделаем преобразования для признаков"
   ]
  },
  {
   "cell_type": "code",
   "execution_count": 66,
   "metadata": {
    "collapsed": true
   },
   "outputs": [],
   "source": [
    "from sklearn.pipeline import make_union, make_pipeline\n",
    "from sklearn.preprocessing import FunctionTransformer, LabelEncoder, MinMaxScaler, Imputer, LabelBinarizer, OneHotEncoder,StandardScaler\n",
    "from sklearn.feature_extraction import DictVectorizer\n",
    "\n",
    "def get_sex_col(df):\n",
    "    lb= LabelBinarizer()\n",
    "    return lb.fit_transform(df[['Sex']])\n",
    "\n",
    "def get_num_cols(df):\n",
    "    bins = [0, 10, 15, 25, 40, 55, 100]\n",
    "    labels = [10, 15, 25, 40, 55, 100 ]\n",
    "    mn = df['Age'].mean()\n",
    "    df['AgeGrp'] = df['Age'].fillna(mn)\n",
    "    df['AgeGrp'] = pd.cut(df['AgeGrp'], bins, labels=labels)\n",
    "\n",
    "    bins = [0, 10, 30, 100, 600]\n",
    "    labels = [10, 30, 100, 600 ]\n",
    "    mn = df['Fare'].mean()\n",
    "    df['FareGrp'] = df['Fare'].fillna(mn)\n",
    "    df['FareGrp'] = pd.cut(df['FareGrp'], bins, labels=labels)    \n",
    "    return df[['AgeGrp', 'FareGrp']]\n",
    "\n",
    "def get_pclass_col(df):\n",
    "    return df[['Pclass']]\n",
    "\n",
    "def get_port_col(df):\n",
    "    le = LabelEncoder()\n",
    "    return le.fit_transform(df['Embarked'].fillna('S').T).reshape(-1, 1).astype('int')\n",
    "\n",
    "\n",
    "def get_cabin_col(df):\n",
    "    le = LabelEncoder()\n",
    "    return le.fit_transform(df['Cabin'].fillna('NaN').T).reshape(-1, 1).astype('float')\n",
    "\n",
    "# наличие родственников можно объединить\n",
    "def get_rel_col(df):\n",
    "    return np.sum(df[['SibSp','Parch']] , axis=1).values.reshape(-1, 1).astype('float')  \n"
   ]
  },
  {
   "cell_type": "markdown",
   "metadata": {},
   "source": [
    "построим пайплайн"
   ]
  },
  {
   "cell_type": "code",
   "execution_count": 67,
   "metadata": {
    "collapsed": true
   },
   "outputs": [],
   "source": [
    "\n",
    "pipeline = make_union(*[\n",
    "    make_pipeline(FunctionTransformer(get_num_cols, validate=False), Imputer(strategy='mean'), MinMaxScaler()),\n",
    "    make_pipeline(FunctionTransformer(get_pclass_col, validate=False), OneHotEncoder(sparse=False)),\n",
    "    make_pipeline(FunctionTransformer(get_sex_col, validate=False)),\n",
    "    make_pipeline(FunctionTransformer(get_port_col, validate=False), OneHotEncoder(sparse=False)),\n",
    "    make_pipeline(FunctionTransformer(get_cabin_col, validate=False), MinMaxScaler()),\n",
    "    make_pipeline(FunctionTransformer(get_rel_col, validate=False), StandardScaler())\n",
    "])\n"
   ]
  },
  {
   "cell_type": "code",
   "execution_count": 68,
   "metadata": {
    "collapsed": true
   },
   "outputs": [],
   "source": [
    "df_train = df.copy()"
   ]
  },
  {
   "cell_type": "code",
   "execution_count": 69,
   "metadata": {
    "collapsed": false
   },
   "outputs": [
    {
     "data": {
      "text/plain": [
       "(891,)"
      ]
     },
     "execution_count": 69,
     "metadata": {},
     "output_type": "execute_result"
    }
   ],
   "source": [
    "\n",
    "y_train = df_train['Survived']\n",
    "y_train.shape"
   ]
  },
  {
   "cell_type": "code",
   "execution_count": 70,
   "metadata": {
    "collapsed": false
   },
   "outputs": [
    {
     "data": {
      "text/plain": [
       "(891, 11)"
      ]
     },
     "execution_count": 70,
     "metadata": {},
     "output_type": "execute_result"
    }
   ],
   "source": [
    "x_train = pipeline.fit_transform(df_train)\n",
    "x_train.shape"
   ]
  },
  {
   "cell_type": "markdown",
   "metadata": {},
   "source": [
    "Посмотрим на список параметров которые можно выставить для lightgdb"
   ]
  },
  {
   "cell_type": "code",
   "execution_count": 71,
   "metadata": {
    "collapsed": false
   },
   "outputs": [
    {
     "data": {
      "text/plain": [
       "{'boosting_type': 'gbdt',\n",
       " 'colsample_bytree': 1.0,\n",
       " 'learning_rate': 0.1,\n",
       " 'max_bin': 255,\n",
       " 'max_depth': -1,\n",
       " 'min_child_samples': 20,\n",
       " 'min_child_weight': 0.001,\n",
       " 'min_split_gain': 0.0,\n",
       " 'n_estimators': 10,\n",
       " 'n_jobs': -1,\n",
       " 'num_leaves': 31,\n",
       " 'objective': None,\n",
       " 'random_state': None,\n",
       " 'reg_alpha': 0.0,\n",
       " 'reg_lambda': 0.0,\n",
       " 'silent': True,\n",
       " 'subsample': 1.0,\n",
       " 'subsample_for_bin': 200000,\n",
       " 'subsample_freq': 1}"
      ]
     },
     "execution_count": 71,
     "metadata": {},
     "output_type": "execute_result"
    }
   ],
   "source": [
    "lgb.LGBMClassifier().get_params()"
   ]
  },
  {
   "cell_type": "code",
   "execution_count": 72,
   "metadata": {
    "collapsed": true
   },
   "outputs": [],
   "source": [
    "import time\n",
    "from sklearn.model_selection import RandomizedSearchCV, GridSearchCV\n",
    "def randomized_cv(model, param_grid, x_train, y_train):\n",
    "    grid_search = RandomizedSearchCV(model, param_grid, cv=10, scoring='accuracy')\n",
    "    t_start = time.time()\n",
    "    grid_search.fit(x_train, y_train)\n",
    "    t_end = time.time()\n",
    "    print('model {} best accuracy score is {}'.format(model.__class__.__name__, grid_search.best_score_))\n",
    "    print('time for training is {} seconds'.format(t_end - t_start))\n",
    "    return grid_search.best_estimator_"
   ]
  },
  {
   "cell_type": "markdown",
   "metadata": {},
   "source": [
    "Произведем подбор параметров рандомной сеткой"
   ]
  },
  {
   "cell_type": "code",
   "execution_count": 79,
   "metadata": {
    "collapsed": false
   },
   "outputs": [
    {
     "name": "stdout",
     "output_type": "stream",
     "text": [
      "model LGBMClassifier best accuracy score is 0.8271604938271605\n",
      "time for training is 4.996448755264282 seconds\n"
     ]
    }
   ],
   "source": [
    "import lightgbm as lgb\n",
    "\n",
    "param_grid = {\n",
    "    'max_depth': [2, 3, 5, 7],\n",
    "    'n_estimators': [10, 50, 100, 150], #Number of boosted trees to fit\n",
    "    'learning_rate': [0.01, 0.02, 0.05, 0.1],\n",
    "    'boosting_type': ['gbdt','dart']\n",
    "}\n",
    "model = randomized_cv(lgb.LGBMClassifier(), param_grid, x_train, y_train)"
   ]
  },
  {
   "cell_type": "code",
   "execution_count": 80,
   "metadata": {
    "collapsed": false
   },
   "outputs": [
    {
     "data": {
      "text/plain": [
       "{'boosting_type': 'gbdt',\n",
       " 'colsample_bytree': 1.0,\n",
       " 'learning_rate': 0.05,\n",
       " 'max_bin': 255,\n",
       " 'max_depth': 3,\n",
       " 'min_child_samples': 20,\n",
       " 'min_child_weight': 0.001,\n",
       " 'min_split_gain': 0.0,\n",
       " 'n_estimators': 150,\n",
       " 'n_jobs': -1,\n",
       " 'num_leaves': 31,\n",
       " 'objective': None,\n",
       " 'random_state': None,\n",
       " 'reg_alpha': 0.0,\n",
       " 'reg_lambda': 0.0,\n",
       " 'silent': True,\n",
       " 'subsample': 1.0,\n",
       " 'subsample_for_bin': 200000,\n",
       " 'subsample_freq': 1}"
      ]
     },
     "execution_count": 80,
     "metadata": {},
     "output_type": "execute_result"
    }
   ],
   "source": [
    "model.get_params()"
   ]
  },
  {
   "cell_type": "markdown",
   "metadata": {},
   "source": [
    "Оценим accuracy выбранной модели"
   ]
  },
  {
   "cell_type": "code",
   "execution_count": 81,
   "metadata": {
    "collapsed": false
   },
   "outputs": [
    {
     "data": {
      "text/plain": [
       "0.85185185185185186"
      ]
     },
     "execution_count": 81,
     "metadata": {},
     "output_type": "execute_result"
    }
   ],
   "source": [
    "from sklearn.metrics import accuracy_score\n",
    "accuracy_score(y_train, model.predict(x_train))"
   ]
  },
  {
   "cell_type": "code",
   "execution_count": 82,
   "metadata": {
    "collapsed": false
   },
   "outputs": [
    {
     "data": {
      "text/plain": [
       "(418, 11)"
      ]
     },
     "execution_count": 82,
     "metadata": {},
     "output_type": "execute_result"
    }
   ],
   "source": [
    "df_test = pd.read_csv('test.csv')\n",
    "x_test = pipeline.fit_transform(df_test) \n",
    "x_test.shape"
   ]
  },
  {
   "cell_type": "markdown",
   "metadata": {},
   "source": [
    "Сделаем предсказание полученной моделью и сабмитим его на каггл"
   ]
  },
  {
   "cell_type": "code",
   "execution_count": 83,
   "metadata": {
    "collapsed": false
   },
   "outputs": [],
   "source": [
    "y_test =  model.predict(x_test)\n",
    "df_predicted = pd.DataFrame({'PassengerId': df_test['PassengerId'], 'Survived': y_test})\n",
    "df_predicted.to_csv('sample_submission.csv', sep=',', index=False)"
   ]
  },
  {
   "cell_type": "markdown",
   "metadata": {},
   "source": [
    "результат  с каггла - 0.75119, удручает"
   ]
  },
  {
   "cell_type": "markdown",
   "metadata": {},
   "source": [
    "Попробуем подобрать парметры полным перебором по сетке"
   ]
  },
  {
   "cell_type": "code",
   "execution_count": 78,
   "metadata": {
    "collapsed": false
   },
   "outputs": [
    {
     "name": "stdout",
     "output_type": "stream",
     "text": [
      "model LGBMClassifier best accuracy score is 0.8316498316498316\n",
      "time for training is 63.90380620956421 seconds\n",
      "0.847362514029\n"
     ]
    }
   ],
   "source": [
    "# переопределим функцию преобразования\n",
    "#def get_num_cols(df):\n",
    "#    return df[['Age', 'Fare']]\n",
    "# проведем тренировку\n",
    "#x_train = pipeline.fit_transform(df_train)\n",
    "\n",
    "def search_cv(model, param_grid, x_train, y_train):\n",
    "    grid_search = GridSearchCV(model, param_grid, cv=10, scoring='accuracy')\n",
    "    t_start = time.time()\n",
    "    grid_search.fit(x_train, y_train)\n",
    "    t_end = time.time()\n",
    "    print('model {} best accuracy score is {}'.format(model.__class__.__name__, grid_search.best_score_))\n",
    "    print('time for training is {} seconds'.format(t_end - t_start))\n",
    "    return grid_search.best_estimator_\n",
    "\n",
    "model = search_cv(lgb.LGBMClassifier(), param_grid, x_train, y_train)\n",
    "print(accuracy_score(y_train, model.predict(x_train)))\n",
    "# сделаем предсказание\n",
    "x_test = pipeline.fit_transform(df_test) \n",
    "y_test =  model.predict(x_test)\n",
    "df_predicted = pd.DataFrame({'PassengerId': df_test['PassengerId'], 'Survived': y_test})\n",
    "df_predicted.to_csv('sample_submission.csv', sep=',', index=False)\n"
   ]
  },
  {
   "cell_type": "markdown",
   "metadata": {},
   "source": [
    "результат тот же - 0.75119\n",
    "но скорость подбора гораздо медленне, будем использовать рандом серч"
   ]
  },
  {
   "cell_type": "code",
   "execution_count": null,
   "metadata": {
    "collapsed": true
   },
   "outputs": [],
   "source": []
  }
 ],
 "metadata": {
  "kernelspec": {
   "display_name": "Python 3",
   "language": "python",
   "name": "python3"
  },
  "language_info": {
   "codemirror_mode": {
    "name": "ipython",
    "version": 3
   },
   "file_extension": ".py",
   "mimetype": "text/x-python",
   "name": "python",
   "nbconvert_exporter": "python",
   "pygments_lexer": "ipython3",
   "version": "3.6.0"
  }
 },
 "nbformat": 4,
 "nbformat_minor": 2
}
