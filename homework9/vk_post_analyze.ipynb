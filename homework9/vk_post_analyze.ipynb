{
 "cells": [
  {
   "cell_type": "code",
   "execution_count": 1,
   "metadata": {
    "collapsed": true
   },
   "outputs": [],
   "source": [
    "import vk_api"
   ]
  },
  {
   "cell_type": "markdown",
   "metadata": {},
   "source": [
    "Предварительный анализ скачанных жсон"
   ]
  },
  {
   "cell_type": "code",
   "execution_count": 2,
   "metadata": {
    "collapsed": false
   },
   "outputs": [],
   "source": [
    "jposts = vk_api.load_json('posts.json')"
   ]
  },
  {
   "cell_type": "code",
   "execution_count": 3,
   "metadata": {
    "collapsed": false
   },
   "outputs": [
    {
     "data": {
      "text/plain": [
       "[{'attachments': [{'photo': {'access_key': '008739e87d330314d1',\n",
       "     'album_id': -7,\n",
       "     'date': 1493664165,\n",
       "     'height': 750,\n",
       "     'id': 456239019,\n",
       "     'owner_id': 23704358,\n",
       "     'photo_130': 'https://pp.userapi.com/c638720/v638720358/3224b/TSsh8ZWB2oA.jpg',\n",
       "     'photo_604': 'https://pp.userapi.com/c638720/v638720358/3224c/ZUKVH-KDb30.jpg',\n",
       "     'photo_75': 'https://pp.userapi.com/c638720/v638720358/3224a/A--QVaIuMAM.jpg',\n",
       "     'photo_807': 'https://pp.userapi.com/c638720/v638720358/3224d/mN0bMSCNPmw.jpg',\n",
       "     'post_id': 3560,\n",
       "     'text': '',\n",
       "     'width': 750},\n",
       "    'type': 'photo'}],\n",
       "  'comments': {'can_post': 0, 'count': 0, 'groups_can_post': True},\n",
       "  'date': 1493664166,\n",
       "  'from_id': 23704358,\n",
       "  'id': 3560,\n",
       "  'likes': {'can_like': 1, 'can_publish': 1, 'count': 9, 'user_likes': 0},\n",
       "  'owner_id': 23704358,\n",
       "  'post_source': {'platform': 'instagram',\n",
       "   'type': 'api',\n",
       "   'url': 'https://www.instagram.com/p/BTgQBCqFgOO/'},\n",
       "  'post_type': 'post',\n",
       "  'reposts': {'count': 0, 'user_reposted': 0},\n",
       "  'text': 'Прохладное, но довольно интересное занятие этот #рафтинг👍',\n",
       "  'views': {'count': 114}},\n",
       " {'attachments': [{'photo': {'access_key': '5a0f7270faee5cea30',\n",
       "     'album_id': -7,\n",
       "     'date': 1493654327,\n",
       "     'height': 562,\n",
       "     'id': 456239018,\n",
       "     'owner_id': 23704358,\n",
       "     'photo_130': 'https://pp.userapi.com/c638720/v638720358/32178/49pCz8XUDD4.jpg',\n",
       "     'photo_604': 'https://pp.userapi.com/c638720/v638720358/32179/X8LTXRN4QJM.jpg',\n",
       "     'photo_75': 'https://pp.userapi.com/c638720/v638720358/32177/2AMLNFDxbnM.jpg',\n",
       "     'photo_807': 'https://pp.userapi.com/c638720/v638720358/3217a/ujkZuKZ0y3w.jpg',\n",
       "     'post_id': 3559,\n",
       "     'text': '',\n",
       "     'width': 750},\n",
       "    'type': 'photo'}],\n",
       "  'comments': {'can_post': 0, 'count': 0, 'groups_can_post': True},\n",
       "  'date': 1493654328,\n",
       "  'from_id': 23704358,\n",
       "  'geo': {'coordinates': '36.525311479699 32.31312085384',\n",
       "   'place': {'city': 'Antalya',\n",
       "    'country': 'Турция',\n",
       "    'created': 0,\n",
       "    'icon': 'https://vk.com/images/places/place.png',\n",
       "    'id': 0,\n",
       "    'latitude': 0.0,\n",
       "    'longitude': 0.0,\n",
       "    'title': 'Unnamed Road, Antalya'},\n",
       "   'type': 'point'},\n",
       "  'id': 3559,\n",
       "  'likes': {'can_like': 1, 'can_publish': 1, 'count': 15, 'user_likes': 0},\n",
       "  'owner_id': 23704358,\n",
       "  'post_source': {'platform': 'instagram',\n",
       "   'type': 'api',\n",
       "   'url': 'https://www.instagram.com/p/BTjjw1llqMf/'},\n",
       "  'post_type': 'post',\n",
       "  'reposts': {'count': 0, 'user_reposted': 0},\n",
       "  'text': '',\n",
       "  'views': {'count': 101}},\n",
       " {'attachments': [{'photo': {'access_key': '823d7f00493ea48012',\n",
       "     'album_id': -7,\n",
       "     'date': 1474494944,\n",
       "     'height': 1080,\n",
       "     'id': 432943910,\n",
       "     'owner_id': 23704358,\n",
       "     'photo_1280': 'https://pp.userapi.com/c638125/v638125358/270/AcuRrYsVM9M.jpg',\n",
       "     'photo_130': 'https://pp.userapi.com/c638125/v638125358/26d/xTmffEzfCjs.jpg',\n",
       "     'photo_604': 'https://pp.userapi.com/c638125/v638125358/26e/wibbEKdN_Jk.jpg',\n",
       "     'photo_75': 'https://pp.userapi.com/c638125/v638125358/26c/djFU01iQTFY.jpg',\n",
       "     'photo_807': 'https://pp.userapi.com/c638125/v638125358/26f/pFCUMaQvsu8.jpg',\n",
       "     'post_id': 3558,\n",
       "     'text': '',\n",
       "     'width': 1080},\n",
       "    'type': 'photo'}],\n",
       "  'comments': {'can_post': 0, 'count': 0, 'groups_can_post': True},\n",
       "  'date': 1474494945,\n",
       "  'from_id': 23704358,\n",
       "  'geo': {'coordinates': '48.450003165524 34.983302408223',\n",
       "   'place': {'city': 'Днепропетровск',\n",
       "    'country': 'Украина',\n",
       "    'created': 0,\n",
       "    'icon': 'https://vk.com/images/places/place.png',\n",
       "    'id': 0,\n",
       "    'latitude': 0.0,\n",
       "    'longitude': 0.0,\n",
       "    'title': 'Мартеновская улица, Днепропетровск'},\n",
       "   'type': 'point'},\n",
       "  'id': 3558,\n",
       "  'likes': {'can_like': 1, 'can_publish': 1, 'count': 10, 'user_likes': 0},\n",
       "  'owner_id': 23704358,\n",
       "  'post_source': {'platform': 'instagram',\n",
       "   'type': 'api',\n",
       "   'url': 'https://www.instagram.com/p/BKokJeSAMrZ/'},\n",
       "  'post_type': 'post',\n",
       "  'reposts': {'count': 0, 'user_reposted': 0},\n",
       "  'text': '#щастьяполныештаны ☺️ @ Dnipropetrovsk, Ukraine'},\n",
       " {'comments': {'can_post': 0, 'count': 0, 'groups_can_post': True},\n",
       "  'copy_history': [{'attachments': [{'type': 'video',\n",
       "      'video': {'access_key': '1f014c197aa47a323a',\n",
       "       'can_add': 1,\n",
       "       'comments': 2,\n",
       "       'date': 1469044881,\n",
       "       'description': '',\n",
       "       'duration': 204,\n",
       "       'id': 456239019,\n",
       "       'owner_id': 37423666,\n",
       "       'photo_130': 'https://pp.userapi.com/c633928/u37423666/video/s_28f9ac53.jpg',\n",
       "       'photo_320': 'https://pp.userapi.com/c633928/u37423666/video/l_da99bae9.jpg',\n",
       "       'photo_640': 'https://pp.userapi.com/c633928/u37423666/video/y_db71b6ed.jpg',\n",
       "       'platform': 'YouTube',\n",
       "       'title': 'Затока Одесса 2016 GoPro session',\n",
       "       'views': 140}}],\n",
       "    'date': 1469045079,\n",
       "    'from_id': 37423666,\n",
       "    'id': 3341,\n",
       "    'owner_id': 37423666,\n",
       "    'post_source': {'platform': 'android', 'type': 'api'},\n",
       "    'post_type': 'post',\n",
       "    'text': ''}],\n",
       "  'date': 1469079876,\n",
       "  'from_id': 23704358,\n",
       "  'id': 3557,\n",
       "  'likes': {'can_like': 1, 'can_publish': 1, 'count': 5, 'user_likes': 0},\n",
       "  'owner_id': 23704358,\n",
       "  'post_source': {'platform': 'android', 'type': 'api'},\n",
       "  'post_type': 'post',\n",
       "  'reposts': {'count': 0, 'user_reposted': 0},\n",
       "  'text': ''},\n",
       " {'attachments': [{'photo': {'album_id': -6,\n",
       "     'date': 1462259579,\n",
       "     'height': 948,\n",
       "     'id': 412384871,\n",
       "     'owner_id': 23704358,\n",
       "     'photo_1280': 'https://pp.userapi.com/c631821/v631821358/22e36/Y-fVo0GuN80.jpg',\n",
       "     'photo_130': 'https://pp.userapi.com/c631821/v631821358/22e33/-_oekXM2VIw.jpg',\n",
       "     'photo_604': 'https://pp.userapi.com/c631821/v631821358/22e34/MvrPtfkGwDo.jpg',\n",
       "     'photo_75': 'https://pp.userapi.com/c631821/v631821358/22e32/bzCjeNfqmNY.jpg',\n",
       "     'photo_807': 'https://pp.userapi.com/c631821/v631821358/22e35/B5D1KYEHaSo.jpg',\n",
       "     'post_id': 3556,\n",
       "     'text': '',\n",
       "     'width': 1280},\n",
       "    'type': 'photo'}],\n",
       "  'comments': {'can_post': 0, 'count': 0, 'groups_can_post': True},\n",
       "  'date': 1462259579,\n",
       "  'from_id': 23704358,\n",
       "  'id': 3556,\n",
       "  'likes': {'can_like': 1, 'can_publish': 1, 'count': 27, 'user_likes': 0},\n",
       "  'owner_id': 23704358,\n",
       "  'post_source': {'data': 'profile_photo',\n",
       "   'platform': 'android',\n",
       "   'type': 'api'},\n",
       "  'post_type': 'post',\n",
       "  'reposts': {'count': 0, 'user_reposted': 0},\n",
       "  'text': ''}]"
      ]
     },
     "execution_count": 3,
     "metadata": {},
     "output_type": "execute_result"
    }
   ],
   "source": [
    "jposts[:5]"
   ]
  },
  {
   "cell_type": "code",
   "execution_count": 4,
   "metadata": {
    "collapsed": false
   },
   "outputs": [
    {
     "data": {
      "text/plain": [
       "dict_keys(['attachments', 'comments', 'date', 'from_id', 'id', 'likes', 'owner_id', 'post_source', 'post_type', 'reposts', 'text', 'views'])"
      ]
     },
     "execution_count": 4,
     "metadata": {},
     "output_type": "execute_result"
    }
   ],
   "source": [
    "jposts[0].keys()"
   ]
  },
  {
   "cell_type": "code",
   "execution_count": 5,
   "metadata": {
    "collapsed": false
   },
   "outputs": [
    {
     "data": {
      "text/plain": [
       "dict_keys(['comments', 'copy_history', 'date', 'from_id', 'id', 'likes', 'owner_id', 'post_source', 'post_type', 'reposts', 'text'])"
      ]
     },
     "execution_count": 5,
     "metadata": {},
     "output_type": "execute_result"
    }
   ],
   "source": [
    "jposts[1013].keys()"
   ]
  },
  {
   "cell_type": "markdown",
   "metadata": {},
   "source": [
    "Трансформация json в dataframe реализовано в модуле vk_api\n",
    "в двух методах - read_posts и read_users"
   ]
  },
  {
   "cell_type": "code",
   "execution_count": 6,
   "metadata": {
    "collapsed": false
   },
   "outputs": [
    {
     "data": {
      "text/plain": [
       "Index(['owner_id', 'text', 'comments_count', 'likes_count', 'reposts_count',\n",
       "       'date', 'post_type', 'views_count', 'copy_history_text',\n",
       "       'copy_history_post_type', 'attachments_video_count',\n",
       "       'attachments_photo_count', 'attachments_audio_count'],\n",
       "      dtype='object')"
      ]
     },
     "execution_count": 6,
     "metadata": {},
     "output_type": "execute_result"
    }
   ],
   "source": [
    "post_df = vk_api.read_posts()\n",
    "post_df.columns"
   ]
  },
  {
   "cell_type": "code",
   "execution_count": 7,
   "metadata": {
    "collapsed": false
   },
   "outputs": [
    {
     "name": "stdout",
     "output_type": "stream",
     "text": [
      "Index(['about', 'activities', 'bdate', 'books', 'byear', 'country_id',\n",
      "       'country_title', 'education_form', 'education_status', 'faculty',\n",
      "       'faculty_name', 'first_name', 'graduation', 'home_phone', 'home_town',\n",
      "       'id', 'interests', 'last_name', 'mobile_phone', 'movies', 'music',\n",
      "       'personal_alcohol', 'personal_inspired_by', 'personal_langs_0',\n",
      "       'personal_langs_1', 'personal_langs_10', 'personal_langs_11',\n",
      "       'personal_langs_12', 'personal_langs_13', 'personal_langs_14',\n",
      "       'personal_langs_15', 'personal_langs_16', 'personal_langs_17',\n",
      "       'personal_langs_18', 'personal_langs_19', 'personal_langs_2',\n",
      "       'personal_langs_20', 'personal_langs_21', 'personal_langs_22',\n",
      "       'personal_langs_23', 'personal_langs_24', 'personal_langs_25',\n",
      "       'personal_langs_26', 'personal_langs_27', 'personal_langs_28',\n",
      "       'personal_langs_29', 'personal_langs_3', 'personal_langs_4',\n",
      "       'personal_langs_5', 'personal_langs_6', 'personal_langs_7',\n",
      "       'personal_langs_8', 'personal_langs_9', 'personal_life_main',\n",
      "       'personal_people_main', 'personal_political', 'personal_religion',\n",
      "       'personal_smoking', 'relation', 'relation_partner_first_name',\n",
      "       'relation_partner_id', 'relation_partner_last_name', 'sex',\n",
      "       'universities_0_chair', 'universities_0_chair_name',\n",
      "       'universities_0_city', 'universities_0_country',\n",
      "       'universities_0_education_form', 'universities_0_education_status',\n",
      "       'universities_0_faculty', 'universities_0_faculty_name',\n",
      "       'universities_0_graduation', 'universities_0_id', 'universities_0_name',\n",
      "       'universities_1_chair', 'universities_1_chair_name',\n",
      "       'universities_1_city', 'universities_1_country',\n",
      "       'universities_1_education_form', 'universities_1_education_status',\n",
      "       'universities_1_faculty', 'universities_1_faculty_name',\n",
      "       'universities_1_graduation', 'universities_1_id', 'universities_1_name',\n",
      "       'universities_2_chair', 'universities_2_chair_name',\n",
      "       'universities_2_city', 'universities_2_country',\n",
      "       'universities_2_education_form', 'universities_2_education_status',\n",
      "       'universities_2_faculty', 'universities_2_faculty_name',\n",
      "       'universities_2_id', 'universities_2_name', 'university',\n",
      "       'university_name'],\n",
      "      dtype='object')\n"
     ]
    }
   ],
   "source": [
    "user_df = vk_api.read_users()\n",
    "print(user_df.columns)\n",
    "user_df = user_df[['id','about', 'byear', 'books', 'activities', 'graduation',  'interests','movies', 'music', 'sex', 'relation' ]]"
   ]
  },
  {
   "cell_type": "markdown",
   "metadata": {},
   "source": [
    "Итого определились с полями у пользователей и в постах"
   ]
  },
  {
   "cell_type": "code",
   "execution_count": 8,
   "metadata": {
    "collapsed": false
   },
   "outputs": [
    {
     "name": "stdout",
     "output_type": "stream",
     "text": [
      "owner_id\n",
      "text\n",
      "comments_count\n",
      "likes_count\n",
      "reposts_count\n",
      "date\n",
      "post_type\n",
      "views_count\n",
      "copy_history_text\n",
      "copy_history_post_type\n",
      "attachments_video_count\n",
      "attachments_photo_count\n",
      "attachments_audio_count\n"
     ]
    }
   ],
   "source": [
    "for col in post_df.columns:\n",
    "    print(col)"
   ]
  },
  {
   "cell_type": "code",
   "execution_count": 9,
   "metadata": {
    "collapsed": false
   },
   "outputs": [
    {
     "name": "stdout",
     "output_type": "stream",
     "text": [
      "id\n",
      "about\n",
      "byear\n",
      "books\n",
      "activities\n",
      "graduation\n",
      "interests\n",
      "movies\n",
      "music\n",
      "sex\n",
      "relation\n"
     ]
    }
   ],
   "source": [
    "for col in user_df.columns:\n",
    "    print(col)    "
   ]
  },
  {
   "cell_type": "markdown",
   "metadata": {},
   "source": [
    "Заполним отсутствующий текст текстом из репоста, а если вообще нет текстат ни там ни там, заполним типом поста - есть варианты можно заполнить типа вложений"
   ]
  },
  {
   "cell_type": "code",
   "execution_count": 10,
   "metadata": {
    "collapsed": false
   },
   "outputs": [],
   "source": [
    "post_df.loc[post_df['text']=='','text'] = post_df['copy_history_text'].fillna(post_df['post_type'])"
   ]
  },
  {
   "cell_type": "markdown",
   "metadata": {},
   "source": [
    "Удалим дубликаты"
   ]
  },
  {
   "cell_type": "code",
   "execution_count": 11,
   "metadata": {
    "collapsed": false
   },
   "outputs": [
    {
     "data": {
      "text/plain": [
       "owner_id                   29929\n",
       "text                       29929\n",
       "comments_count             29929\n",
       "likes_count                29929\n",
       "reposts_count              29929\n",
       "date                       29929\n",
       "post_type                  29929\n",
       "views_count                29929\n",
       "copy_history_text          22236\n",
       "copy_history_post_type     22236\n",
       "attachments_video_count     6035\n",
       "attachments_photo_count     6035\n",
       "attachments_audio_count     6035\n",
       "dtype: int64"
      ]
     },
     "execution_count": 11,
     "metadata": {},
     "output_type": "execute_result"
    }
   ],
   "source": [
    "post_df = post_df.drop_duplicates()\n",
    "post_df.count()"
   ]
  },
  {
   "cell_type": "markdown",
   "metadata": {},
   "source": [
    "Смержим с пользователями"
   ]
  },
  {
   "cell_type": "code",
   "execution_count": 12,
   "metadata": {
    "collapsed": false
   },
   "outputs": [],
   "source": [
    "post_df = post_df.merge(user_df, how=\"inner\", left_on=\"owner_id\",right_on='id')"
   ]
  },
  {
   "cell_type": "markdown",
   "metadata": {},
   "source": [
    "Пермешаем посты  и для начала нам достаточно года рождения и текста, с них и начнем"
   ]
  },
  {
   "cell_type": "code",
   "execution_count": 13,
   "metadata": {
    "collapsed": false
   },
   "outputs": [],
   "source": [
    "#post_df\n",
    "from sklearn.utils import shuffle\n",
    "df = shuffle(post_df[['byear', 'text']])"
   ]
  },
  {
   "cell_type": "code",
   "execution_count": 14,
   "metadata": {
    "collapsed": false
   },
   "outputs": [
    {
     "data": {
      "text/html": [
       "<div>\n",
       "<table border=\"1\" class=\"dataframe\">\n",
       "  <thead>\n",
       "    <tr style=\"text-align: right;\">\n",
       "      <th></th>\n",
       "      <th>byear</th>\n",
       "      <th>text</th>\n",
       "    </tr>\n",
       "  </thead>\n",
       "  <tbody>\n",
       "    <tr>\n",
       "      <th>28653</th>\n",
       "      <td>1996</td>\n",
       "      <td>Смешная озвучка фильма ТОР</td>\n",
       "    </tr>\n",
       "    <tr>\n",
       "      <th>7219</th>\n",
       "      <td>1983</td>\n",
       "      <td>Семь «тайных» садов и скверов Петербурга \\n \\n...</td>\n",
       "    </tr>\n",
       "    <tr>\n",
       "      <th>6748</th>\n",
       "      <td>1994</td>\n",
       "      <td>Туалет это реально место реальных людей))))аха...</td>\n",
       "    </tr>\n",
       "    <tr>\n",
       "      <th>6957</th>\n",
       "      <td>1974</td>\n",
       "      <td>Быстрый тортик - Вы такой еще не пробовали!\\n\\...</td>\n",
       "    </tr>\n",
       "    <tr>\n",
       "      <th>15997</th>\n",
       "      <td>1968</td>\n",
       "      <td>Время Успешных МАМ!</td>\n",
       "    </tr>\n",
       "    <tr>\n",
       "      <th>21299</th>\n",
       "      <td>1988</td>\n",
       "      <td>Этот сезон станет последним для Роналдиньо 😢 😰...</td>\n",
       "    </tr>\n",
       "    <tr>\n",
       "      <th>28573</th>\n",
       "      <td>1996</td>\n",
       "      <td>Я хочу творить добро. Я хочу, чтобы мир стал л...</td>\n",
       "    </tr>\n",
       "    <tr>\n",
       "      <th>15638</th>\n",
       "      <td>1992</td>\n",
       "      <td></td>\n",
       "    </tr>\n",
       "    <tr>\n",
       "      <th>16863</th>\n",
       "      <td>1991</td>\n",
       "      <td></td>\n",
       "    </tr>\n",
       "    <tr>\n",
       "      <th>28243</th>\n",
       "      <td>1986</td>\n",
       "      <td>\"От большой любви рождаются красивые детки...\"</td>\n",
       "    </tr>\n",
       "    <tr>\n",
       "      <th>9021</th>\n",
       "      <td>1974</td>\n",
       "      <td></td>\n",
       "    </tr>\n",
       "    <tr>\n",
       "      <th>16279</th>\n",
       "      <td>1987</td>\n",
       "      <td></td>\n",
       "    </tr>\n",
       "    <tr>\n",
       "      <th>8616</th>\n",
       "      <td>1992</td>\n",
       "      <td>Делаем украшение с бабочками.\\n\\nДля работы ва...</td>\n",
       "    </tr>\n",
       "    <tr>\n",
       "      <th>3902</th>\n",
       "      <td>1992</td>\n",
       "      <td>Семён Слепаков: Море работы</td>\n",
       "    </tr>\n",
       "    <tr>\n",
       "      <th>23862</th>\n",
       "      <td>2002</td>\n",
       "      <td></td>\n",
       "    </tr>\n",
       "    <tr>\n",
       "      <th>18547</th>\n",
       "      <td>1994</td>\n",
       "      <td></td>\n",
       "    </tr>\n",
       "    <tr>\n",
       "      <th>2727</th>\n",
       "      <td>1992</td>\n",
       "      <td></td>\n",
       "    </tr>\n",
       "    <tr>\n",
       "      <th>23487</th>\n",
       "      <td>1991</td>\n",
       "      <td>Стол, совмещенный с мангалом.</td>\n",
       "    </tr>\n",
       "    <tr>\n",
       "      <th>3047</th>\n",
       "      <td>1991</td>\n",
       "      <td>Самодельный столик, который будет радовать вас...</td>\n",
       "    </tr>\n",
       "    <tr>\n",
       "      <th>1028</th>\n",
       "      <td>2002</td>\n",
       "      <td></td>\n",
       "    </tr>\n",
       "    <tr>\n",
       "      <th>13512</th>\n",
       "      <td>1983</td>\n",
       "      <td>post</td>\n",
       "    </tr>\n",
       "    <tr>\n",
       "      <th>25155</th>\n",
       "      <td>1995</td>\n",
       "      <td>Когда любишь, можно ждать не только часами, дн...</td>\n",
       "    </tr>\n",
       "    <tr>\n",
       "      <th>3205</th>\n",
       "      <td>1991</td>\n",
       "      <td></td>\n",
       "    </tr>\n",
       "    <tr>\n",
       "      <th>12902</th>\n",
       "      <td>1990</td>\n",
       "      <td>СРОЧНО продам!!!\\nЧто именно в продаже написан...</td>\n",
       "    </tr>\n",
       "    <tr>\n",
       "      <th>14691</th>\n",
       "      <td>1994</td>\n",
       "      <td>post</td>\n",
       "    </tr>\n",
       "    <tr>\n",
       "      <th>27399</th>\n",
       "      <td>1993</td>\n",
       "      <td></td>\n",
       "    </tr>\n",
       "    <tr>\n",
       "      <th>11722</th>\n",
       "      <td>1985</td>\n",
       "      <td>ТИХО НОСИКОМ СОПИТ, МАМУ ОБНИМАЯ,\\nВОТ ОН, РЯД...</td>\n",
       "    </tr>\n",
       "    <tr>\n",
       "      <th>8893</th>\n",
       "      <td>1990</td>\n",
       "      <td>Вот и закончился долгожданный лагерь \"ГейБелар...</td>\n",
       "    </tr>\n",
       "    <tr>\n",
       "      <th>29645</th>\n",
       "      <td>1987</td>\n",
       "      <td>Карие глаза\\n\\nПо статистике, обладатели карих...</td>\n",
       "    </tr>\n",
       "    <tr>\n",
       "      <th>26378</th>\n",
       "      <td>1992</td>\n",
       "      <td>\"Уверен, наша кошка думает, что мы собрали дет...</td>\n",
       "    </tr>\n",
       "    <tr>\n",
       "      <th>...</th>\n",
       "      <td>...</td>\n",
       "      <td>...</td>\n",
       "    </tr>\n",
       "    <tr>\n",
       "      <th>2883</th>\n",
       "      <td>1992</td>\n",
       "      <td></td>\n",
       "    </tr>\n",
       "    <tr>\n",
       "      <th>7123</th>\n",
       "      <td>1974</td>\n",
       "      <td></td>\n",
       "    </tr>\n",
       "    <tr>\n",
       "      <th>15703</th>\n",
       "      <td>1992</td>\n",
       "      <td>Красотка ❤</td>\n",
       "    </tr>\n",
       "    <tr>\n",
       "      <th>19765</th>\n",
       "      <td>1985</td>\n",
       "      <td>Роскошный макияж!💄</td>\n",
       "    </tr>\n",
       "    <tr>\n",
       "      <th>289</th>\n",
       "      <td>1996</td>\n",
       "      <td>а я сдала!!!я сдала тест!!!!ЁЁЁёёЁЁёё...я сдал...</td>\n",
       "    </tr>\n",
       "    <tr>\n",
       "      <th>27983</th>\n",
       "      <td>1987</td>\n",
       "      <td>Иногда хочется так же</td>\n",
       "    </tr>\n",
       "    <tr>\n",
       "      <th>11366</th>\n",
       "      <td>1996</td>\n",
       "      <td></td>\n",
       "    </tr>\n",
       "    <tr>\n",
       "      <th>26337</th>\n",
       "      <td>1992</td>\n",
       "      <td>post</td>\n",
       "    </tr>\n",
       "    <tr>\n",
       "      <th>3608</th>\n",
       "      <td>1999</td>\n",
       "      <td></td>\n",
       "    </tr>\n",
       "    <tr>\n",
       "      <th>15332</th>\n",
       "      <td>1995</td>\n",
       "      <td>#кинотеатр#понедельник#сплит @ Сургут Сити Молл</td>\n",
       "    </tr>\n",
       "    <tr>\n",
       "      <th>11592</th>\n",
       "      <td>1989</td>\n",
       "      <td>Коротко об отношениях между мужчиной и женщиной:</td>\n",
       "    </tr>\n",
       "    <tr>\n",
       "      <th>23430</th>\n",
       "      <td>1991</td>\n",
       "      <td>И пусть жизнь катится к чертям. Зато под хорош...</td>\n",
       "    </tr>\n",
       "    <tr>\n",
       "      <th>7092</th>\n",
       "      <td>1974</td>\n",
       "      <td></td>\n",
       "    </tr>\n",
       "    <tr>\n",
       "      <th>28416</th>\n",
       "      <td>1986</td>\n",
       "      <td>Куриные сердечки с шампиньонами\\n🔸на 100грамм ...</td>\n",
       "    </tr>\n",
       "    <tr>\n",
       "      <th>29905</th>\n",
       "      <td>1987</td>\n",
       "      <td>Сдержать можно все... Слезы... Злость... Боль....</td>\n",
       "    </tr>\n",
       "    <tr>\n",
       "      <th>10970</th>\n",
       "      <td>1998</td>\n",
       "      <td>Минитест пройден, результат ниже. Протестирова...</td>\n",
       "    </tr>\n",
       "    <tr>\n",
       "      <th>28570</th>\n",
       "      <td>1996</td>\n",
       "      <td>Сарказм в работах испанского иллюстратора Naolito</td>\n",
       "    </tr>\n",
       "    <tr>\n",
       "      <th>28016</th>\n",
       "      <td>1987</td>\n",
       "      <td>Бахубали: Завершение (2017)🔥 \\nЖанр: Фэнтези, ...</td>\n",
       "    </tr>\n",
       "    <tr>\n",
       "      <th>16146</th>\n",
       "      <td>1987</td>\n",
       "      <td>Шоколад...</td>\n",
       "    </tr>\n",
       "    <tr>\n",
       "      <th>21650</th>\n",
       "      <td>1980</td>\n",
       "      <td>с новым утром☉🚗\\n\\n#автоковрикнск #Eva #evakov...</td>\n",
       "    </tr>\n",
       "    <tr>\n",
       "      <th>14590</th>\n",
       "      <td>1986</td>\n",
       "      <td>Пирог \"Зебра\"\\n\\nИнгредиенты:\\n\\n● 2,5 стакана...</td>\n",
       "    </tr>\n",
       "    <tr>\n",
       "      <th>28601</th>\n",
       "      <td>1996</td>\n",
       "      <td>Газгольдер: Фильм (2014)\\nЖанр: боевик\\n\\nУ Ба...</td>\n",
       "    </tr>\n",
       "    <tr>\n",
       "      <th>25192</th>\n",
       "      <td>1995</td>\n",
       "      <td>Эмоции в выпускном альбоме!\\nhttp://vk.cc/382Oum</td>\n",
       "    </tr>\n",
       "    <tr>\n",
       "      <th>29691</th>\n",
       "      <td>1987</td>\n",
       "      <td>Единственная причина, по которой я еще никого ...</td>\n",
       "    </tr>\n",
       "    <tr>\n",
       "      <th>14079</th>\n",
       "      <td>1953</td>\n",
       "      <td>Запеканка из тертого картофеля с сыром и чесно...</td>\n",
       "    </tr>\n",
       "    <tr>\n",
       "      <th>22502</th>\n",
       "      <td>1987</td>\n",
       "      <td>post</td>\n",
       "    </tr>\n",
       "    <tr>\n",
       "      <th>20876</th>\n",
       "      <td>1911</td>\n",
       "      <td>10 сказочных фильмов, от которых будут в восто...</td>\n",
       "    </tr>\n",
       "    <tr>\n",
       "      <th>29683</th>\n",
       "      <td>1987</td>\n",
       "      <td>Как бы мы не доверяли , мы все равно ревнуем.</td>\n",
       "    </tr>\n",
       "    <tr>\n",
       "      <th>25368</th>\n",
       "      <td>1995</td>\n",
       "      <td></td>\n",
       "    </tr>\n",
       "    <tr>\n",
       "      <th>2912</th>\n",
       "      <td>1992</td>\n",
       "      <td></td>\n",
       "    </tr>\n",
       "  </tbody>\n",
       "</table>\n",
       "<p>29929 rows × 2 columns</p>\n",
       "</div>"
      ],
      "text/plain": [
       "      byear                                               text\n",
       "28653  1996                         Смешная озвучка фильма ТОР\n",
       "7219   1983  Семь «тайных» садов и скверов Петербурга \\n \\n...\n",
       "6748   1994  Туалет это реально место реальных людей))))аха...\n",
       "6957   1974  Быстрый тортик - Вы такой еще не пробовали!\\n\\...\n",
       "15997  1968                                Время Успешных МАМ!\n",
       "21299  1988  Этот сезон станет последним для Роналдиньо 😢 😰...\n",
       "28573  1996  Я хочу творить добро. Я хочу, чтобы мир стал л...\n",
       "15638  1992                                                   \n",
       "16863  1991                                                   \n",
       "28243  1986     \"От большой любви рождаются красивые детки...\"\n",
       "9021   1974                                                   \n",
       "16279  1987                                                   \n",
       "8616   1992  Делаем украшение с бабочками.\\n\\nДля работы ва...\n",
       "3902   1992                        Семён Слепаков: Море работы\n",
       "23862  2002                                                   \n",
       "18547  1994                                                   \n",
       "2727   1992                                                   \n",
       "23487  1991                      Стол, совмещенный с мангалом.\n",
       "3047   1991  Самодельный столик, который будет радовать вас...\n",
       "1028   2002                                                   \n",
       "13512  1983                                               post\n",
       "25155  1995  Когда любишь, можно ждать не только часами, дн...\n",
       "3205   1991                                                   \n",
       "12902  1990  СРОЧНО продам!!!\\nЧто именно в продаже написан...\n",
       "14691  1994                                               post\n",
       "27399  1993                                                   \n",
       "11722  1985  ТИХО НОСИКОМ СОПИТ, МАМУ ОБНИМАЯ,\\nВОТ ОН, РЯД...\n",
       "8893   1990  Вот и закончился долгожданный лагерь \"ГейБелар...\n",
       "29645  1987  Карие глаза\\n\\nПо статистике, обладатели карих...\n",
       "26378  1992  \"Уверен, наша кошка думает, что мы собрали дет...\n",
       "...     ...                                                ...\n",
       "2883   1992                                                   \n",
       "7123   1974                                                   \n",
       "15703  1992                                         Красотка ❤\n",
       "19765  1985                                 Роскошный макияж!💄\n",
       "289    1996  а я сдала!!!я сдала тест!!!!ЁЁЁёёЁЁёё...я сдал...\n",
       "27983  1987                              Иногда хочется так же\n",
       "11366  1996                                                   \n",
       "26337  1992                                               post\n",
       "3608   1999                                                   \n",
       "15332  1995    #кинотеатр#понедельник#сплит @ Сургут Сити Молл\n",
       "11592  1989   Коротко об отношениях между мужчиной и женщиной:\n",
       "23430  1991  И пусть жизнь катится к чертям. Зато под хорош...\n",
       "7092   1974                                                   \n",
       "28416  1986  Куриные сердечки с шампиньонами\\n🔸на 100грамм ...\n",
       "29905  1987  Сдержать можно все... Слезы... Злость... Боль....\n",
       "10970  1998  Минитест пройден, результат ниже. Протестирова...\n",
       "28570  1996  Сарказм в работах испанского иллюстратора Naolito\n",
       "28016  1987  Бахубали: Завершение (2017)🔥 \\nЖанр: Фэнтези, ...\n",
       "16146  1987                                         Шоколад...\n",
       "21650  1980  с новым утром☉🚗\\n\\n#автоковрикнск #Eva #evakov...\n",
       "14590  1986  Пирог \"Зебра\"\\n\\nИнгредиенты:\\n\\n● 2,5 стакана...\n",
       "28601  1996  Газгольдер: Фильм (2014)\\nЖанр: боевик\\n\\nУ Ба...\n",
       "25192  1995   Эмоции в выпускном альбоме!\\nhttp://vk.cc/382Oum\n",
       "29691  1987  Единственная причина, по которой я еще никого ...\n",
       "14079  1953  Запеканка из тертого картофеля с сыром и чесно...\n",
       "22502  1987                                               post\n",
       "20876  1911  10 сказочных фильмов, от которых будут в восто...\n",
       "29683  1987      Как бы мы не доверяли , мы все равно ревнуем.\n",
       "25368  1995                                                   \n",
       "2912   1992                                                   \n",
       "\n",
       "[29929 rows x 2 columns]"
      ]
     },
     "execution_count": 14,
     "metadata": {},
     "output_type": "execute_result"
    }
   ],
   "source": [
    "df"
   ]
  },
  {
   "cell_type": "markdown",
   "metadata": {},
   "source": [
    "Разобьем на train и test"
   ]
  },
  {
   "cell_type": "code",
   "execution_count": 15,
   "metadata": {
    "collapsed": false
   },
   "outputs": [],
   "source": [
    "df_train = df[0:10000]\n",
    "df_test = df[10001:20000]"
   ]
  },
  {
   "cell_type": "code",
   "execution_count": 16,
   "metadata": {
    "collapsed": false
   },
   "outputs": [],
   "source": [
    "from sklearn.feature_extraction.text import CountVectorizer\n",
    "count_vect = CountVectorizer()\n",
    "x = count_vect.fit_transform(df_train['text']).todense()"
   ]
  },
  {
   "cell_type": "code",
   "execution_count": 17,
   "metadata": {
    "collapsed": false
   },
   "outputs": [
    {
     "data": {
      "text/plain": [
       "(10000, 70768)"
      ]
     },
     "execution_count": 17,
     "metadata": {},
     "output_type": "execute_result"
    }
   ],
   "source": [
    "x.shape"
   ]
  },
  {
   "cell_type": "code",
   "execution_count": 18,
   "metadata": {
    "collapsed": false
   },
   "outputs": [],
   "source": [
    "from sklearn.feature_extraction.text import TfidfVectorizer\n",
    "vectorizer = TfidfVectorizer()\n",
    "features = vectorizer.fit_transform(df_train['text'])"
   ]
  },
  {
   "cell_type": "code",
   "execution_count": 19,
   "metadata": {
    "collapsed": false
   },
   "outputs": [
    {
     "data": {
      "text/plain": [
       "(10000, 70768)"
      ]
     },
     "execution_count": 19,
     "metadata": {},
     "output_type": "execute_result"
    }
   ],
   "source": [
    "features.shape"
   ]
  },
  {
   "cell_type": "code",
   "execution_count": 20,
   "metadata": {
    "collapsed": false
   },
   "outputs": [
    {
     "data": {
      "text/plain": [
       "set()"
      ]
     },
     "execution_count": 20,
     "metadata": {},
     "output_type": "execute_result"
    }
   ],
   "source": [
    "vectorizer.stop_words_"
   ]
  },
  {
   "cell_type": "code",
   "execution_count": null,
   "metadata": {
    "collapsed": true
   },
   "outputs": [],
   "source": []
  }
 ],
 "metadata": {
  "kernelspec": {
   "display_name": "Python 3",
   "language": "python",
   "name": "python3"
  },
  "language_info": {
   "codemirror_mode": {
    "name": "ipython",
    "version": 3
   },
   "file_extension": ".py",
   "mimetype": "text/x-python",
   "name": "python",
   "nbconvert_exporter": "python",
   "pygments_lexer": "ipython3",
   "version": "3.6.0"
  }
 },
 "nbformat": 4,
 "nbformat_minor": 2
}
