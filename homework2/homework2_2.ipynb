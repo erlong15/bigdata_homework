{
 "cells": [
  {
   "cell_type": "code",
   "execution_count": 2,
   "metadata": {
    "collapsed": true
   },
   "outputs": [],
   "source": [
    "import pandas as pd\n",
    "import numpy as np\n",
    "import matplotlib\n",
    "import matplotlib.pyplot as plt \n",
    "import matplotlib.mlab as mlab\n",
    "%matplotlib inline"
   ]
  },
  {
   "cell_type": "code",
   "execution_count": 46,
   "metadata": {
    "collapsed": false
   },
   "outputs": [
    {
     "data": {
      "text/plain": [
       "Index(['CLIENT', 'GROUP_', 'AGE_CP_DAYS', 'DAYS_FROM_LAST_PURCHASE',\n",
       "       'COMMUNICATIONS_SENT', 'COMMUNICATIONS_DELIVERED', 'PURCHASE_DAYS',\n",
       "       'PURCHASE_DAYS_PROMO', 'PURCHASE_SUMMA', 'TOTAL_DISCOUNT',\n",
       "       'PROMO_DISCOUNT', 'PURCHASE_UNITS', 'PURCHASE_UNITS_FULLPRICE',\n",
       "       'PURCHASE_UNITS_30_DISCOUNT', 'PURCHASE_UNITS_50_DISCOUNT',\n",
       "       'PURCHASE_UNITS_APPARELL', 'PURCHASE_UNITS_FOOTWEAR',\n",
       "       'PURCHASE_UNITS_EQUIPMENT', 'PURCHASE_UNITS_KIDS', 'PURCHASE_UNITS_MEN',\n",
       "       'PURCHASE_UNITS_WOMEN', 'BONUS_SUMMA_GIFT', 'BONUS_SUMMA_FOR_PURCHASE',\n",
       "       'BONUS_SPENT_GIFT', 'BONUS_SPENT_FOR_PURCHASE'],\n",
       "      dtype='object')"
      ]
     },
     "execution_count": 46,
     "metadata": {},
     "output_type": "execute_result"
    }
   ],
   "source": [
    "df = pd.read_csv('attributes.csv', delimiter=';')\n",
    "df.head(5)\n",
    "df.columns"
   ]
  },
  {
   "cell_type": "code",
   "execution_count": 25,
   "metadata": {
    "collapsed": false
   },
   "outputs": [
    {
     "name": "stdout",
     "output_type": "stream",
     "text": [
      "1319024236.949999\n"
     ]
    },
    {
     "data": {
      "text/html": [
       "<div>\n",
       "<table border=\"1\" class=\"dataframe\">\n",
       "  <thead>\n",
       "    <tr style=\"text-align: right;\">\n",
       "      <th></th>\n",
       "      <th>PURCHASE_DAYS</th>\n",
       "      <th>PURCHASE_SUMMA</th>\n",
       "      <th>PURCHASE_UNITS</th>\n",
       "      <th>profit_prc</th>\n",
       "      <th>profit_sum_prc</th>\n",
       "      <th>percent_group</th>\n",
       "    </tr>\n",
       "  </thead>\n",
       "  <tbody>\n",
       "    <tr>\n",
       "      <th>67750</th>\n",
       "      <td>83</td>\n",
       "      <td>481800.5</td>\n",
       "      <td>350</td>\n",
       "      <td>0.036527</td>\n",
       "      <td>0.036527</td>\n",
       "      <td>10</td>\n",
       "    </tr>\n",
       "    <tr>\n",
       "      <th>59647</th>\n",
       "      <td>23</td>\n",
       "      <td>439535.0</td>\n",
       "      <td>105</td>\n",
       "      <td>0.033323</td>\n",
       "      <td>0.069850</td>\n",
       "      <td>10</td>\n",
       "    </tr>\n",
       "    <tr>\n",
       "      <th>45785</th>\n",
       "      <td>79</td>\n",
       "      <td>428858.0</td>\n",
       "      <td>396</td>\n",
       "      <td>0.032513</td>\n",
       "      <td>0.102363</td>\n",
       "      <td>10</td>\n",
       "    </tr>\n",
       "    <tr>\n",
       "      <th>60544</th>\n",
       "      <td>30</td>\n",
       "      <td>390412.0</td>\n",
       "      <td>193</td>\n",
       "      <td>0.029599</td>\n",
       "      <td>0.131962</td>\n",
       "      <td>10</td>\n",
       "    </tr>\n",
       "    <tr>\n",
       "      <th>34462</th>\n",
       "      <td>57</td>\n",
       "      <td>389929.0</td>\n",
       "      <td>202</td>\n",
       "      <td>0.029562</td>\n",
       "      <td>0.161524</td>\n",
       "      <td>10</td>\n",
       "    </tr>\n",
       "  </tbody>\n",
       "</table>\n",
       "</div>"
      ],
      "text/plain": [
       "       PURCHASE_DAYS  PURCHASE_SUMMA  PURCHASE_UNITS  profit_prc  \\\n",
       "67750             83        481800.5             350    0.036527   \n",
       "59647             23        439535.0             105    0.033323   \n",
       "45785             79        428858.0             396    0.032513   \n",
       "60544             30        390412.0             193    0.029599   \n",
       "34462             57        389929.0             202    0.029562   \n",
       "\n",
       "       profit_sum_prc percent_group  \n",
       "67750        0.036527            10  \n",
       "59647        0.069850            10  \n",
       "45785        0.102363            10  \n",
       "60544        0.131962            10  \n",
       "34462        0.161524            10  "
      ]
     },
     "execution_count": 25,
     "metadata": {},
     "output_type": "execute_result"
    }
   ],
   "source": [
    "full_profit = df['PURCHASE_SUMMA'].sum()\n",
    "print(full_profit)\n",
    "pdf = df[df['PURCHASE_SUMMA'] > 0][['PURCHASE_DAYS', 'PURCHASE_SUMMA', 'PURCHASE_UNITS']].sort_values('PURCHASE_SUMMA', ascending=False)\n",
    "pdf['profit_prc'] = pdf['PURCHASE_SUMMA']/(full_profit/100)\n",
    "pdf['profit_sum_prc'] = pdf['profit_prc'].cumsum()\n",
    "bins = np.arange(0,101, 10)\n",
    "labels = [10,20,30,40,50,60,70,80,90,100]\n",
    "pdf['percent_group'] = pd.cut(pdf['profit_sum_prc'], bins, labels=labels)\n",
    "pdf.head(5)"
   ]
  },
  {
   "cell_type": "code",
   "execution_count": null,
   "metadata": {
    "collapsed": false
   },
   "outputs": [],
   "source": []
  },
  {
   "cell_type": "code",
   "execution_count": 26,
   "metadata": {
    "collapsed": false
   },
   "outputs": [],
   "source": [
    "grp_df = pdf.groupby('percent_group').agg({'PURCHASE_SUMMA': 'sum', 'PURCHASE_UNITS': 'sum', 'profit_prc': 'count'})"
   ]
  },
  {
   "cell_type": "code",
   "execution_count": 27,
   "metadata": {
    "collapsed": false
   },
   "outputs": [
    {
     "data": {
      "text/html": [
       "<div>\n",
       "<table border=\"1\" class=\"dataframe\">\n",
       "  <thead>\n",
       "    <tr style=\"text-align: right;\">\n",
       "      <th></th>\n",
       "      <th>percent_group</th>\n",
       "      <th>PURCHASE_SUMMA</th>\n",
       "      <th>PURCHASE_UNITS</th>\n",
       "      <th>profit_prc</th>\n",
       "    </tr>\n",
       "  </thead>\n",
       "  <tbody>\n",
       "    <tr>\n",
       "      <th>0</th>\n",
       "      <td>10</td>\n",
       "      <td>1.317954e+08</td>\n",
       "      <td>117215</td>\n",
       "      <td>775</td>\n",
       "    </tr>\n",
       "    <tr>\n",
       "      <th>1</th>\n",
       "      <td>20</td>\n",
       "      <td>1.319785e+08</td>\n",
       "      <td>128194</td>\n",
       "      <td>1356</td>\n",
       "    </tr>\n",
       "    <tr>\n",
       "      <th>2</th>\n",
       "      <td>30</td>\n",
       "      <td>1.318971e+08</td>\n",
       "      <td>130320</td>\n",
       "      <td>1890</td>\n",
       "    </tr>\n",
       "    <tr>\n",
       "      <th>3</th>\n",
       "      <td>40</td>\n",
       "      <td>1.319157e+08</td>\n",
       "      <td>133878</td>\n",
       "      <td>2476</td>\n",
       "    </tr>\n",
       "    <tr>\n",
       "      <th>4</th>\n",
       "      <td>50</td>\n",
       "      <td>1.318964e+08</td>\n",
       "      <td>141473</td>\n",
       "      <td>3171</td>\n",
       "    </tr>\n",
       "  </tbody>\n",
       "</table>\n",
       "</div>"
      ],
      "text/plain": [
       "  percent_group  PURCHASE_SUMMA  PURCHASE_UNITS  profit_prc\n",
       "0            10    1.317954e+08          117215         775\n",
       "1            20    1.319785e+08          128194        1356\n",
       "2            30    1.318971e+08          130320        1890\n",
       "3            40    1.319157e+08          133878        2476\n",
       "4            50    1.318964e+08          141473        3171"
      ]
     },
     "execution_count": 27,
     "metadata": {},
     "output_type": "execute_result"
    }
   ],
   "source": [
    "grp_df = grp_df.reset_index()\n",
    "grp_df.head(5)"
   ]
  },
  {
   "cell_type": "code",
   "execution_count": 55,
   "metadata": {
    "collapsed": false
   },
   "outputs": [],
   "source": [
    "grp_df = grp_df.rename(columns={'profit_prc':'client_count'})\n"
   ]
  },
  {
   "cell_type": "code",
   "execution_count": 70,
   "metadata": {
    "collapsed": false
   },
   "outputs": [],
   "source": [
    "grp_df['client_cumsum'] = grp_df['client_count'].cumsum()\n",
    "grp_df['profit_percent'] = grp_df['percent_group'].astype(int)"
   ]
  },
  {
   "cell_type": "markdown",
   "metadata": {},
   "source": [
    "Сколько клиентов приносит прибыль в процентном отношении"
   ]
  },
  {
   "cell_type": "code",
   "execution_count": 71,
   "metadata": {
    "collapsed": false
   },
   "outputs": [
    {
     "data": {
      "text/plain": [
       "<matplotlib.collections.PolyCollection at 0x245c6ac39e8>"
      ]
     },
     "execution_count": 71,
     "metadata": {},
     "output_type": "execute_result"
    },
    {
     "data": {
      "image/png": "[encoded data removed]",
      "text/plain": [
       "<matplotlib.figure.Figure at 0x245c6ac3160>"
      ]
     },
     "metadata": {},
     "output_type": "display_data"
    }
   ],
   "source": [
    "#fig, ax1= plt.subplots(1, 1)\n",
    "#ax1.figsize=(20, 20)\n",
    "\n",
    "#,df['PURCHASE_UNITS_KIDS'],df['PURCHASE_UNITS_MEN'],df['PURCHASE_UNITS_WOMEN']\n",
    "#df.sort_values()\n",
    "#grp_df['percent_group'].astype(int)\n",
    "#grp_df['percent_group']+10\n",
    "ax = grp_df.plot(y='profit_percent',x='client_cumsum', figsize=(20, 20), )\n",
    "ax.set_xlabel(\"profit percent\")\n",
    "ax.set_ylabel(\"client count\")  \n",
    "ax.fill_between(grp_df['client_cumsum'], 0, grp_df['profit_percent'])\n",
    "#df[['PURCHASE_UNITS']].stackplot()\n"
   ]
  },
  {
   "cell_type": "code",
   "execution_count": null,
   "metadata": {
    "collapsed": true
   },
   "outputs": [],
   "source": []
  }
 ],
 "metadata": {
  "kernelspec": {
   "display_name": "Python 3",
   "language": "python",
   "name": "python3"
  }
 },
 "nbformat": 4,
 "nbformat_minor": 2
}
